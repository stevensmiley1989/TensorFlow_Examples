{
  "nbformat": 4,
  "nbformat_minor": 0,
  "metadata": {
    "colab": {
      "name": "TF_CNN_Sequential_NLP_imdb_reviews.ipynb",
      "provenance": [],
      "collapsed_sections": [],
      "toc_visible": true
    },
    "kernelspec": {
      "name": "python3",
      "display_name": "Python 3"
    },
    "language_info": {
      "name": "python"
    }
  },
  "cells": [
    {
      "cell_type": "markdown",
      "metadata": {
        "id": "JLNmbNWawmZZ"
      },
      "source": [
        "# 1.0 Purpose\n",
        "The purpose of this notebook is to use Embedding for a Natural Language Processing (NLP) task with TensorFlow on the imbd_reviews dataset.  Predictions are \"1\" for a bad review and \"0\" for  a good review."
      ]
    },
    {
      "cell_type": "markdown",
      "metadata": {
        "id": "wcR7-l_Dw09x"
      },
      "source": [
        "# 2.0 Import Libraries"
      ]
    },
    {
      "cell_type": "code",
      "metadata": {
        "colab": {
          "base_uri": "https://localhost:8080/"
        },
        "id": "E6y0wNF9cYgp",
        "outputId": "5748fe22-9bd5-4c0b-c977-2465c11d7c2e"
      },
      "source": [
        "import tensorflow as tf\n",
        "from tensorflow.keras.preprocessing.text import Tokenizer\n",
        "from tensorflow.keras.preprocessing.sequence import pad_sequences\n",
        "import tensorflow_datasets as tfds\n",
        "import seaborn as sns\n",
        "import pandas as pd\n",
        "import matplotlib.pyplot as plt\n",
        "print(tf.__version__)"
      ],
      "execution_count": 1,
      "outputs": [
        {
          "output_type": "stream",
          "text": [
            "2.5.0\n"
          ],
          "name": "stdout"
        }
      ]
    },
    {
      "cell_type": "markdown",
      "metadata": {
        "id": "4k4ixhbA5rd3"
      },
      "source": [
        "## Helper Functions"
      ]
    },
    {
      "cell_type": "markdown",
      "metadata": {
        "id": "aEScNl4x2LqS"
      },
      "source": [
        "### decode_review"
      ]
    },
    {
      "cell_type": "code",
      "metadata": {
        "id": "L_pqMppSgBDm"
      },
      "source": [
        "def decode_review(text):\n",
        "    return ' '.join([reverse_word_index.get(i, '?') for i in text])\n",
        "\n"
      ],
      "execution_count": 2,
      "outputs": []
    },
    {
      "cell_type": "markdown",
      "metadata": {
        "id": "ui35OFgL2PXd"
      },
      "source": [
        "### get_training_metrics"
      ]
    },
    {
      "cell_type": "code",
      "metadata": {
        "id": "mZtREbov1mqD"
      },
      "source": [
        "def get_training_metrics(history):\n",
        "  \n",
        "  # This is needed depending on if you used the pretrained model or you trained it yourself\n",
        "  if not isinstance(history, pd.core.frame.DataFrame):\n",
        "    history = history.history\n",
        "  \n",
        "  acc = history['binary_accuracy']\n",
        "  val_acc = history['val_binary_accuracy']\n",
        "\n",
        "  loss = history['loss']\n",
        "  val_loss = history['val_loss']\n",
        "\n",
        "  return acc, val_acc, loss, val_loss"
      ],
      "execution_count": 3,
      "outputs": []
    },
    {
      "cell_type": "markdown",
      "metadata": {
        "id": "oeJ5Jd_M2b6n"
      },
      "source": [
        "### plot_train_eval"
      ]
    },
    {
      "cell_type": "code",
      "metadata": {
        "id": "zTbiFeyJ2VCr"
      },
      "source": [
        "def plot_train_eval(history,name='',parameters='',optimizer_name='',loss='',accuracy_metric='',epochs='',vocab_size='',embedding_dim='',max_length='',trunc_type='',oov_tok=''):\n",
        "  acc, val_acc, loss_values, val_loss = get_training_metrics(history)\n",
        "\n",
        "  acc_plot = pd.DataFrame({\"training accuracy\":acc, \"evaluation accuracy\":val_acc})\n",
        "  acc_plot = sns.lineplot(data=acc_plot)\n",
        "  acc_plot.set_title(f'training vs evaluation accuracy: {name} \\n # parameters={parameters} \\n optimizer_name={optimizer_name} \\n loss={loss} \\n accuracy_metric={accuracy_metric} \\n epochs={epochs} \\n vocab_size={vocab_size} \\n embedding_dim={embedding_dim} \\n max_length={max_length} \\n trunc_type={trunc_type} \\n oov_tok={oov_tok}')\n",
        "  acc_plot.set_xlabel('epoch')\n",
        "  acc_plot.set_ylabel(accuracy_metric)\n",
        "  plt.savefig(f'{name} - train_acc_vs_eval_acc.jpg',bbox_inches='tight')\n",
        "  plt.show()\n",
        "\n",
        "\n",
        "  print(\"\")\n",
        "\n",
        "  loss_plot = pd.DataFrame({\"training loss\":loss_values, \"evaluation loss\":val_loss})\n",
        "  loss_plot = sns.lineplot(data=loss_plot)\n",
        "  loss_plot.set_title(f'training vs evaluation loss: {name} \\n # parameters={parameters} \\n optimizer_name={optimizer_name}  \\n loss={loss} \\naccuracy_metric={accuracy_metric} \\n epochs={epochs} \\n vocab_size={vocab_size} \\n embedding_dim={embedding_dim} \\n max_length={max_length} \\n trunc_type={trunc_type} \\n oov_tok={oov_tok}')\n",
        "  loss_plot.set_xlabel('epoch')\n",
        "  loss_plot.set_ylabel(loss)\n",
        "  plt.savefig(f'{name} - train_loss_vs_eval_loss.jpg',bbox_inches='tight')\n",
        "  plt.show()"
      ],
      "execution_count": 4,
      "outputs": []
    },
    {
      "cell_type": "markdown",
      "metadata": {
        "id": "U12-cl_b7GaS"
      },
      "source": [
        "### model_picker"
      ]
    },
    {
      "cell_type": "code",
      "metadata": {
        "id": "dcEjNngH6QKK"
      },
      "source": [
        "def model_picker(vocab_size=100,embedding_dim=16,input_length=100,model_name='model1'):\n",
        "\n",
        "  if model_name=='model1':\n",
        "    model = tf.keras.Sequential([\n",
        "                                tf.keras.layers.Embedding(vocab_size, embedding_dim, input_length=max_length),\n",
        "                                tf.keras.layers.Flatten(),\n",
        "                                tf.keras.layers.Dense(6,activation='relu'),\n",
        "                                tf.keras.layers.Dense(1,activation='sigmoid')\n",
        "    ])\n",
        "    model_description=f'Embedding(vocab_size={vocab_size}, \\n embedding_dim={embedding_dim}, \\n input_length={max_length}), \\n Flatten, \\n Dense(6,relu), \\n Dense(1,sigmoid)'\n",
        "  elif model_name=='model2':\n",
        "    model = tf.keras.Sequential([\n",
        "                                tf.keras.layers.Embedding(vocab_size, embedding_dim, input_length=max_length),\n",
        "                                tf.keras.layers.GlobalAveragePooling1D(),\n",
        "                                tf.keras.layers.Dense(6,activation='relu'),\n",
        "                                tf.keras.layers.Dense(1,activation='sigmoid')\n",
        "    ])\n",
        "    model_description=f'Embedding(vocab_size={vocab_size},embedding_dim={embedding_dim},input_length={max_length}), \\n GlobalAveragePooling1D,\\n Dense(6,relu), \\n Dense(1,sigmoid)'\n",
        "  elif model_name=='model3':\n",
        "    model = tf.keras.Sequential([\n",
        "    tf.keras.layers.Embedding(vocab_size, embedding_dim),\n",
        "    tf.keras.layers.Bidirectional(tf.keras.layers.LSTM(64, return_sequences=True)),\n",
        "    tf.keras.layers.Bidirectional(tf.keras.layers.LSTM(32)),\n",
        "    tf.keras.layers.Dense(64, activation='relu'),\n",
        "    tf.keras.layers.Dense(1, activation='sigmoid')\n",
        "])\n",
        "    model_description=f'Embedding(vocab_size={vocab_size}, \\n embedding_dim={embedding_dim}), \\n Bidirectional(LSTM(64,return_sequences=True)), \\n Bidirectional(LSTM(32)), \\n Dense(64,relu), \\n Dense(1,sigmoid)'\n",
        "  elif model_name=='model4':\n",
        "    model = tf.keras.Sequential([\n",
        "    tf.keras.layers.Embedding(vocab_size, embedding_dim, input_length=max_length),\n",
        "    tf.keras.layers.Bidirectional(tf.keras.layers.LSTM(32)),\n",
        "    tf.keras.layers.Dense(24, activation='relu'),\n",
        "    tf.keras.layers.Dense(1, activation='sigmoid')\n",
        "])\n",
        "    model_description=f'Embedding(vocab_size={vocab_size}, \\n embedding_dim={embedding_dim}), \\n Bidirectional(LSTM(32)), \\n Dense(24,relu), \\n Dense(1,sigmoid)'\n",
        "  elif model_name=='model5':\n",
        "    model = tf.keras.Sequential([\n",
        "    tf.keras.layers.Embedding(vocab_size, embedding_dim, input_length=max_length),\n",
        "    tf.keras.layers.Bidirectional(tf.keras.layers.LSTM(32)),\n",
        "    tf.keras.layers.Dense(6, activation='relu'),\n",
        "    tf.keras.layers.Dense(1, activation='sigmoid')\n",
        "])\n",
        "    model_description=f'Embedding(vocab_size={vocab_size},embedding_dim={embedding_dim},input_length={max_length}), \\n Bidirectional(LSTM(32)),Dense(6,relu),Dense(1,sigmoid)'\n",
        "  elif model_name=='model6':\n",
        "    model = tf.keras.Sequential([\n",
        "  tf.keras.layers.Embedding(vocab_size, embedding_dim, input_length=max_length),\n",
        "  tf.keras.layers.Conv1D(128, 5, activation='relu'),\n",
        "  tf.keras.layers.GlobalAveragePooling1D(),\n",
        "  tf.keras.layers.Dense(6, activation='relu'),\n",
        "  tf.keras.layers.Dense(1, activation='sigmoid')\n",
        "])\n",
        "    model_description=f'Embedding(vocab_size={vocab_size},embedding_dim={embedding_dim},input_length={max_length}), \\n Conv1D(128,5,activation=relu), \\n GlobalAveragePooling1D, \\n Dense(6,relu),Dense(1,sigmoid)'\n",
        "  elif model_name=='model7':\n",
        "    model = tf.keras.Sequential([\n",
        "    tf.keras.layers.Embedding(vocab_size, embedding_dim, input_length=max_length),\n",
        "    tf.keras.layers.Bidirectional(tf.keras.layers.GRU(32)),\n",
        "    tf.keras.layers.Dense(6, activation='relu'),\n",
        "    tf.keras.layers.Dense(1, activation='sigmoid')\n",
        "])\n",
        "    model_description=f'Embedding(vocab_size={vocab_size},embedding_dim={embedding_dim},input_length={max_length}), \\n Bidirectional(GRU(32)),Dense(6,relu),Dense(1,sigmoid)'\n",
        "  return model,model_description"
      ],
      "execution_count": 5,
      "outputs": []
    },
    {
      "cell_type": "markdown",
      "metadata": {
        "id": "d7CODBZ6w4Gg"
      },
      "source": [
        "# 3.0 Import **imbd_reviews**"
      ]
    },
    {
      "cell_type": "markdown",
      "metadata": {
        "id": "CfqvO9PGkWvy"
      },
      "source": [
        "https://www.tensorflow.org/datasets/catalog/imdb_reviews"
      ]
    },
    {
      "cell_type": "code",
      "metadata": {
        "id": "SswhRRRWccPt"
      },
      "source": [
        "\n",
        "imdb, info = tfds.load(\"imdb_reviews\", with_info=True, as_supervised=True,download=True)\n"
      ],
      "execution_count": 6,
      "outputs": []
    },
    {
      "cell_type": "code",
      "metadata": {
        "colab": {
          "base_uri": "https://localhost:8080/",
          "height": 50
        },
        "id": "vyppt0CJ2plx",
        "outputId": "f5c248c3-6765-4521-c301-2ba1506d4d8a"
      },
      "source": [
        "cols=['filename','model_name','model_description',\n",
        "      'optimizer',\n",
        "      'loss',\n",
        "      'accuracy_metric','epochs','vocab_size','embedding_dim','max_length','trunc_type','oov_tok','final_eval_loss','final_eval_acc']\n",
        "df_metrics=pd.DataFrame(columns=cols)\n",
        "df_metrics"
      ],
      "execution_count": 7,
      "outputs": [
        {
          "output_type": "execute_result",
          "data": {
            "text/html": [
              "<div>\n",
              "<style scoped>\n",
              "    .dataframe tbody tr th:only-of-type {\n",
              "        vertical-align: middle;\n",
              "    }\n",
              "\n",
              "    .dataframe tbody tr th {\n",
              "        vertical-align: top;\n",
              "    }\n",
              "\n",
              "    .dataframe thead th {\n",
              "        text-align: right;\n",
              "    }\n",
              "</style>\n",
              "<table border=\"1\" class=\"dataframe\">\n",
              "  <thead>\n",
              "    <tr style=\"text-align: right;\">\n",
              "      <th></th>\n",
              "      <th>filename</th>\n",
              "      <th>model_name</th>\n",
              "      <th>model_description</th>\n",
              "      <th>optimizer</th>\n",
              "      <th>loss</th>\n",
              "      <th>accuracy_metric</th>\n",
              "      <th>epochs</th>\n",
              "      <th>vocab_size</th>\n",
              "      <th>embedding_dim</th>\n",
              "      <th>max_length</th>\n",
              "      <th>trunc_type</th>\n",
              "      <th>oov_tok</th>\n",
              "      <th>final_eval_loss</th>\n",
              "      <th>final_eval_acc</th>\n",
              "    </tr>\n",
              "  </thead>\n",
              "  <tbody>\n",
              "  </tbody>\n",
              "</table>\n",
              "</div>"
            ],
            "text/plain": [
              "Empty DataFrame\n",
              "Columns: [filename, model_name, model_description, optimizer, loss, accuracy_metric, epochs, vocab_size, embedding_dim, max_length, trunc_type, oov_tok, final_eval_loss, final_eval_acc]\n",
              "Index: []"
            ]
          },
          "metadata": {
            "tags": []
          },
          "execution_count": 7
        }
      ]
    },
    {
      "cell_type": "markdown",
      "metadata": {
        "id": "QPDaSoerw9Ua"
      },
      "source": [
        "# 4.1 model1"
      ]
    },
    {
      "cell_type": "markdown",
      "metadata": {
        "id": "IVxSAgiYy1Rr"
      },
      "source": [
        "## Set Embedding/Modeling Parameters"
      ]
    },
    {
      "cell_type": "code",
      "metadata": {
        "id": "Tnt1QscXfnvK"
      },
      "source": [
        "filename='TF_CNN_Sequential_NLP_imdb_reviews.ipynb'\n",
        "model_name='model1'\n",
        "optimizer='adam'\n",
        "optimizer_name=str(optimizer)\n",
        "loss='binary_crossentropy'\n",
        "accuracy_metric='binary_accuracy'\n",
        "epochs=10\n",
        "\n",
        "vocab_size = 10000\n",
        "embedding_dim = 16\n",
        "max_length = 120\n",
        "trunc_type='post'\n",
        "oov_tok = '<OOV>'"
      ],
      "execution_count": 8,
      "outputs": []
    },
    {
      "cell_type": "markdown",
      "metadata": {
        "id": "uC5GIpB-CZHv"
      },
      "source": [
        "## Split Train/Test"
      ]
    },
    {
      "cell_type": "code",
      "metadata": {
        "id": "Z4mHHDs3cyu7"
      },
      "source": [
        "train_data, test_data = imdb['train'], imdb['test']"
      ],
      "execution_count": 9,
      "outputs": []
    },
    {
      "cell_type": "code",
      "metadata": {
        "id": "HwBZzrNnfc5B"
      },
      "source": [
        "training_sentences = []\n",
        "training_labels = []\n",
        "\n",
        "testing_sentences = []\n",
        "testing_labels = []"
      ],
      "execution_count": 10,
      "outputs": []
    },
    {
      "cell_type": "code",
      "metadata": {
        "id": "1BFhuEW3ffTx"
      },
      "source": [
        "for s, l in train_data:\n",
        "  training_sentences.append(str(s.numpy()))\n",
        "  training_labels.append(l.numpy())"
      ],
      "execution_count": 11,
      "outputs": []
    },
    {
      "cell_type": "code",
      "metadata": {
        "id": "i7jCR1k6fhZg"
      },
      "source": [
        "for s, l in test_data:\n",
        "  testing_sentences.append(str(s.numpy()))\n",
        "  testing_labels.append(l.numpy())"
      ],
      "execution_count": 12,
      "outputs": []
    },
    {
      "cell_type": "code",
      "metadata": {
        "id": "_HW2TCqlflwd"
      },
      "source": [
        "import numpy as np\n",
        "training_labels_final = np.array(training_labels)\n",
        "testing_labels_final = np.array(testing_labels)"
      ],
      "execution_count": 13,
      "outputs": []
    },
    {
      "cell_type": "markdown",
      "metadata": {
        "id": "623CjvbKy6Gq"
      },
      "source": [
        "## Create Tokenizer"
      ]
    },
    {
      "cell_type": "code",
      "metadata": {
        "id": "Iw8lT9GFc5OV"
      },
      "source": [
        "tokenizer = Tokenizer(num_words = vocab_size, oov_token=oov_tok) #create tokenizer that has a vocab_size & oov_token specified above"
      ],
      "execution_count": 14,
      "outputs": []
    },
    {
      "cell_type": "code",
      "metadata": {
        "colab": {
          "base_uri": "https://localhost:8080/"
        },
        "id": "bb6j7Ae8c669",
        "outputId": "a659b788-4e7e-499c-e571-33beb692be48"
      },
      "source": [
        "testing_labels_final.max() #ensure max is still 1 for a \"bad\" review"
      ],
      "execution_count": 15,
      "outputs": [
        {
          "output_type": "execute_result",
          "data": {
            "text/plain": [
              "1"
            ]
          },
          "metadata": {
            "tags": []
          },
          "execution_count": 15
        }
      ]
    },
    {
      "cell_type": "code",
      "metadata": {
        "id": "gl8jg-SLf3cN"
      },
      "source": [
        "tokenizer.fit_on_texts(training_sentences) #fit the tokenizer on the training_sentences "
      ],
      "execution_count": 16,
      "outputs": []
    },
    {
      "cell_type": "code",
      "metadata": {
        "id": "19U3LozGxWph"
      },
      "source": [
        "word_index = tokenizer.word_index #get the word index for the tokenizer"
      ],
      "execution_count": 17,
      "outputs": []
    },
    {
      "cell_type": "code",
      "metadata": {
        "id": "fkwtWEl5xafa"
      },
      "source": [
        "sequences = tokenizer.texts_to_sequences(training_sentences) #convert texts to sequences using the tokenizer"
      ],
      "execution_count": 18,
      "outputs": []
    },
    {
      "cell_type": "code",
      "metadata": {
        "id": "qAqEeo2af5Di"
      },
      "source": [
        "padded = pad_sequences(sequences, maxlen=max_length, truncating=trunc_type) # pad the sequences by the max_length with truncation set to trunc_type"
      ],
      "execution_count": 19,
      "outputs": []
    },
    {
      "cell_type": "code",
      "metadata": {
        "id": "gmBnxQqYxzBp"
      },
      "source": [
        "testing_sequences = tokenizer.texts_to_sequences(testing_sentences) # convert the testing_sentences to testing_sequences"
      ],
      "execution_count": 20,
      "outputs": []
    },
    {
      "cell_type": "code",
      "metadata": {
        "id": "CiuQKvoMf_yd"
      },
      "source": [
        "testing_padded = pad_sequences(testing_sequences, maxlen=max_length) # convert the testing_sequences to testing_padded"
      ],
      "execution_count": 21,
      "outputs": []
    },
    {
      "cell_type": "code",
      "metadata": {
        "id": "PtiZvpCxyIO2"
      },
      "source": [
        "reverse_word_index = dict([(value, key) for (key, value) in word_index.items()]) # reverse the key,value from word_index to check index value to key"
      ],
      "execution_count": 22,
      "outputs": []
    },
    {
      "cell_type": "code",
      "metadata": {
        "colab": {
          "base_uri": "https://localhost:8080/"
        },
        "id": "lpZMCzq_DFwb",
        "outputId": "ccaa39ea-f399-4adc-ace9-a6399ea633bf"
      },
      "source": [
        "print(decode_review(padded[0])) #This is after it has been padded and OOV in place, but decoded.  Recall this is actually padded as a sequence of numbers for training\n",
        "print(training_sentences[0]) #This is the original"
      ],
      "execution_count": 23,
      "outputs": [
        {
          "output_type": "stream",
          "text": [
            "? ? b this was an absolutely terrible movie don't be <OOV> in by christopher walken or michael <OOV> both are great actors but this must simply be their worst role in history even their great acting could not redeem this movie's ridiculous storyline this movie is an early nineties us propaganda piece the most pathetic scenes were those when the <OOV> rebels were making their cases for <OOV> maria <OOV> <OOV> appeared phony and her pseudo love affair with walken was nothing but a pathetic emotional plug in a movie that was devoid of any real meaning i am disappointed that there are movies like this ruining <OOV> like christopher <OOV> good name i could barely sit through it\n",
            "b\"This was an absolutely terrible movie. Don't be lured in by Christopher Walken or Michael Ironside. Both are great actors, but this must simply be their worst role in history. Even their great acting could not redeem this movie's ridiculous storyline. This movie is an early nineties US propaganda piece. The most pathetic scenes were those when the Columbian rebels were making their cases for revolutions. Maria Conchita Alonso appeared phony, and her pseudo-love affair with Walken was nothing but a pathetic emotional plug in a movie that was devoid of any real meaning. I am disappointed that there are movies like this, ruining actor's like Christopher Walken's good name. I could barely sit through it.\"\n"
          ],
          "name": "stdout"
        }
      ]
    },
    {
      "cell_type": "markdown",
      "metadata": {
        "id": "8XgIOO-Jz1_P"
      },
      "source": [
        "## Create Model"
      ]
    },
    {
      "cell_type": "code",
      "metadata": {
        "id": "9w-whECxgNXd"
      },
      "source": [
        "model,model_description=model_picker(vocab_size=vocab_size,embedding_dim=embedding_dim,input_length=max_length,model_name='model1')"
      ],
      "execution_count": 24,
      "outputs": []
    },
    {
      "cell_type": "code",
      "metadata": {
        "colab": {
          "base_uri": "https://localhost:8080/"
        },
        "id": "W6o1ai-Hk7_V",
        "outputId": "951c18bd-5895-48f5-95ca-0fb42d98ecf9"
      },
      "source": [
        "model.summary()"
      ],
      "execution_count": 25,
      "outputs": [
        {
          "output_type": "stream",
          "text": [
            "Model: \"sequential\"\n",
            "_________________________________________________________________\n",
            "Layer (type)                 Output Shape              Param #   \n",
            "=================================================================\n",
            "embedding (Embedding)        (None, 120, 16)           160000    \n",
            "_________________________________________________________________\n",
            "flatten (Flatten)            (None, 1920)              0         \n",
            "_________________________________________________________________\n",
            "dense (Dense)                (None, 6)                 11526     \n",
            "_________________________________________________________________\n",
            "dense_1 (Dense)              (None, 1)                 7         \n",
            "=================================================================\n",
            "Total params: 171,533\n",
            "Trainable params: 171,533\n",
            "Non-trainable params: 0\n",
            "_________________________________________________________________\n"
          ],
          "name": "stdout"
        }
      ]
    },
    {
      "cell_type": "code",
      "metadata": {
        "id": "5kVBajeAk-aH"
      },
      "source": [
        "model.compile(loss=loss,optimizer=optimizer,metrics=[accuracy_metric])"
      ],
      "execution_count": 26,
      "outputs": []
    },
    {
      "cell_type": "markdown",
      "metadata": {
        "id": "PdFKvDgP0O9U"
      },
      "source": [
        "## Train Model"
      ]
    },
    {
      "cell_type": "code",
      "metadata": {
        "colab": {
          "base_uri": "https://localhost:8080/"
        },
        "id": "NLpCqiZ_lA-n",
        "outputId": "3e1797c5-1015-4e95-d983-3a264b6dffb8"
      },
      "source": [
        "history=model.fit(padded, training_labels_final,epochs=epochs,validation_data=(testing_padded,\n",
        "                                                                           testing_labels_final))"
      ],
      "execution_count": 27,
      "outputs": [
        {
          "output_type": "stream",
          "text": [
            "Epoch 1/10\n",
            "782/782 [==============================] - 6s 7ms/step - loss: 0.4976 - binary_accuracy: 0.7365 - val_loss: 0.3465 - val_binary_accuracy: 0.8481\n",
            "Epoch 2/10\n",
            "782/782 [==============================] - 5s 6ms/step - loss: 0.2433 - binary_accuracy: 0.9058 - val_loss: 0.3652 - val_binary_accuracy: 0.8405\n",
            "Epoch 3/10\n",
            "782/782 [==============================] - 4s 6ms/step - loss: 0.0944 - binary_accuracy: 0.9762 - val_loss: 0.4677 - val_binary_accuracy: 0.8222\n",
            "Epoch 4/10\n",
            "782/782 [==============================] - 5s 6ms/step - loss: 0.0239 - binary_accuracy: 0.9965 - val_loss: 0.5554 - val_binary_accuracy: 0.8181\n",
            "Epoch 5/10\n",
            "782/782 [==============================] - 5s 6ms/step - loss: 0.0058 - binary_accuracy: 0.9997 - val_loss: 0.5818 - val_binary_accuracy: 0.8270\n",
            "Epoch 6/10\n",
            "782/782 [==============================] - 5s 7ms/step - loss: 0.0018 - binary_accuracy: 1.0000 - val_loss: 0.6327 - val_binary_accuracy: 0.8287\n",
            "Epoch 7/10\n",
            "782/782 [==============================] - 4s 6ms/step - loss: 9.0809e-04 - binary_accuracy: 1.0000 - val_loss: 0.6730 - val_binary_accuracy: 0.8294\n",
            "Epoch 8/10\n",
            "782/782 [==============================] - 4s 5ms/step - loss: 4.7410e-04 - binary_accuracy: 1.0000 - val_loss: 0.7110 - val_binary_accuracy: 0.8293\n",
            "Epoch 9/10\n",
            "782/782 [==============================] - 4s 6ms/step - loss: 2.7222e-04 - binary_accuracy: 1.0000 - val_loss: 0.7479 - val_binary_accuracy: 0.8292\n",
            "Epoch 10/10\n",
            "782/782 [==============================] - 5s 6ms/step - loss: 1.6415e-04 - binary_accuracy: 1.0000 - val_loss: 0.7843 - val_binary_accuracy: 0.8290\n"
          ],
          "name": "stdout"
        }
      ]
    },
    {
      "cell_type": "markdown",
      "metadata": {
        "id": "tg-CNEsD0UWk"
      },
      "source": [
        "## Evaluate Model"
      ]
    },
    {
      "cell_type": "code",
      "metadata": {
        "colab": {
          "base_uri": "https://localhost:8080/"
        },
        "id": "S8N3OhMZlFTE",
        "outputId": "3c4caa96-f8e9-4375-befb-707bafd5e3fd"
      },
      "source": [
        "e = model.layers[0]\n",
        "weights=e.get_weights()[0]\n",
        "print(weights.shape) # shape: (vocab_size, embedding_dim)"
      ],
      "execution_count": 28,
      "outputs": [
        {
          "output_type": "stream",
          "text": [
            "(10000, 16)\n"
          ],
          "name": "stdout"
        }
      ]
    },
    {
      "cell_type": "code",
      "metadata": {
        "colab": {
          "base_uri": "https://localhost:8080/"
        },
        "id": "ykh7ySMh-3Ux",
        "outputId": "3d0c3374-faee-4394-8487-2ad035101f58"
      },
      "source": [
        "final_eval_loss,final_eval_acc=model.evaluate(testing_padded,testing_labels_final)"
      ],
      "execution_count": 29,
      "outputs": [
        {
          "output_type": "stream",
          "text": [
            "782/782 [==============================] - 1s 1ms/step - loss: 0.7843 - binary_accuracy: 0.8290\n"
          ],
          "name": "stdout"
        }
      ]
    },
    {
      "cell_type": "code",
      "metadata": {
        "colab": {
          "base_uri": "https://localhost:8080/"
        },
        "id": "VLlVGlms__5L",
        "outputId": "6988d3d6-c5f9-4cc9-a561-3298c50a4af1"
      },
      "source": [
        "final_eval_loss"
      ],
      "execution_count": 30,
      "outputs": [
        {
          "output_type": "execute_result",
          "data": {
            "text/plain": [
              "0.784347653388977"
            ]
          },
          "metadata": {
            "tags": []
          },
          "execution_count": 30
        }
      ]
    },
    {
      "cell_type": "code",
      "metadata": {
        "colab": {
          "base_uri": "https://localhost:8080/"
        },
        "id": "OAmBjzYc2BZl",
        "outputId": "fae4de90-d758-4cb3-c697-1d50a199cec6"
      },
      "source": [
        "trainableParams = np.sum([np.prod(v.get_shape()) for v in model.trainable_weights])\n",
        "trainableParams"
      ],
      "execution_count": 31,
      "outputs": [
        {
          "output_type": "execute_result",
          "data": {
            "text/plain": [
              "171533"
            ]
          },
          "metadata": {
            "tags": []
          },
          "execution_count": 31
        }
      ]
    },
    {
      "cell_type": "code",
      "metadata": {
        "colab": {
          "base_uri": "https://localhost:8080/",
          "height": 891
        },
        "id": "USQTrKfn2FXe",
        "outputId": "e79383c0-0e94-4d4e-c19c-f0f21c7948e9"
      },
      "source": [
        "plot_train_eval(history,model_name,trainableParams,optimizer_name,loss,accuracy_metric,epochs,vocab_size,embedding_dim,max_length,trunc_type,oov_tok)"
      ],
      "execution_count": 32,
      "outputs": [
        {
          "output_type": "display_data",
          "data": {
            "image/png": "[encoded data removed]",
            "text/plain": [
              "<Figure size 432x288 with 1 Axes>"
            ]
          },
          "metadata": {
            "tags": [],
            "needs_background": "light"
          }
        },
        {
          "output_type": "stream",
          "text": [
            "\n"
          ],
          "name": "stdout"
        },
        {
          "output_type": "display_data",
          "data": {
            "image/png": "[encoded data removed]",
            "text/plain": [
              "<Figure size 432x288 with 1 Axes>"
            ]
          },
          "metadata": {
            "tags": [],
            "needs_background": "light"
          }
        }
      ]
    },
    {
      "cell_type": "code",
      "metadata": {
        "colab": {
          "base_uri": "https://localhost:8080/",
          "height": 119
        },
        "id": "VtcHyUnE99Vj",
        "outputId": "b265b7a5-91df-43db-885a-1c7e44073891"
      },
      "source": [
        "df=pd.DataFrame([[filename,model_name,model_description,optimizer,loss,accuracy_metric,epochs,vocab_size,embedding_dim,max_length,trunc_type,oov_tok,final_eval_loss,final_eval_acc]],columns=cols)\n",
        "df_metrics=df_metrics.append(df,ignore_index=True)\n",
        "df_metrics"
      ],
      "execution_count": 33,
      "outputs": [
        {
          "output_type": "execute_result",
          "data": {
            "text/html": [
              "<div>\n",
              "<style scoped>\n",
              "    .dataframe tbody tr th:only-of-type {\n",
              "        vertical-align: middle;\n",
              "    }\n",
              "\n",
              "    .dataframe tbody tr th {\n",
              "        vertical-align: top;\n",
              "    }\n",
              "\n",
              "    .dataframe thead th {\n",
              "        text-align: right;\n",
              "    }\n",
              "</style>\n",
              "<table border=\"1\" class=\"dataframe\">\n",
              "  <thead>\n",
              "    <tr style=\"text-align: right;\">\n",
              "      <th></th>\n",
              "      <th>filename</th>\n",
              "      <th>model_name</th>\n",
              "      <th>model_description</th>\n",
              "      <th>optimizer</th>\n",
              "      <th>loss</th>\n",
              "      <th>accuracy_metric</th>\n",
              "      <th>epochs</th>\n",
              "      <th>vocab_size</th>\n",
              "      <th>embedding_dim</th>\n",
              "      <th>max_length</th>\n",
              "      <th>trunc_type</th>\n",
              "      <th>oov_tok</th>\n",
              "      <th>final_eval_loss</th>\n",
              "      <th>final_eval_acc</th>\n",
              "    </tr>\n",
              "  </thead>\n",
              "  <tbody>\n",
              "    <tr>\n",
              "      <th>0</th>\n",
              "      <td>TF_CNN_Sequential_NLP_imdb_reviews.ipynb</td>\n",
              "      <td>model1</td>\n",
              "      <td>Embedding(vocab_size=10000, \\n embedding_dim=1...</td>\n",
              "      <td>adam</td>\n",
              "      <td>binary_crossentropy</td>\n",
              "      <td>binary_accuracy</td>\n",
              "      <td>10</td>\n",
              "      <td>10000</td>\n",
              "      <td>16</td>\n",
              "      <td>120</td>\n",
              "      <td>post</td>\n",
              "      <td>&lt;OOV&gt;</td>\n",
              "      <td>0.784348</td>\n",
              "      <td>0.829</td>\n",
              "    </tr>\n",
              "  </tbody>\n",
              "</table>\n",
              "</div>"
            ],
            "text/plain": [
              "                                   filename  ... final_eval_acc\n",
              "0  TF_CNN_Sequential_NLP_imdb_reviews.ipynb  ...          0.829\n",
              "\n",
              "[1 rows x 14 columns]"
            ]
          },
          "metadata": {
            "tags": []
          },
          "execution_count": 33
        }
      ]
    },
    {
      "cell_type": "code",
      "metadata": {
        "colab": {
          "base_uri": "https://localhost:8080/"
        },
        "id": "BIuJl9gEAfgL",
        "outputId": "2df7851f-b9bd-4978-d913-e45b40384d6e"
      },
      "source": [
        "model.save(model_name) #save model\n",
        "model=tf.keras.models.load_model(model_name) #load model\n",
        "df_metrics.to_excel('df_metrics.xlsx')"
      ],
      "execution_count": 34,
      "outputs": [
        {
          "output_type": "stream",
          "text": [
            "INFO:tensorflow:Assets written to: model1/assets\n"
          ],
          "name": "stdout"
        },
        {
          "output_type": "stream",
          "text": [
            "INFO:tensorflow:Assets written to: model1/assets\n"
          ],
          "name": "stderr"
        }
      ]
    },
    {
      "cell_type": "code",
      "metadata": {
        "id": "wUj68SuPlfgN"
      },
      "source": [
        "import io\n",
        "\n",
        "out_v = io.open(f'vecs_{model_name}.tsv', 'w', encoding='utf-8')\n",
        "out_m = io.open(f'meta_{model_name}.tsv', 'w', encoding='utf-8')\n",
        "for word_num in range(1, vocab_size):\n",
        "  word = reverse_word_index[word_num]\n",
        "  embeddings = weights[word_num]\n",
        "  out_m.write(word + \"\\n\")\n",
        "  out_v.write('\\t'.join([str(x) for x in embeddings]) + \"\\n\")\n",
        "out_v.close()\n",
        "out_m.close()"
      ],
      "execution_count": 35,
      "outputs": []
    },
    {
      "cell_type": "code",
      "metadata": {
        "colab": {
          "base_uri": "https://localhost:8080/",
          "height": 17
        },
        "id": "Tc8QvtGDlhuK",
        "outputId": "54671e63-b228-4211-bbda-29b728ef66ed"
      },
      "source": [
        "try:\n",
        "  from google.colab import files\n",
        "except ImportError:\n",
        "  pass\n",
        "else:\n",
        "  files.download(f'vecs_{model_name}.tsv')\n",
        "  files.download(f'meta_{model_name}.tsv')"
      ],
      "execution_count": 36,
      "outputs": [
        {
          "output_type": "display_data",
          "data": {
            "application/javascript": [
              "\n",
              "    async function download(id, filename, size) {\n",
              "      if (!google.colab.kernel.accessAllowed) {\n",
              "        return;\n",
              "      }\n",
              "      const div = document.createElement('div');\n",
              "      const label = document.createElement('label');\n",
              "      label.textContent = `Downloading \"${filename}\": `;\n",
              "      div.appendChild(label);\n",
              "      const progress = document.createElement('progress');\n",
              "      progress.max = size;\n",
              "      div.appendChild(progress);\n",
              "      document.body.appendChild(div);\n",
              "\n",
              "      const buffers = [];\n",
              "      let downloaded = 0;\n",
              "\n",
              "      const channel = await google.colab.kernel.comms.open(id);\n",
              "      // Send a message to notify the kernel that we're ready.\n",
              "      channel.send({})\n",
              "\n",
              "      for await (const message of channel.messages) {\n",
              "        // Send a message to notify the kernel that we're ready.\n",
              "        channel.send({})\n",
              "        if (message.buffers) {\n",
              "          for (const buffer of message.buffers) {\n",
              "            buffers.push(buffer);\n",
              "            downloaded += buffer.byteLength;\n",
              "            progress.value = downloaded;\n",
              "          }\n",
              "        }\n",
              "      }\n",
              "      const blob = new Blob(buffers, {type: 'application/binary'});\n",
              "      const a = document.createElement('a');\n",
              "      a.href = window.URL.createObjectURL(blob);\n",
              "      a.download = filename;\n",
              "      div.appendChild(a);\n",
              "      a.click();\n",
              "      div.remove();\n",
              "    }\n",
              "  "
            ],
            "text/plain": [
              "<IPython.core.display.Javascript object>"
            ]
          },
          "metadata": {
            "tags": []
          }
        },
        {
          "output_type": "display_data",
          "data": {
            "application/javascript": [
              "download(\"download_aa80ff65-19b6-4868-9a60-03967e518a77\", \"vecs_model1.tsv\", 1912881)"
            ],
            "text/plain": [
              "<IPython.core.display.Javascript object>"
            ]
          },
          "metadata": {
            "tags": []
          }
        },
        {
          "output_type": "display_data",
          "data": {
            "application/javascript": [
              "\n",
              "    async function download(id, filename, size) {\n",
              "      if (!google.colab.kernel.accessAllowed) {\n",
              "        return;\n",
              "      }\n",
              "      const div = document.createElement('div');\n",
              "      const label = document.createElement('label');\n",
              "      label.textContent = `Downloading \"${filename}\": `;\n",
              "      div.appendChild(label);\n",
              "      const progress = document.createElement('progress');\n",
              "      progress.max = size;\n",
              "      div.appendChild(progress);\n",
              "      document.body.appendChild(div);\n",
              "\n",
              "      const buffers = [];\n",
              "      let downloaded = 0;\n",
              "\n",
              "      const channel = await google.colab.kernel.comms.open(id);\n",
              "      // Send a message to notify the kernel that we're ready.\n",
              "      channel.send({})\n",
              "\n",
              "      for await (const message of channel.messages) {\n",
              "        // Send a message to notify the kernel that we're ready.\n",
              "        channel.send({})\n",
              "        if (message.buffers) {\n",
              "          for (const buffer of message.buffers) {\n",
              "            buffers.push(buffer);\n",
              "            downloaded += buffer.byteLength;\n",
              "            progress.value = downloaded;\n",
              "          }\n",
              "        }\n",
              "      }\n",
              "      const blob = new Blob(buffers, {type: 'application/binary'});\n",
              "      const a = document.createElement('a');\n",
              "      a.href = window.URL.createObjectURL(blob);\n",
              "      a.download = filename;\n",
              "      div.appendChild(a);\n",
              "      a.click();\n",
              "      div.remove();\n",
              "    }\n",
              "  "
            ],
            "text/plain": [
              "<IPython.core.display.Javascript object>"
            ]
          },
          "metadata": {
            "tags": []
          }
        },
        {
          "output_type": "display_data",
          "data": {
            "application/javascript": [
              "download(\"download_43742bcc-5865-4110-b4be-dfda9ce2e5bf\", \"meta_model1.tsv\", 75846)"
            ],
            "text/plain": [
              "<IPython.core.display.Javascript object>"
            ]
          },
          "metadata": {
            "tags": []
          }
        }
      ]
    },
    {
      "cell_type": "code",
      "metadata": {
        "colab": {
          "base_uri": "https://localhost:8080/"
        },
        "id": "xPksXcQUm5Yd",
        "outputId": "b40440a0-f011-4447-a352-b10a12f391d2"
      },
      "source": [
        "# Testing new Custom Reviews\n",
        "sentence1='What a great movie.'\n",
        "test1=tokenizer.texts_to_sequences([sentence1])\n",
        "test1= pad_sequences(test1, maxlen=max_length, truncating=trunc_type)\n",
        "answer=model.predict(test1)\n",
        "print(f'Review for this sentence: \\n {sentence1} \\n is a value of {answer}')\n",
        "print('This makes sense since it is a value close to 1, meaning a good review')\n",
        "print('\\n')\n",
        "\n",
        "sentence2='What a terrible movie.'\n",
        "test2=tokenizer.texts_to_sequences([sentence2])\n",
        "test2= pad_sequences(test2, maxlen=max_length, truncating=trunc_type)\n",
        "answer=model.predict(test2)\n",
        "print(f'Review for this sentence: \\n {sentence2} \\n is a value of {answer}')\n",
        "print('This makes sense since it is a value close to 0, meaning a bad review')"
      ],
      "execution_count": 37,
      "outputs": [
        {
          "output_type": "stream",
          "text": [
            "Review for this sentence: \n",
            " What a great movie. \n",
            " is a value of [[0.3522663]]\n",
            "This makes sense since it is a value close to 1, meaning a good review\n",
            "\n",
            "\n",
            "Review for this sentence: \n",
            " What a terrible movie. \n",
            " is a value of [[0.00077987]]\n",
            "This makes sense since it is a value close to 0, meaning a bad review\n"
          ],
          "name": "stdout"
        }
      ]
    },
    {
      "cell_type": "markdown",
      "metadata": {
        "id": "AQ5oj7HcC4Fm"
      },
      "source": [
        "# 4.2 model2"
      ]
    },
    {
      "cell_type": "markdown",
      "metadata": {
        "id": "8y1q-c3tC4Fn"
      },
      "source": [
        "## Set Embedding/Modeling Parameters"
      ]
    },
    {
      "cell_type": "code",
      "metadata": {
        "id": "kX-jmW75C4Fn"
      },
      "source": [
        "filename='TF_CNN_Sequential_NLP_imdb_reviews.ipynb'\n",
        "model_name='model2'\n",
        "optimizer='adam'\n",
        "optimizer_name=str(optimizer)\n",
        "loss='binary_crossentropy'\n",
        "accuracy_metric='binary_accuracy'\n",
        "epochs=10\n",
        "\n",
        "vocab_size = 10000\n",
        "embedding_dim = 16\n",
        "max_length = 120\n",
        "trunc_type='post'\n",
        "oov_tok = '<OOV>'"
      ],
      "execution_count": 38,
      "outputs": []
    },
    {
      "cell_type": "markdown",
      "metadata": {
        "id": "jWqsgHsAC4Fn"
      },
      "source": [
        "## Split Train/Test"
      ]
    },
    {
      "cell_type": "code",
      "metadata": {
        "id": "2l94hxELC4Fo"
      },
      "source": [
        "train_data, test_data = imdb['train'], imdb['test']"
      ],
      "execution_count": 39,
      "outputs": []
    },
    {
      "cell_type": "code",
      "metadata": {
        "id": "imoVa5OxC4Fo"
      },
      "source": [
        "training_sentences = []\n",
        "training_labels = []\n",
        "\n",
        "testing_sentences = []\n",
        "testing_labels = []"
      ],
      "execution_count": 40,
      "outputs": []
    },
    {
      "cell_type": "code",
      "metadata": {
        "id": "62SSNZxBC4Fp"
      },
      "source": [
        "for s, l in train_data:\n",
        "  training_sentences.append(str(s.numpy()))\n",
        "  training_labels.append(l.numpy())"
      ],
      "execution_count": 41,
      "outputs": []
    },
    {
      "cell_type": "code",
      "metadata": {
        "id": "syuRyxRFC4Fp"
      },
      "source": [
        "for s, l in test_data:\n",
        "  testing_sentences.append(str(s.numpy()))\n",
        "  testing_labels.append(l.numpy())"
      ],
      "execution_count": 42,
      "outputs": []
    },
    {
      "cell_type": "code",
      "metadata": {
        "id": "aFYKLxRyC4Fp"
      },
      "source": [
        "import numpy as np\n",
        "training_labels_final = np.array(training_labels)\n",
        "testing_labels_final = np.array(testing_labels)"
      ],
      "execution_count": 43,
      "outputs": []
    },
    {
      "cell_type": "markdown",
      "metadata": {
        "id": "4rqDKNa-C4Fp"
      },
      "source": [
        "## Create Tokenizer"
      ]
    },
    {
      "cell_type": "code",
      "metadata": {
        "id": "UT8lHRauC4Fp"
      },
      "source": [
        "tokenizer = Tokenizer(num_words = vocab_size, oov_token=oov_tok) #create tokenizer that has a vocab_size & oov_token specified above"
      ],
      "execution_count": 44,
      "outputs": []
    },
    {
      "cell_type": "code",
      "metadata": {
        "colab": {
          "base_uri": "https://localhost:8080/"
        },
        "id": "Q0ToLQ4EC4Fq",
        "outputId": "9221e999-223f-4115-f9af-35231f1780fc"
      },
      "source": [
        "testing_labels_final.max() #ensure max is still 1 for a \"bad\" review"
      ],
      "execution_count": 45,
      "outputs": [
        {
          "output_type": "execute_result",
          "data": {
            "text/plain": [
              "1"
            ]
          },
          "metadata": {
            "tags": []
          },
          "execution_count": 45
        }
      ]
    },
    {
      "cell_type": "code",
      "metadata": {
        "id": "jYQVMLXZC4Fq"
      },
      "source": [
        "tokenizer.fit_on_texts(training_sentences) #fit the tokenizer on the training_sentences "
      ],
      "execution_count": 46,
      "outputs": []
    },
    {
      "cell_type": "code",
      "metadata": {
        "id": "h-Qg1hYKC4Fq"
      },
      "source": [
        "word_index = tokenizer.word_index #get the word index for the tokenizer"
      ],
      "execution_count": 47,
      "outputs": []
    },
    {
      "cell_type": "code",
      "metadata": {
        "id": "H3PcgtmIC4Fq"
      },
      "source": [
        "sequences = tokenizer.texts_to_sequences(training_sentences) #convert texts to sequences using the tokenizer"
      ],
      "execution_count": 48,
      "outputs": []
    },
    {
      "cell_type": "code",
      "metadata": {
        "id": "eeedPArwC4Fr"
      },
      "source": [
        "padded = pad_sequences(sequences, maxlen=max_length, truncating=trunc_type) # pad the sequences by the max_length with truncation set to trunc_type"
      ],
      "execution_count": 49,
      "outputs": []
    },
    {
      "cell_type": "code",
      "metadata": {
        "id": "-sPu9ALVC4Fs"
      },
      "source": [
        "testing_sequences = tokenizer.texts_to_sequences(testing_sentences) # convert the testing_sentences to testing_sequences"
      ],
      "execution_count": 50,
      "outputs": []
    },
    {
      "cell_type": "code",
      "metadata": {
        "id": "NV6P0gRSC4Ft"
      },
      "source": [
        "testing_padded = pad_sequences(testing_sequences, maxlen=max_length) # convert the testing_sequences to testing_padded"
      ],
      "execution_count": 51,
      "outputs": []
    },
    {
      "cell_type": "code",
      "metadata": {
        "id": "59UYH8HhC4Ft"
      },
      "source": [
        "reverse_word_index = dict([(value, key) for (key, value) in word_index.items()]) # reverse the key,value from word_index to check index value to key"
      ],
      "execution_count": 52,
      "outputs": []
    },
    {
      "cell_type": "code",
      "metadata": {
        "colab": {
          "base_uri": "https://localhost:8080/"
        },
        "id": "hyRJyLYTDIBa",
        "outputId": "81f7d34f-3d33-4971-afa6-1f86c5057b75"
      },
      "source": [
        "print(decode_review(padded[0])) #This is after it has been padded and OOV in place, but decoded.  Recall this is actually padded as a sequence of numbers for training\n",
        "print(training_sentences[0]) #This is the original"
      ],
      "execution_count": 53,
      "outputs": [
        {
          "output_type": "stream",
          "text": [
            "? ? b this was an absolutely terrible movie don't be <OOV> in by christopher walken or michael <OOV> both are great actors but this must simply be their worst role in history even their great acting could not redeem this movie's ridiculous storyline this movie is an early nineties us propaganda piece the most pathetic scenes were those when the <OOV> rebels were making their cases for <OOV> maria <OOV> <OOV> appeared phony and her pseudo love affair with walken was nothing but a pathetic emotional plug in a movie that was devoid of any real meaning i am disappointed that there are movies like this ruining <OOV> like christopher <OOV> good name i could barely sit through it\n",
            "b\"This was an absolutely terrible movie. Don't be lured in by Christopher Walken or Michael Ironside. Both are great actors, but this must simply be their worst role in history. Even their great acting could not redeem this movie's ridiculous storyline. This movie is an early nineties US propaganda piece. The most pathetic scenes were those when the Columbian rebels were making their cases for revolutions. Maria Conchita Alonso appeared phony, and her pseudo-love affair with Walken was nothing but a pathetic emotional plug in a movie that was devoid of any real meaning. I am disappointed that there are movies like this, ruining actor's like Christopher Walken's good name. I could barely sit through it.\"\n"
          ],
          "name": "stdout"
        }
      ]
    },
    {
      "cell_type": "markdown",
      "metadata": {
        "id": "mqKmgggMC4Ft"
      },
      "source": [
        "## Create Model"
      ]
    },
    {
      "cell_type": "code",
      "metadata": {
        "id": "zNGs5K_dC4Fu"
      },
      "source": [
        "model,model_description=model_picker(vocab_size=vocab_size,embedding_dim=embedding_dim,input_length=max_length,model_name='model1')"
      ],
      "execution_count": 54,
      "outputs": []
    },
    {
      "cell_type": "code",
      "metadata": {
        "colab": {
          "base_uri": "https://localhost:8080/"
        },
        "id": "d9zvtdO4C4Fu",
        "outputId": "02488db8-b64a-4f00-cbf4-c34aa482d396"
      },
      "source": [
        "model.summary()"
      ],
      "execution_count": 55,
      "outputs": [
        {
          "output_type": "stream",
          "text": [
            "Model: \"sequential_1\"\n",
            "_________________________________________________________________\n",
            "Layer (type)                 Output Shape              Param #   \n",
            "=================================================================\n",
            "embedding_1 (Embedding)      (None, 120, 16)           160000    \n",
            "_________________________________________________________________\n",
            "flatten_1 (Flatten)          (None, 1920)              0         \n",
            "_________________________________________________________________\n",
            "dense_2 (Dense)              (None, 6)                 11526     \n",
            "_________________________________________________________________\n",
            "dense_3 (Dense)              (None, 1)                 7         \n",
            "=================================================================\n",
            "Total params: 171,533\n",
            "Trainable params: 171,533\n",
            "Non-trainable params: 0\n",
            "_________________________________________________________________\n"
          ],
          "name": "stdout"
        }
      ]
    },
    {
      "cell_type": "code",
      "metadata": {
        "id": "gNLGTTIWC4Fu"
      },
      "source": [
        "model.compile(loss=loss,optimizer=optimizer,metrics=[accuracy_metric])"
      ],
      "execution_count": 56,
      "outputs": []
    },
    {
      "cell_type": "markdown",
      "metadata": {
        "id": "p5kts9r1C4Fu"
      },
      "source": [
        "## Train Model"
      ]
    },
    {
      "cell_type": "code",
      "metadata": {
        "colab": {
          "base_uri": "https://localhost:8080/"
        },
        "id": "AYqFUDgaC4Fv",
        "outputId": "2aeac98c-e1b2-4022-992f-a9d0de5f2da0"
      },
      "source": [
        "history=model.fit(padded, training_labels_final,epochs=epochs,validation_data=(testing_padded,\n",
        "                                                                           testing_labels_final))"
      ],
      "execution_count": 57,
      "outputs": [
        {
          "output_type": "stream",
          "text": [
            "Epoch 1/10\n",
            "782/782 [==============================] - 5s 6ms/step - loss: 0.5067 - binary_accuracy: 0.7306 - val_loss: 0.3519 - val_binary_accuracy: 0.8456\n",
            "Epoch 2/10\n",
            "782/782 [==============================] - 5s 6ms/step - loss: 0.2459 - binary_accuracy: 0.9051 - val_loss: 0.3703 - val_binary_accuracy: 0.8376\n",
            "Epoch 3/10\n",
            "782/782 [==============================] - 4s 5ms/step - loss: 0.0984 - binary_accuracy: 0.9747 - val_loss: 0.4418 - val_binary_accuracy: 0.8253\n",
            "Epoch 4/10\n",
            "782/782 [==============================] - 4s 6ms/step - loss: 0.0250 - binary_accuracy: 0.9968 - val_loss: 0.5255 - val_binary_accuracy: 0.8244\n",
            "Epoch 5/10\n",
            "782/782 [==============================] - 4s 5ms/step - loss: 0.0058 - binary_accuracy: 0.9997 - val_loss: 0.5897 - val_binary_accuracy: 0.8245\n",
            "Epoch 6/10\n",
            "782/782 [==============================] - 5s 6ms/step - loss: 0.0020 - binary_accuracy: 1.0000 - val_loss: 0.6390 - val_binary_accuracy: 0.8270\n",
            "Epoch 7/10\n",
            "782/782 [==============================] - 5s 6ms/step - loss: 9.2440e-04 - binary_accuracy: 1.0000 - val_loss: 0.6796 - val_binary_accuracy: 0.8272\n",
            "Epoch 8/10\n",
            "782/782 [==============================] - 4s 6ms/step - loss: 4.9628e-04 - binary_accuracy: 1.0000 - val_loss: 0.7207 - val_binary_accuracy: 0.8282\n",
            "Epoch 9/10\n",
            "782/782 [==============================] - 5s 6ms/step - loss: 2.8877e-04 - binary_accuracy: 1.0000 - val_loss: 0.7572 - val_binary_accuracy: 0.8284\n",
            "Epoch 10/10\n",
            "782/782 [==============================] - 5s 6ms/step - loss: 1.7467e-04 - binary_accuracy: 1.0000 - val_loss: 0.7952 - val_binary_accuracy: 0.8282\n"
          ],
          "name": "stdout"
        }
      ]
    },
    {
      "cell_type": "markdown",
      "metadata": {
        "id": "DkULKtHQC4Fv"
      },
      "source": [
        "## Evaluate Model"
      ]
    },
    {
      "cell_type": "code",
      "metadata": {
        "colab": {
          "base_uri": "https://localhost:8080/"
        },
        "id": "jh5B-1sqC4Fv",
        "outputId": "bcd1c63c-da1c-43d9-a639-5ddfd402f227"
      },
      "source": [
        "e = model.layers[0]\n",
        "weights=e.get_weights()[0]\n",
        "print(weights.shape) # shape: (vocab_size, embedding_dim)"
      ],
      "execution_count": 58,
      "outputs": [
        {
          "output_type": "stream",
          "text": [
            "(10000, 16)\n"
          ],
          "name": "stdout"
        }
      ]
    },
    {
      "cell_type": "code",
      "metadata": {
        "colab": {
          "base_uri": "https://localhost:8080/"
        },
        "id": "w5PEgEcNC4Fw",
        "outputId": "b802c891-3ca6-4b05-fac4-e9958a24288e"
      },
      "source": [
        "final_eval_loss,final_eval_acc=model.evaluate(testing_padded,testing_labels_final)"
      ],
      "execution_count": 59,
      "outputs": [
        {
          "output_type": "stream",
          "text": [
            "782/782 [==============================] - 1s 1ms/step - loss: 0.7952 - binary_accuracy: 0.8282\n"
          ],
          "name": "stdout"
        }
      ]
    },
    {
      "cell_type": "code",
      "metadata": {
        "colab": {
          "base_uri": "https://localhost:8080/"
        },
        "id": "zMsdE9ivC4Fw",
        "outputId": "6d807afa-d0ff-4359-ae35-7f2ca6b97602"
      },
      "source": [
        "final_eval_loss"
      ],
      "execution_count": 60,
      "outputs": [
        {
          "output_type": "execute_result",
          "data": {
            "text/plain": [
              "0.7952041625976562"
            ]
          },
          "metadata": {
            "tags": []
          },
          "execution_count": 60
        }
      ]
    },
    {
      "cell_type": "code",
      "metadata": {
        "colab": {
          "base_uri": "https://localhost:8080/"
        },
        "id": "xBHMhoFyC4Fw",
        "outputId": "930b5bb6-2da1-4050-d26a-f4e4cc27da43"
      },
      "source": [
        "trainableParams = np.sum([np.prod(v.get_shape()) for v in model.trainable_weights])\n",
        "trainableParams"
      ],
      "execution_count": 61,
      "outputs": [
        {
          "output_type": "execute_result",
          "data": {
            "text/plain": [
              "171533"
            ]
          },
          "metadata": {
            "tags": []
          },
          "execution_count": 61
        }
      ]
    },
    {
      "cell_type": "code",
      "metadata": {
        "colab": {
          "base_uri": "https://localhost:8080/",
          "height": 891
        },
        "id": "lZ5EiHCtC4Fw",
        "outputId": "c2cb6a13-c80b-4a4e-acdc-6ed294d734af"
      },
      "source": [
        "plot_train_eval(history,model_name,trainableParams,optimizer_name,loss,accuracy_metric,epochs,vocab_size,embedding_dim,max_length,trunc_type,oov_tok)"
      ],
      "execution_count": 62,
      "outputs": [
        {
          "output_type": "display_data",
          "data": {
            "image/png": "[encoded data removed]",
            "text/plain": [
              "<Figure size 432x288 with 1 Axes>"
            ]
          },
          "metadata": {
            "tags": [],
            "needs_background": "light"
          }
        },
        {
          "output_type": "stream",
          "text": [
            "\n"
          ],
          "name": "stdout"
        },
        {
          "output_type": "display_data",
          "data": {
            "image/png": "[encoded data removed]",
            "text/plain": [
              "<Figure size 432x288 with 1 Axes>"
            ]
          },
          "metadata": {
            "tags": [],
            "needs_background": "light"
          }
        }
      ]
    },
    {
      "cell_type": "code",
      "metadata": {
        "colab": {
          "base_uri": "https://localhost:8080/",
          "height": 167
        },
        "id": "vZFVqiDMC4Fx",
        "outputId": "2859a96f-e5d0-4106-ea27-9dc9389b0960"
      },
      "source": [
        "df=pd.DataFrame([[filename,model_name,model_description,optimizer,loss,accuracy_metric,epochs,vocab_size,embedding_dim,max_length,trunc_type,oov_tok,final_eval_loss,final_eval_acc]],columns=cols)\n",
        "df_metrics=df_metrics.append(df,ignore_index=True)\n",
        "df_metrics"
      ],
      "execution_count": 63,
      "outputs": [
        {
          "output_type": "execute_result",
          "data": {
            "text/html": [
              "<div>\n",
              "<style scoped>\n",
              "    .dataframe tbody tr th:only-of-type {\n",
              "        vertical-align: middle;\n",
              "    }\n",
              "\n",
              "    .dataframe tbody tr th {\n",
              "        vertical-align: top;\n",
              "    }\n",
              "\n",
              "    .dataframe thead th {\n",
              "        text-align: right;\n",
              "    }\n",
              "</style>\n",
              "<table border=\"1\" class=\"dataframe\">\n",
              "  <thead>\n",
              "    <tr style=\"text-align: right;\">\n",
              "      <th></th>\n",
              "      <th>filename</th>\n",
              "      <th>model_name</th>\n",
              "      <th>model_description</th>\n",
              "      <th>optimizer</th>\n",
              "      <th>loss</th>\n",
              "      <th>accuracy_metric</th>\n",
              "      <th>epochs</th>\n",
              "      <th>vocab_size</th>\n",
              "      <th>embedding_dim</th>\n",
              "      <th>max_length</th>\n",
              "      <th>trunc_type</th>\n",
              "      <th>oov_tok</th>\n",
              "      <th>final_eval_loss</th>\n",
              "      <th>final_eval_acc</th>\n",
              "    </tr>\n",
              "  </thead>\n",
              "  <tbody>\n",
              "    <tr>\n",
              "      <th>0</th>\n",
              "      <td>TF_CNN_Sequential_NLP_imdb_reviews.ipynb</td>\n",
              "      <td>model1</td>\n",
              "      <td>Embedding(vocab_size=10000, \\n embedding_dim=1...</td>\n",
              "      <td>adam</td>\n",
              "      <td>binary_crossentropy</td>\n",
              "      <td>binary_accuracy</td>\n",
              "      <td>10</td>\n",
              "      <td>10000</td>\n",
              "      <td>16</td>\n",
              "      <td>120</td>\n",
              "      <td>post</td>\n",
              "      <td>&lt;OOV&gt;</td>\n",
              "      <td>0.784348</td>\n",
              "      <td>0.82900</td>\n",
              "    </tr>\n",
              "    <tr>\n",
              "      <th>1</th>\n",
              "      <td>TF_CNN_Sequential_NLP_imdb_reviews.ipynb</td>\n",
              "      <td>model2</td>\n",
              "      <td>Embedding(vocab_size=10000, \\n embedding_dim=1...</td>\n",
              "      <td>adam</td>\n",
              "      <td>binary_crossentropy</td>\n",
              "      <td>binary_accuracy</td>\n",
              "      <td>10</td>\n",
              "      <td>10000</td>\n",
              "      <td>16</td>\n",
              "      <td>120</td>\n",
              "      <td>post</td>\n",
              "      <td>&lt;OOV&gt;</td>\n",
              "      <td>0.795204</td>\n",
              "      <td>0.82816</td>\n",
              "    </tr>\n",
              "  </tbody>\n",
              "</table>\n",
              "</div>"
            ],
            "text/plain": [
              "                                   filename  ... final_eval_acc\n",
              "0  TF_CNN_Sequential_NLP_imdb_reviews.ipynb  ...        0.82900\n",
              "1  TF_CNN_Sequential_NLP_imdb_reviews.ipynb  ...        0.82816\n",
              "\n",
              "[2 rows x 14 columns]"
            ]
          },
          "metadata": {
            "tags": []
          },
          "execution_count": 63
        }
      ]
    },
    {
      "cell_type": "code",
      "metadata": {
        "colab": {
          "base_uri": "https://localhost:8080/"
        },
        "id": "NvMOMQI8C4Fx",
        "outputId": "75dfce14-942c-4ae4-c4a9-d22df27f4c1a"
      },
      "source": [
        "model.save(model_name) #save model\n",
        "model=tf.keras.models.load_model(model_name) #load model\n",
        "df_metrics.to_excel('df_metrics.xlsx')"
      ],
      "execution_count": 64,
      "outputs": [
        {
          "output_type": "stream",
          "text": [
            "INFO:tensorflow:Assets written to: model2/assets\n"
          ],
          "name": "stdout"
        },
        {
          "output_type": "stream",
          "text": [
            "INFO:tensorflow:Assets written to: model2/assets\n"
          ],
          "name": "stderr"
        }
      ]
    },
    {
      "cell_type": "code",
      "metadata": {
        "id": "37y_Q0dcC4Fy"
      },
      "source": [
        "import io\n",
        "\n",
        "out_v = io.open(f'vecs_{model_name}.tsv', 'w', encoding='utf-8')\n",
        "out_m = io.open(f'meta_{model_name}.tsv', 'w', encoding='utf-8')\n",
        "for word_num in range(1, vocab_size):\n",
        "  word = reverse_word_index[word_num]\n",
        "  embeddings = weights[word_num]\n",
        "  out_m.write(word + \"\\n\")\n",
        "  out_v.write('\\t'.join([str(x) for x in embeddings]) + \"\\n\")\n",
        "out_v.close()\n",
        "out_m.close()"
      ],
      "execution_count": 65,
      "outputs": []
    },
    {
      "cell_type": "code",
      "metadata": {
        "colab": {
          "base_uri": "https://localhost:8080/",
          "height": 17
        },
        "id": "ibC9dIKAC4Fz",
        "outputId": "3322d81e-319d-40a6-df52-bb15453f8640"
      },
      "source": [
        "try:\n",
        "  from google.colab import files\n",
        "except ImportError:\n",
        "  pass\n",
        "else:\n",
        "  files.download(f'vecs_{model_name}.tsv')\n",
        "  files.download(f'meta_{model_name}.tsv')"
      ],
      "execution_count": 66,
      "outputs": [
        {
          "output_type": "display_data",
          "data": {
            "application/javascript": [
              "\n",
              "    async function download(id, filename, size) {\n",
              "      if (!google.colab.kernel.accessAllowed) {\n",
              "        return;\n",
              "      }\n",
              "      const div = document.createElement('div');\n",
              "      const label = document.createElement('label');\n",
              "      label.textContent = `Downloading \"${filename}\": `;\n",
              "      div.appendChild(label);\n",
              "      const progress = document.createElement('progress');\n",
              "      progress.max = size;\n",
              "      div.appendChild(progress);\n",
              "      document.body.appendChild(div);\n",
              "\n",
              "      const buffers = [];\n",
              "      let downloaded = 0;\n",
              "\n",
              "      const channel = await google.colab.kernel.comms.open(id);\n",
              "      // Send a message to notify the kernel that we're ready.\n",
              "      channel.send({})\n",
              "\n",
              "      for await (const message of channel.messages) {\n",
              "        // Send a message to notify the kernel that we're ready.\n",
              "        channel.send({})\n",
              "        if (message.buffers) {\n",
              "          for (const buffer of message.buffers) {\n",
              "            buffers.push(buffer);\n",
              "            downloaded += buffer.byteLength;\n",
              "            progress.value = downloaded;\n",
              "          }\n",
              "        }\n",
              "      }\n",
              "      const blob = new Blob(buffers, {type: 'application/binary'});\n",
              "      const a = document.createElement('a');\n",
              "      a.href = window.URL.createObjectURL(blob);\n",
              "      a.download = filename;\n",
              "      div.appendChild(a);\n",
              "      a.click();\n",
              "      div.remove();\n",
              "    }\n",
              "  "
            ],
            "text/plain": [
              "<IPython.core.display.Javascript object>"
            ]
          },
          "metadata": {
            "tags": []
          }
        },
        {
          "output_type": "display_data",
          "data": {
            "application/javascript": [
              "download(\"download_fd93c650-f77f-403d-88b1-db03927eca99\", \"vecs_model2.tsv\", 1909298)"
            ],
            "text/plain": [
              "<IPython.core.display.Javascript object>"
            ]
          },
          "metadata": {
            "tags": []
          }
        },
        {
          "output_type": "display_data",
          "data": {
            "application/javascript": [
              "\n",
              "    async function download(id, filename, size) {\n",
              "      if (!google.colab.kernel.accessAllowed) {\n",
              "        return;\n",
              "      }\n",
              "      const div = document.createElement('div');\n",
              "      const label = document.createElement('label');\n",
              "      label.textContent = `Downloading \"${filename}\": `;\n",
              "      div.appendChild(label);\n",
              "      const progress = document.createElement('progress');\n",
              "      progress.max = size;\n",
              "      div.appendChild(progress);\n",
              "      document.body.appendChild(div);\n",
              "\n",
              "      const buffers = [];\n",
              "      let downloaded = 0;\n",
              "\n",
              "      const channel = await google.colab.kernel.comms.open(id);\n",
              "      // Send a message to notify the kernel that we're ready.\n",
              "      channel.send({})\n",
              "\n",
              "      for await (const message of channel.messages) {\n",
              "        // Send a message to notify the kernel that we're ready.\n",
              "        channel.send({})\n",
              "        if (message.buffers) {\n",
              "          for (const buffer of message.buffers) {\n",
              "            buffers.push(buffer);\n",
              "            downloaded += buffer.byteLength;\n",
              "            progress.value = downloaded;\n",
              "          }\n",
              "        }\n",
              "      }\n",
              "      const blob = new Blob(buffers, {type: 'application/binary'});\n",
              "      const a = document.createElement('a');\n",
              "      a.href = window.URL.createObjectURL(blob);\n",
              "      a.download = filename;\n",
              "      div.appendChild(a);\n",
              "      a.click();\n",
              "      div.remove();\n",
              "    }\n",
              "  "
            ],
            "text/plain": [
              "<IPython.core.display.Javascript object>"
            ]
          },
          "metadata": {
            "tags": []
          }
        },
        {
          "output_type": "display_data",
          "data": {
            "application/javascript": [
              "download(\"download_9308abd5-4f9d-4c4c-91c3-f3c48e6d7b56\", \"meta_model2.tsv\", 75846)"
            ],
            "text/plain": [
              "<IPython.core.display.Javascript object>"
            ]
          },
          "metadata": {
            "tags": []
          }
        }
      ]
    },
    {
      "cell_type": "code",
      "metadata": {
        "colab": {
          "base_uri": "https://localhost:8080/"
        },
        "id": "DfhiqqJiC4Fz",
        "outputId": "0475e3ed-92a3-4017-d3f1-39110938c8ac"
      },
      "source": [
        "# Testing new Custom Reviews\n",
        "sentence1='What a great movie.'\n",
        "test1=tokenizer.texts_to_sequences([sentence1])\n",
        "test1= pad_sequences(test1, maxlen=max_length, truncating=trunc_type)\n",
        "answer=model.predict(test1)\n",
        "print(f'Review for this sentence: \\n {sentence1} \\n is a value of {answer}')\n",
        "print('This makes sense since it is a value close to 1, meaning a good review')\n",
        "print('\\n')\n",
        "\n",
        "sentence2='What a terrible movie.'\n",
        "test2=tokenizer.texts_to_sequences([sentence2])\n",
        "test2= pad_sequences(test2, maxlen=max_length, truncating=trunc_type)\n",
        "answer=model.predict(test2)\n",
        "print(f'Review for this sentence: \\n {sentence2} \\n is a value of {answer}')\n",
        "print('This makes sense since it is a value close to 0, meaning a bad review')"
      ],
      "execution_count": 67,
      "outputs": [
        {
          "output_type": "stream",
          "text": [
            "Review for this sentence: \n",
            " What a great movie. \n",
            " is a value of [[0.92779493]]\n",
            "This makes sense since it is a value close to 1, meaning a good review\n",
            "\n",
            "\n",
            "Review for this sentence: \n",
            " What a terrible movie. \n",
            " is a value of [[0.01017064]]\n",
            "This makes sense since it is a value close to 0, meaning a bad review\n"
          ],
          "name": "stdout"
        }
      ]
    },
    {
      "cell_type": "markdown",
      "metadata": {
        "id": "DSMgSDE0FoKQ"
      },
      "source": [
        "# 4.3 model3"
      ]
    },
    {
      "cell_type": "markdown",
      "metadata": {
        "id": "RaSsOpWHFoKR"
      },
      "source": [
        "## Set Embedding/Modeling Parameters"
      ]
    },
    {
      "cell_type": "code",
      "metadata": {
        "id": "RFdgC7CPFoKS"
      },
      "source": [
        "filename='TF_CNN_Sequential_NLP_imdb_reviews.ipynb'\n",
        "model_name='model3'\n",
        "optimizer='adam'\n",
        "optimizer_name=str(optimizer)\n",
        "loss='binary_crossentropy'\n",
        "accuracy_metric='binary_accuracy'\n",
        "epochs=10\n",
        "\n",
        "vocab_size = 10000\n",
        "embedding_dim = 16\n",
        "max_length = 120\n",
        "trunc_type='post'\n",
        "oov_tok = '<OOV>'"
      ],
      "execution_count": 68,
      "outputs": []
    },
    {
      "cell_type": "markdown",
      "metadata": {
        "id": "hMqhrL0zFoKT"
      },
      "source": [
        "## Split Train/Test"
      ]
    },
    {
      "cell_type": "code",
      "metadata": {
        "id": "Wc5AebFMFoKU"
      },
      "source": [
        "train_data, test_data = imdb['train'], imdb['test']"
      ],
      "execution_count": 69,
      "outputs": []
    },
    {
      "cell_type": "code",
      "metadata": {
        "id": "x0xLxti7FoKU"
      },
      "source": [
        "training_sentences = []\n",
        "training_labels = []\n",
        "\n",
        "testing_sentences = []\n",
        "testing_labels = []"
      ],
      "execution_count": 70,
      "outputs": []
    },
    {
      "cell_type": "code",
      "metadata": {
        "id": "t3VMk28VFoKV"
      },
      "source": [
        "for s, l in train_data:\n",
        "  training_sentences.append(str(s.numpy()))\n",
        "  training_labels.append(l.numpy())"
      ],
      "execution_count": 71,
      "outputs": []
    },
    {
      "cell_type": "code",
      "metadata": {
        "id": "MEkUca8kFoKW"
      },
      "source": [
        "for s, l in test_data:\n",
        "  testing_sentences.append(str(s.numpy()))\n",
        "  testing_labels.append(l.numpy())"
      ],
      "execution_count": 72,
      "outputs": []
    },
    {
      "cell_type": "code",
      "metadata": {
        "id": "QNafSGFkFoKX"
      },
      "source": [
        "import numpy as np\n",
        "training_labels_final = np.array(training_labels)\n",
        "testing_labels_final = np.array(testing_labels)"
      ],
      "execution_count": 73,
      "outputs": []
    },
    {
      "cell_type": "markdown",
      "metadata": {
        "id": "7IRbncadFoKX"
      },
      "source": [
        "## Create Tokenizer"
      ]
    },
    {
      "cell_type": "code",
      "metadata": {
        "id": "k_AvT6m8FoKZ"
      },
      "source": [
        "tokenizer = Tokenizer(num_words = vocab_size, oov_token=oov_tok) #create tokenizer that has a vocab_size & oov_token specified above"
      ],
      "execution_count": 74,
      "outputs": []
    },
    {
      "cell_type": "code",
      "metadata": {
        "colab": {
          "base_uri": "https://localhost:8080/"
        },
        "id": "uo3W0Z2_FoKb",
        "outputId": "6424f369-999c-4d66-8809-2e8ad08c179e"
      },
      "source": [
        "testing_labels_final.max() #ensure max is still 1 for a \"bad\" review"
      ],
      "execution_count": 75,
      "outputs": [
        {
          "output_type": "execute_result",
          "data": {
            "text/plain": [
              "1"
            ]
          },
          "metadata": {
            "tags": []
          },
          "execution_count": 75
        }
      ]
    },
    {
      "cell_type": "code",
      "metadata": {
        "id": "qx7Z978WFoKb"
      },
      "source": [
        "tokenizer.fit_on_texts(training_sentences) #fit the tokenizer on the training_sentences "
      ],
      "execution_count": 76,
      "outputs": []
    },
    {
      "cell_type": "code",
      "metadata": {
        "id": "mGIWUMnUFoKc"
      },
      "source": [
        "word_index = tokenizer.word_index #get the word index for the tokenizer"
      ],
      "execution_count": 77,
      "outputs": []
    },
    {
      "cell_type": "code",
      "metadata": {
        "id": "6XP77CbYFoKf"
      },
      "source": [
        "sequences = tokenizer.texts_to_sequences(training_sentences) #convert texts to sequences using the tokenizer"
      ],
      "execution_count": 78,
      "outputs": []
    },
    {
      "cell_type": "code",
      "metadata": {
        "id": "GUOnEdQNFoKf"
      },
      "source": [
        "padded = pad_sequences(sequences, maxlen=max_length, truncating=trunc_type) # pad the sequences by the max_length with truncation set to trunc_type"
      ],
      "execution_count": 79,
      "outputs": []
    },
    {
      "cell_type": "code",
      "metadata": {
        "id": "Ak4T6IS8FoKg"
      },
      "source": [
        "testing_sequences = tokenizer.texts_to_sequences(testing_sentences) # convert the testing_sentences to testing_sequences"
      ],
      "execution_count": 80,
      "outputs": []
    },
    {
      "cell_type": "code",
      "metadata": {
        "id": "riUjkCTTFoKh"
      },
      "source": [
        "testing_padded = pad_sequences(testing_sequences, maxlen=max_length) # convert the testing_sequences to testing_padded"
      ],
      "execution_count": 81,
      "outputs": []
    },
    {
      "cell_type": "code",
      "metadata": {
        "id": "WxzQGx-AFoKh"
      },
      "source": [
        "reverse_word_index = dict([(value, key) for (key, value) in word_index.items()]) # reverse the key,value from word_index to check index value to key"
      ],
      "execution_count": 82,
      "outputs": []
    },
    {
      "cell_type": "code",
      "metadata": {
        "colab": {
          "base_uri": "https://localhost:8080/"
        },
        "id": "o8tF_yRHFoKh",
        "outputId": "cefc195e-8c38-4914-8f8a-0b3ed5494f4f"
      },
      "source": [
        "print(decode_review(padded[0])) #This is after it has been padded and OOV in place, but decoded.  Recall this is actually padded as a sequence of numbers for training\n",
        "print(training_sentences[0]) #This is the original"
      ],
      "execution_count": 83,
      "outputs": [
        {
          "output_type": "stream",
          "text": [
            "? ? b this was an absolutely terrible movie don't be <OOV> in by christopher walken or michael <OOV> both are great actors but this must simply be their worst role in history even their great acting could not redeem this movie's ridiculous storyline this movie is an early nineties us propaganda piece the most pathetic scenes were those when the <OOV> rebels were making their cases for <OOV> maria <OOV> <OOV> appeared phony and her pseudo love affair with walken was nothing but a pathetic emotional plug in a movie that was devoid of any real meaning i am disappointed that there are movies like this ruining <OOV> like christopher <OOV> good name i could barely sit through it\n",
            "b\"This was an absolutely terrible movie. Don't be lured in by Christopher Walken or Michael Ironside. Both are great actors, but this must simply be their worst role in history. Even their great acting could not redeem this movie's ridiculous storyline. This movie is an early nineties US propaganda piece. The most pathetic scenes were those when the Columbian rebels were making their cases for revolutions. Maria Conchita Alonso appeared phony, and her pseudo-love affair with Walken was nothing but a pathetic emotional plug in a movie that was devoid of any real meaning. I am disappointed that there are movies like this, ruining actor's like Christopher Walken's good name. I could barely sit through it.\"\n"
          ],
          "name": "stdout"
        }
      ]
    },
    {
      "cell_type": "markdown",
      "metadata": {
        "id": "SfHuuG9MFoKj"
      },
      "source": [
        "## Create Model"
      ]
    },
    {
      "cell_type": "code",
      "metadata": {
        "id": "V7vMkpyJFoKj"
      },
      "source": [
        "model,model_description=model_picker(vocab_size=vocab_size,embedding_dim=embedding_dim,input_length=max_length,model_name='model1')"
      ],
      "execution_count": 84,
      "outputs": []
    },
    {
      "cell_type": "code",
      "metadata": {
        "colab": {
          "base_uri": "https://localhost:8080/"
        },
        "id": "fWFjUNWhFoKk",
        "outputId": "15e378f6-c2d1-48eb-c627-9c781ab6fe44"
      },
      "source": [
        "model.summary()"
      ],
      "execution_count": 85,
      "outputs": [
        {
          "output_type": "stream",
          "text": [
            "Model: \"sequential_2\"\n",
            "_________________________________________________________________\n",
            "Layer (type)                 Output Shape              Param #   \n",
            "=================================================================\n",
            "embedding_2 (Embedding)      (None, 120, 16)           160000    \n",
            "_________________________________________________________________\n",
            "flatten_2 (Flatten)          (None, 1920)              0         \n",
            "_________________________________________________________________\n",
            "dense_4 (Dense)              (None, 6)                 11526     \n",
            "_________________________________________________________________\n",
            "dense_5 (Dense)              (None, 1)                 7         \n",
            "=================================================================\n",
            "Total params: 171,533\n",
            "Trainable params: 171,533\n",
            "Non-trainable params: 0\n",
            "_________________________________________________________________\n"
          ],
          "name": "stdout"
        }
      ]
    },
    {
      "cell_type": "code",
      "metadata": {
        "id": "F3Vzroj7FoKk"
      },
      "source": [
        "model.compile(loss=loss,optimizer=optimizer,metrics=[accuracy_metric])"
      ],
      "execution_count": 86,
      "outputs": []
    },
    {
      "cell_type": "markdown",
      "metadata": {
        "id": "mJSc_OipFoKl"
      },
      "source": [
        "## Train Model"
      ]
    },
    {
      "cell_type": "code",
      "metadata": {
        "colab": {
          "base_uri": "https://localhost:8080/"
        },
        "id": "f3hpg1Y2FoKm",
        "outputId": "6091ea95-8286-4dbc-d342-f430432c0155"
      },
      "source": [
        "history=model.fit(padded, training_labels_final,epochs=epochs,validation_data=(testing_padded,\n",
        "                                                                           testing_labels_final))"
      ],
      "execution_count": 87,
      "outputs": [
        {
          "output_type": "stream",
          "text": [
            "Epoch 1/10\n",
            "782/782 [==============================] - 6s 7ms/step - loss: 0.4933 - binary_accuracy: 0.7449 - val_loss: 0.3445 - val_binary_accuracy: 0.8498\n",
            "Epoch 2/10\n",
            "782/782 [==============================] - 4s 6ms/step - loss: 0.2392 - binary_accuracy: 0.9078 - val_loss: 0.3722 - val_binary_accuracy: 0.8372\n",
            "Epoch 3/10\n",
            "782/782 [==============================] - 4s 5ms/step - loss: 0.0910 - binary_accuracy: 0.9776 - val_loss: 0.4589 - val_binary_accuracy: 0.8278\n",
            "Epoch 4/10\n",
            "782/782 [==============================] - 4s 6ms/step - loss: 0.0233 - binary_accuracy: 0.9970 - val_loss: 0.5263 - val_binary_accuracy: 0.8281\n",
            "Epoch 5/10\n",
            "782/782 [==============================] - 4s 5ms/step - loss: 0.0056 - binary_accuracy: 0.9995 - val_loss: 0.5945 - val_binary_accuracy: 0.8276\n",
            "Epoch 6/10\n",
            "782/782 [==============================] - 5s 6ms/step - loss: 0.0018 - binary_accuracy: 1.0000 - val_loss: 0.6465 - val_binary_accuracy: 0.8294\n",
            "Epoch 7/10\n",
            "782/782 [==============================] - 5s 7ms/step - loss: 8.3515e-04 - binary_accuracy: 1.0000 - val_loss: 0.6928 - val_binary_accuracy: 0.8281\n",
            "Epoch 8/10\n",
            "782/782 [==============================] - 6s 7ms/step - loss: 4.9719e-04 - binary_accuracy: 1.0000 - val_loss: 0.7272 - val_binary_accuracy: 0.8299\n",
            "Epoch 9/10\n",
            "782/782 [==============================] - 4s 5ms/step - loss: 2.7056e-04 - binary_accuracy: 1.0000 - val_loss: 0.7633 - val_binary_accuracy: 0.8298\n",
            "Epoch 10/10\n",
            "782/782 [==============================] - 5s 7ms/step - loss: 1.5985e-04 - binary_accuracy: 1.0000 - val_loss: 0.8011 - val_binary_accuracy: 0.8301\n"
          ],
          "name": "stdout"
        }
      ]
    },
    {
      "cell_type": "markdown",
      "metadata": {
        "id": "A8SVNbztFoKm"
      },
      "source": [
        "## Evaluate Model"
      ]
    },
    {
      "cell_type": "code",
      "metadata": {
        "colab": {
          "base_uri": "https://localhost:8080/"
        },
        "id": "NVzBWw9UFoKn",
        "outputId": "bbc8750c-ee8c-46bf-e644-baebb4fae5e8"
      },
      "source": [
        "e = model.layers[0]\n",
        "weights=e.get_weights()[0]\n",
        "print(weights.shape) # shape: (vocab_size, embedding_dim)"
      ],
      "execution_count": 88,
      "outputs": [
        {
          "output_type": "stream",
          "text": [
            "(10000, 16)\n"
          ],
          "name": "stdout"
        }
      ]
    },
    {
      "cell_type": "code",
      "metadata": {
        "colab": {
          "base_uri": "https://localhost:8080/"
        },
        "id": "ED-TtnDhFoKo",
        "outputId": "1f9a889c-e5bb-49b5-a4d4-7f0c18f6cabe"
      },
      "source": [
        "final_eval_loss,final_eval_acc=model.evaluate(testing_padded,testing_labels_final)"
      ],
      "execution_count": 89,
      "outputs": [
        {
          "output_type": "stream",
          "text": [
            "782/782 [==============================] - 1s 2ms/step - loss: 0.8011 - binary_accuracy: 0.8301\n"
          ],
          "name": "stdout"
        }
      ]
    },
    {
      "cell_type": "code",
      "metadata": {
        "colab": {
          "base_uri": "https://localhost:8080/"
        },
        "id": "jnbauW0CFoKp",
        "outputId": "bcf18e80-534d-4abb-f0e4-b4f98f96ac83"
      },
      "source": [
        "final_eval_loss"
      ],
      "execution_count": 90,
      "outputs": [
        {
          "output_type": "execute_result",
          "data": {
            "text/plain": [
              "0.8010590672492981"
            ]
          },
          "metadata": {
            "tags": []
          },
          "execution_count": 90
        }
      ]
    },
    {
      "cell_type": "code",
      "metadata": {
        "colab": {
          "base_uri": "https://localhost:8080/"
        },
        "id": "eo-CfCEpFoKp",
        "outputId": "3884ca2b-ad0c-4fcb-e0e8-f99d8f66ad73"
      },
      "source": [
        "trainableParams = np.sum([np.prod(v.get_shape()) for v in model.trainable_weights])\n",
        "trainableParams"
      ],
      "execution_count": 91,
      "outputs": [
        {
          "output_type": "execute_result",
          "data": {
            "text/plain": [
              "171533"
            ]
          },
          "metadata": {
            "tags": []
          },
          "execution_count": 91
        }
      ]
    },
    {
      "cell_type": "code",
      "metadata": {
        "colab": {
          "base_uri": "https://localhost:8080/",
          "height": 891
        },
        "id": "pxRCa4LwFoKq",
        "outputId": "ff1426cc-5985-416c-ccb9-70aea35ab29e"
      },
      "source": [
        "plot_train_eval(history,model_name,trainableParams,optimizer_name,loss,accuracy_metric,epochs,vocab_size,embedding_dim,max_length,trunc_type,oov_tok)"
      ],
      "execution_count": 92,
      "outputs": [
        {
          "output_type": "display_data",
          "data": {
            "image/png": "[encoded data removed]",
            "text/plain": [
              "<Figure size 432x288 with 1 Axes>"
            ]
          },
          "metadata": {
            "tags": [],
            "needs_background": "light"
          }
        },
        {
          "output_type": "stream",
          "text": [
            "\n"
          ],
          "name": "stdout"
        },
        {
          "output_type": "display_data",
          "data": {
            "image/png": "[encoded data removed]",
            "text/plain": [
              "<Figure size 432x288 with 1 Axes>"
            ]
          },
          "metadata": {
            "tags": [],
            "needs_background": "light"
          }
        }
      ]
    },
    {
      "cell_type": "code",
      "metadata": {
        "colab": {
          "base_uri": "https://localhost:8080/",
          "height": 216
        },
        "id": "26h4t2KfFoKs",
        "outputId": "7aadd4aa-400e-48e5-ed18-dc8657366aff"
      },
      "source": [
        "df=pd.DataFrame([[filename,model_name,model_description,optimizer,loss,accuracy_metric,epochs,vocab_size,embedding_dim,max_length,trunc_type,oov_tok,final_eval_loss,final_eval_acc]],columns=cols)\n",
        "df_metrics=df_metrics.append(df,ignore_index=True)\n",
        "df_metrics"
      ],
      "execution_count": 93,
      "outputs": [
        {
          "output_type": "execute_result",
          "data": {
            "text/html": [
              "<div>\n",
              "<style scoped>\n",
              "    .dataframe tbody tr th:only-of-type {\n",
              "        vertical-align: middle;\n",
              "    }\n",
              "\n",
              "    .dataframe tbody tr th {\n",
              "        vertical-align: top;\n",
              "    }\n",
              "\n",
              "    .dataframe thead th {\n",
              "        text-align: right;\n",
              "    }\n",
              "</style>\n",
              "<table border=\"1\" class=\"dataframe\">\n",
              "  <thead>\n",
              "    <tr style=\"text-align: right;\">\n",
              "      <th></th>\n",
              "      <th>filename</th>\n",
              "      <th>model_name</th>\n",
              "      <th>model_description</th>\n",
              "      <th>optimizer</th>\n",
              "      <th>loss</th>\n",
              "      <th>accuracy_metric</th>\n",
              "      <th>epochs</th>\n",
              "      <th>vocab_size</th>\n",
              "      <th>embedding_dim</th>\n",
              "      <th>max_length</th>\n",
              "      <th>trunc_type</th>\n",
              "      <th>oov_tok</th>\n",
              "      <th>final_eval_loss</th>\n",
              "      <th>final_eval_acc</th>\n",
              "    </tr>\n",
              "  </thead>\n",
              "  <tbody>\n",
              "    <tr>\n",
              "      <th>0</th>\n",
              "      <td>TF_CNN_Sequential_NLP_imdb_reviews.ipynb</td>\n",
              "      <td>model1</td>\n",
              "      <td>Embedding(vocab_size=10000, \\n embedding_dim=1...</td>\n",
              "      <td>adam</td>\n",
              "      <td>binary_crossentropy</td>\n",
              "      <td>binary_accuracy</td>\n",
              "      <td>10</td>\n",
              "      <td>10000</td>\n",
              "      <td>16</td>\n",
              "      <td>120</td>\n",
              "      <td>post</td>\n",
              "      <td>&lt;OOV&gt;</td>\n",
              "      <td>0.784348</td>\n",
              "      <td>0.82900</td>\n",
              "    </tr>\n",
              "    <tr>\n",
              "      <th>1</th>\n",
              "      <td>TF_CNN_Sequential_NLP_imdb_reviews.ipynb</td>\n",
              "      <td>model2</td>\n",
              "      <td>Embedding(vocab_size=10000, \\n embedding_dim=1...</td>\n",
              "      <td>adam</td>\n",
              "      <td>binary_crossentropy</td>\n",
              "      <td>binary_accuracy</td>\n",
              "      <td>10</td>\n",
              "      <td>10000</td>\n",
              "      <td>16</td>\n",
              "      <td>120</td>\n",
              "      <td>post</td>\n",
              "      <td>&lt;OOV&gt;</td>\n",
              "      <td>0.795204</td>\n",
              "      <td>0.82816</td>\n",
              "    </tr>\n",
              "    <tr>\n",
              "      <th>2</th>\n",
              "      <td>TF_CNN_Sequential_NLP_imdb_reviews.ipynb</td>\n",
              "      <td>model3</td>\n",
              "      <td>Embedding(vocab_size=10000, \\n embedding_dim=1...</td>\n",
              "      <td>adam</td>\n",
              "      <td>binary_crossentropy</td>\n",
              "      <td>binary_accuracy</td>\n",
              "      <td>10</td>\n",
              "      <td>10000</td>\n",
              "      <td>16</td>\n",
              "      <td>120</td>\n",
              "      <td>post</td>\n",
              "      <td>&lt;OOV&gt;</td>\n",
              "      <td>0.801059</td>\n",
              "      <td>0.83012</td>\n",
              "    </tr>\n",
              "  </tbody>\n",
              "</table>\n",
              "</div>"
            ],
            "text/plain": [
              "                                   filename  ... final_eval_acc\n",
              "0  TF_CNN_Sequential_NLP_imdb_reviews.ipynb  ...        0.82900\n",
              "1  TF_CNN_Sequential_NLP_imdb_reviews.ipynb  ...        0.82816\n",
              "2  TF_CNN_Sequential_NLP_imdb_reviews.ipynb  ...        0.83012\n",
              "\n",
              "[3 rows x 14 columns]"
            ]
          },
          "metadata": {
            "tags": []
          },
          "execution_count": 93
        }
      ]
    },
    {
      "cell_type": "code",
      "metadata": {
        "colab": {
          "base_uri": "https://localhost:8080/"
        },
        "id": "TuzAc9qiFoKu",
        "outputId": "6e294dba-a733-4e33-f854-3994d8d2b4f9"
      },
      "source": [
        "model.save(model_name) #save model\n",
        "model=tf.keras.models.load_model(model_name) #load model\n",
        "df_metrics.to_excel('df_metrics.xlsx')"
      ],
      "execution_count": 94,
      "outputs": [
        {
          "output_type": "stream",
          "text": [
            "INFO:tensorflow:Assets written to: model3/assets\n"
          ],
          "name": "stdout"
        },
        {
          "output_type": "stream",
          "text": [
            "INFO:tensorflow:Assets written to: model3/assets\n"
          ],
          "name": "stderr"
        }
      ]
    },
    {
      "cell_type": "code",
      "metadata": {
        "id": "Scq3Bd96FoKu"
      },
      "source": [
        "import io\n",
        "\n",
        "out_v = io.open(f'vecs_{model_name}.tsv', 'w', encoding='utf-8')\n",
        "out_m = io.open(f'meta_{model_name}.tsv', 'w', encoding='utf-8')\n",
        "for word_num in range(1, vocab_size):\n",
        "  word = reverse_word_index[word_num]\n",
        "  embeddings = weights[word_num]\n",
        "  out_m.write(word + \"\\n\")\n",
        "  out_v.write('\\t'.join([str(x) for x in embeddings]) + \"\\n\")\n",
        "out_v.close()\n",
        "out_m.close()"
      ],
      "execution_count": 95,
      "outputs": []
    },
    {
      "cell_type": "code",
      "metadata": {
        "colab": {
          "base_uri": "https://localhost:8080/",
          "height": 17
        },
        "id": "EKac-RWCFoKv",
        "outputId": "2661138c-098e-4814-8eb1-0962a5af4a16"
      },
      "source": [
        "try:\n",
        "  from google.colab import files\n",
        "except ImportError:\n",
        "  pass\n",
        "else:\n",
        "  files.download(f'vecs_{model_name}.tsv')\n",
        "  files.download(f'meta_{model_name}.tsv')"
      ],
      "execution_count": 96,
      "outputs": [
        {
          "output_type": "display_data",
          "data": {
            "application/javascript": [
              "\n",
              "    async function download(id, filename, size) {\n",
              "      if (!google.colab.kernel.accessAllowed) {\n",
              "        return;\n",
              "      }\n",
              "      const div = document.createElement('div');\n",
              "      const label = document.createElement('label');\n",
              "      label.textContent = `Downloading \"${filename}\": `;\n",
              "      div.appendChild(label);\n",
              "      const progress = document.createElement('progress');\n",
              "      progress.max = size;\n",
              "      div.appendChild(progress);\n",
              "      document.body.appendChild(div);\n",
              "\n",
              "      const buffers = [];\n",
              "      let downloaded = 0;\n",
              "\n",
              "      const channel = await google.colab.kernel.comms.open(id);\n",
              "      // Send a message to notify the kernel that we're ready.\n",
              "      channel.send({})\n",
              "\n",
              "      for await (const message of channel.messages) {\n",
              "        // Send a message to notify the kernel that we're ready.\n",
              "        channel.send({})\n",
              "        if (message.buffers) {\n",
              "          for (const buffer of message.buffers) {\n",
              "            buffers.push(buffer);\n",
              "            downloaded += buffer.byteLength;\n",
              "            progress.value = downloaded;\n",
              "          }\n",
              "        }\n",
              "      }\n",
              "      const blob = new Blob(buffers, {type: 'application/binary'});\n",
              "      const a = document.createElement('a');\n",
              "      a.href = window.URL.createObjectURL(blob);\n",
              "      a.download = filename;\n",
              "      div.appendChild(a);\n",
              "      a.click();\n",
              "      div.remove();\n",
              "    }\n",
              "  "
            ],
            "text/plain": [
              "<IPython.core.display.Javascript object>"
            ]
          },
          "metadata": {
            "tags": []
          }
        },
        {
          "output_type": "display_data",
          "data": {
            "application/javascript": [
              "download(\"download_e2943178-675c-4215-932f-492d5b265b5d\", \"vecs_model3.tsv\", 1913577)"
            ],
            "text/plain": [
              "<IPython.core.display.Javascript object>"
            ]
          },
          "metadata": {
            "tags": []
          }
        },
        {
          "output_type": "display_data",
          "data": {
            "application/javascript": [
              "\n",
              "    async function download(id, filename, size) {\n",
              "      if (!google.colab.kernel.accessAllowed) {\n",
              "        return;\n",
              "      }\n",
              "      const div = document.createElement('div');\n",
              "      const label = document.createElement('label');\n",
              "      label.textContent = `Downloading \"${filename}\": `;\n",
              "      div.appendChild(label);\n",
              "      const progress = document.createElement('progress');\n",
              "      progress.max = size;\n",
              "      div.appendChild(progress);\n",
              "      document.body.appendChild(div);\n",
              "\n",
              "      const buffers = [];\n",
              "      let downloaded = 0;\n",
              "\n",
              "      const channel = await google.colab.kernel.comms.open(id);\n",
              "      // Send a message to notify the kernel that we're ready.\n",
              "      channel.send({})\n",
              "\n",
              "      for await (const message of channel.messages) {\n",
              "        // Send a message to notify the kernel that we're ready.\n",
              "        channel.send({})\n",
              "        if (message.buffers) {\n",
              "          for (const buffer of message.buffers) {\n",
              "            buffers.push(buffer);\n",
              "            downloaded += buffer.byteLength;\n",
              "            progress.value = downloaded;\n",
              "          }\n",
              "        }\n",
              "      }\n",
              "      const blob = new Blob(buffers, {type: 'application/binary'});\n",
              "      const a = document.createElement('a');\n",
              "      a.href = window.URL.createObjectURL(blob);\n",
              "      a.download = filename;\n",
              "      div.appendChild(a);\n",
              "      a.click();\n",
              "      div.remove();\n",
              "    }\n",
              "  "
            ],
            "text/plain": [
              "<IPython.core.display.Javascript object>"
            ]
          },
          "metadata": {
            "tags": []
          }
        },
        {
          "output_type": "display_data",
          "data": {
            "application/javascript": [
              "download(\"download_9092b66c-17a8-40bd-96c6-e28aaaabcb86\", \"meta_model3.tsv\", 75846)"
            ],
            "text/plain": [
              "<IPython.core.display.Javascript object>"
            ]
          },
          "metadata": {
            "tags": []
          }
        }
      ]
    },
    {
      "cell_type": "code",
      "metadata": {
        "colab": {
          "base_uri": "https://localhost:8080/"
        },
        "id": "Uog78gVUFoKw",
        "outputId": "90e6da59-9485-4d88-c0c9-f552498884f7"
      },
      "source": [
        "# Testing new Custom Reviews\n",
        "sentence1='What a great movie.'\n",
        "test1=tokenizer.texts_to_sequences([sentence1])\n",
        "test1= pad_sequences(test1, maxlen=max_length, truncating=trunc_type)\n",
        "answer=model.predict(test1)\n",
        "print(f'Review for this sentence: \\n {sentence1} \\n is a value of {answer}')\n",
        "print('This makes sense since it is a value close to 1, meaning a good review')\n",
        "print('\\n')\n",
        "\n",
        "sentence2='What a terrible movie.'\n",
        "test2=tokenizer.texts_to_sequences([sentence2])\n",
        "test2= pad_sequences(test2, maxlen=max_length, truncating=trunc_type)\n",
        "answer=model.predict(test2)\n",
        "print(f'Review for this sentence: \\n {sentence2} \\n is a value of {answer}')\n",
        "print('This makes sense since it is a value close to 0, meaning a bad review')"
      ],
      "execution_count": 97,
      "outputs": [
        {
          "output_type": "stream",
          "text": [
            "Review for this sentence: \n",
            " What a great movie. \n",
            " is a value of [[0.8169106]]\n",
            "This makes sense since it is a value close to 1, meaning a good review\n",
            "\n",
            "\n",
            "Review for this sentence: \n",
            " What a terrible movie. \n",
            " is a value of [[0.00373334]]\n",
            "This makes sense since it is a value close to 0, meaning a bad review\n"
          ],
          "name": "stdout"
        }
      ]
    },
    {
      "cell_type": "markdown",
      "metadata": {
        "id": "PqvnHDkSGiR9"
      },
      "source": [
        "# 4.4 model4"
      ]
    },
    {
      "cell_type": "markdown",
      "metadata": {
        "id": "sPYtyGWuGiR-"
      },
      "source": [
        "## Set Embedding/Modeling Parameters"
      ]
    },
    {
      "cell_type": "code",
      "metadata": {
        "id": "df8La7_bGiR-"
      },
      "source": [
        "filename='TF_CNN_Sequential_NLP_imdb_reviews.ipynb'\n",
        "model_name='model4'\n",
        "optimizer='adam'\n",
        "optimizer_name=str(optimizer)\n",
        "loss='binary_crossentropy'\n",
        "accuracy_metric='binary_accuracy'\n",
        "epochs=10\n",
        "\n",
        "vocab_size = 10000\n",
        "embedding_dim = 16\n",
        "max_length = 120\n",
        "trunc_type='post'\n",
        "oov_tok = '<OOV>'"
      ],
      "execution_count": 98,
      "outputs": []
    },
    {
      "cell_type": "markdown",
      "metadata": {
        "id": "JzhrIX3sGiR_"
      },
      "source": [
        "## Split Train/Test"
      ]
    },
    {
      "cell_type": "code",
      "metadata": {
        "id": "bH1cWlKXGiSA"
      },
      "source": [
        "train_data, test_data = imdb['train'], imdb['test']"
      ],
      "execution_count": 99,
      "outputs": []
    },
    {
      "cell_type": "code",
      "metadata": {
        "id": "zdBpOxU7GiSC"
      },
      "source": [
        "training_sentences = []\n",
        "training_labels = []\n",
        "\n",
        "testing_sentences = []\n",
        "testing_labels = []"
      ],
      "execution_count": 100,
      "outputs": []
    },
    {
      "cell_type": "code",
      "metadata": {
        "id": "k2GfKgQUGiSC"
      },
      "source": [
        "for s, l in train_data:\n",
        "  training_sentences.append(str(s.numpy()))\n",
        "  training_labels.append(l.numpy())"
      ],
      "execution_count": 101,
      "outputs": []
    },
    {
      "cell_type": "code",
      "metadata": {
        "id": "8-2QFD_TGiSE"
      },
      "source": [
        "for s, l in test_data:\n",
        "  testing_sentences.append(str(s.numpy()))\n",
        "  testing_labels.append(l.numpy())"
      ],
      "execution_count": 102,
      "outputs": []
    },
    {
      "cell_type": "code",
      "metadata": {
        "id": "8gCV31GCGiSE"
      },
      "source": [
        "import numpy as np\n",
        "training_labels_final = np.array(training_labels)\n",
        "testing_labels_final = np.array(testing_labels)"
      ],
      "execution_count": 103,
      "outputs": []
    },
    {
      "cell_type": "markdown",
      "metadata": {
        "id": "aaiGj9OWGiSG"
      },
      "source": [
        "## Create Tokenizer"
      ]
    },
    {
      "cell_type": "code",
      "metadata": {
        "id": "MD2OXGOwGiSH"
      },
      "source": [
        "tokenizer = Tokenizer(num_words = vocab_size, oov_token=oov_tok) #create tokenizer that has a vocab_size & oov_token specified above"
      ],
      "execution_count": 104,
      "outputs": []
    },
    {
      "cell_type": "code",
      "metadata": {
        "colab": {
          "base_uri": "https://localhost:8080/"
        },
        "id": "X-1LL-hKGiSJ",
        "outputId": "c02ae2ea-108f-46d6-dd50-9982a2b8243c"
      },
      "source": [
        "testing_labels_final.max() #ensure max is still 1 for a \"bad\" review"
      ],
      "execution_count": 105,
      "outputs": [
        {
          "output_type": "execute_result",
          "data": {
            "text/plain": [
              "1"
            ]
          },
          "metadata": {
            "tags": []
          },
          "execution_count": 105
        }
      ]
    },
    {
      "cell_type": "code",
      "metadata": {
        "id": "rggBqLzbGiSL"
      },
      "source": [
        "tokenizer.fit_on_texts(training_sentences) #fit the tokenizer on the training_sentences "
      ],
      "execution_count": 106,
      "outputs": []
    },
    {
      "cell_type": "code",
      "metadata": {
        "id": "veddMobSGiSM"
      },
      "source": [
        "word_index = tokenizer.word_index #get the word index for the tokenizer"
      ],
      "execution_count": 107,
      "outputs": []
    },
    {
      "cell_type": "code",
      "metadata": {
        "id": "1Ir1jmH-GiSM"
      },
      "source": [
        "sequences = tokenizer.texts_to_sequences(training_sentences) #convert texts to sequences using the tokenizer"
      ],
      "execution_count": 108,
      "outputs": []
    },
    {
      "cell_type": "code",
      "metadata": {
        "id": "cuxRhB8sGiSN"
      },
      "source": [
        "padded = pad_sequences(sequences, maxlen=max_length, truncating=trunc_type) # pad the sequences by the max_length with truncation set to trunc_type"
      ],
      "execution_count": 109,
      "outputs": []
    },
    {
      "cell_type": "code",
      "metadata": {
        "id": "DpEFe9ccGiSO"
      },
      "source": [
        "testing_sequences = tokenizer.texts_to_sequences(testing_sentences) # convert the testing_sentences to testing_sequences"
      ],
      "execution_count": 110,
      "outputs": []
    },
    {
      "cell_type": "code",
      "metadata": {
        "id": "Om7hWKU_GiSP"
      },
      "source": [
        "testing_padded = pad_sequences(testing_sequences, maxlen=max_length) # convert the testing_sequences to testing_padded"
      ],
      "execution_count": 111,
      "outputs": []
    },
    {
      "cell_type": "code",
      "metadata": {
        "id": "bO1bs4Y7GiSP"
      },
      "source": [
        "reverse_word_index = dict([(value, key) for (key, value) in word_index.items()]) # reverse the key,value from word_index to check index value to key"
      ],
      "execution_count": 112,
      "outputs": []
    },
    {
      "cell_type": "code",
      "metadata": {
        "colab": {
          "base_uri": "https://localhost:8080/"
        },
        "id": "q-v1FkiGGiSQ",
        "outputId": "366dd45f-dd5b-4ff9-d4b7-274f5be0e546"
      },
      "source": [
        "print(decode_review(padded[0])) #This is after it has been padded and OOV in place, but decoded.  Recall this is actually padded as a sequence of numbers for training\n",
        "print(training_sentences[0]) #This is the original"
      ],
      "execution_count": 113,
      "outputs": [
        {
          "output_type": "stream",
          "text": [
            "? ? b this was an absolutely terrible movie don't be <OOV> in by christopher walken or michael <OOV> both are great actors but this must simply be their worst role in history even their great acting could not redeem this movie's ridiculous storyline this movie is an early nineties us propaganda piece the most pathetic scenes were those when the <OOV> rebels were making their cases for <OOV> maria <OOV> <OOV> appeared phony and her pseudo love affair with walken was nothing but a pathetic emotional plug in a movie that was devoid of any real meaning i am disappointed that there are movies like this ruining <OOV> like christopher <OOV> good name i could barely sit through it\n",
            "b\"This was an absolutely terrible movie. Don't be lured in by Christopher Walken or Michael Ironside. Both are great actors, but this must simply be their worst role in history. Even their great acting could not redeem this movie's ridiculous storyline. This movie is an early nineties US propaganda piece. The most pathetic scenes were those when the Columbian rebels were making their cases for revolutions. Maria Conchita Alonso appeared phony, and her pseudo-love affair with Walken was nothing but a pathetic emotional plug in a movie that was devoid of any real meaning. I am disappointed that there are movies like this, ruining actor's like Christopher Walken's good name. I could barely sit through it.\"\n"
          ],
          "name": "stdout"
        }
      ]
    },
    {
      "cell_type": "markdown",
      "metadata": {
        "id": "C8EvqLNBGiSQ"
      },
      "source": [
        "## Create Model"
      ]
    },
    {
      "cell_type": "code",
      "metadata": {
        "id": "ClhZ1uU6GiSQ"
      },
      "source": [
        "model,model_description=model_picker(vocab_size=vocab_size,embedding_dim=embedding_dim,input_length=max_length,model_name='model1')"
      ],
      "execution_count": 114,
      "outputs": []
    },
    {
      "cell_type": "code",
      "metadata": {
        "colab": {
          "base_uri": "https://localhost:8080/"
        },
        "id": "z2HZI2szGiSR",
        "outputId": "e82596f7-2f84-4222-9663-91b8b8aa2ac9"
      },
      "source": [
        "model.summary()"
      ],
      "execution_count": 115,
      "outputs": [
        {
          "output_type": "stream",
          "text": [
            "Model: \"sequential_3\"\n",
            "_________________________________________________________________\n",
            "Layer (type)                 Output Shape              Param #   \n",
            "=================================================================\n",
            "embedding_3 (Embedding)      (None, 120, 16)           160000    \n",
            "_________________________________________________________________\n",
            "flatten_3 (Flatten)          (None, 1920)              0         \n",
            "_________________________________________________________________\n",
            "dense_6 (Dense)              (None, 6)                 11526     \n",
            "_________________________________________________________________\n",
            "dense_7 (Dense)              (None, 1)                 7         \n",
            "=================================================================\n",
            "Total params: 171,533\n",
            "Trainable params: 171,533\n",
            "Non-trainable params: 0\n",
            "_________________________________________________________________\n"
          ],
          "name": "stdout"
        }
      ]
    },
    {
      "cell_type": "code",
      "metadata": {
        "id": "u1kIMbnNGiSR"
      },
      "source": [
        "model.compile(loss=loss,optimizer=optimizer,metrics=[accuracy_metric])"
      ],
      "execution_count": 116,
      "outputs": []
    },
    {
      "cell_type": "markdown",
      "metadata": {
        "id": "5nxvAzQeGiSS"
      },
      "source": [
        "## Train Model"
      ]
    },
    {
      "cell_type": "code",
      "metadata": {
        "colab": {
          "base_uri": "https://localhost:8080/"
        },
        "id": "Y2ALaq6qGiST",
        "outputId": "0f06f266-a703-40df-c21e-73d255e6bdac"
      },
      "source": [
        "history=model.fit(padded, training_labels_final,epochs=epochs,validation_data=(testing_padded,\n",
        "                                                                           testing_labels_final))"
      ],
      "execution_count": 117,
      "outputs": [
        {
          "output_type": "stream",
          "text": [
            "Epoch 1/10\n",
            "782/782 [==============================] - 6s 7ms/step - loss: 0.5003 - binary_accuracy: 0.7352 - val_loss: 0.3521 - val_binary_accuracy: 0.8460\n",
            "Epoch 2/10\n",
            "782/782 [==============================] - 4s 6ms/step - loss: 0.2374 - binary_accuracy: 0.9075 - val_loss: 0.3737 - val_binary_accuracy: 0.8374\n",
            "Epoch 3/10\n",
            "782/782 [==============================] - 5s 7ms/step - loss: 0.0870 - binary_accuracy: 0.9781 - val_loss: 0.4510 - val_binary_accuracy: 0.8273\n",
            "Epoch 4/10\n",
            "782/782 [==============================] - 5s 6ms/step - loss: 0.0210 - binary_accuracy: 0.9972 - val_loss: 0.5309 - val_binary_accuracy: 0.8251\n",
            "Epoch 5/10\n",
            "782/782 [==============================] - 5s 6ms/step - loss: 0.0049 - binary_accuracy: 0.9997 - val_loss: 0.5892 - val_binary_accuracy: 0.8280\n",
            "Epoch 6/10\n",
            "782/782 [==============================] - 5s 6ms/step - loss: 0.0018 - binary_accuracy: 1.0000 - val_loss: 0.6381 - val_binary_accuracy: 0.8284\n",
            "Epoch 7/10\n",
            "782/782 [==============================] - 5s 6ms/step - loss: 8.2469e-04 - binary_accuracy: 1.0000 - val_loss: 0.6797 - val_binary_accuracy: 0.8290\n",
            "Epoch 8/10\n",
            "782/782 [==============================] - 5s 6ms/step - loss: 4.6159e-04 - binary_accuracy: 1.0000 - val_loss: 0.7188 - val_binary_accuracy: 0.8287\n",
            "Epoch 9/10\n",
            "782/782 [==============================] - 5s 6ms/step - loss: 2.6318e-04 - binary_accuracy: 1.0000 - val_loss: 0.7563 - val_binary_accuracy: 0.8288\n",
            "Epoch 10/10\n",
            "782/782 [==============================] - 4s 5ms/step - loss: 1.6029e-04 - binary_accuracy: 1.0000 - val_loss: 0.7943 - val_binary_accuracy: 0.8289\n"
          ],
          "name": "stdout"
        }
      ]
    },
    {
      "cell_type": "markdown",
      "metadata": {
        "id": "DoEOno8lGiST"
      },
      "source": [
        "## Evaluate Model"
      ]
    },
    {
      "cell_type": "code",
      "metadata": {
        "colab": {
          "base_uri": "https://localhost:8080/"
        },
        "id": "SawlR5kzGiST",
        "outputId": "636dd76d-cf64-40e1-84e0-63c688e37f8c"
      },
      "source": [
        "e = model.layers[0]\n",
        "weights=e.get_weights()[0]\n",
        "print(weights.shape) # shape: (vocab_size, embedding_dim)"
      ],
      "execution_count": 118,
      "outputs": [
        {
          "output_type": "stream",
          "text": [
            "(10000, 16)\n"
          ],
          "name": "stdout"
        }
      ]
    },
    {
      "cell_type": "code",
      "metadata": {
        "colab": {
          "base_uri": "https://localhost:8080/"
        },
        "id": "RFs1j0MYGiSU",
        "outputId": "96204066-31ce-4754-821e-4405339dbc62"
      },
      "source": [
        "final_eval_loss,final_eval_acc=model.evaluate(testing_padded,testing_labels_final)"
      ],
      "execution_count": 119,
      "outputs": [
        {
          "output_type": "stream",
          "text": [
            "782/782 [==============================] - 1s 1ms/step - loss: 0.7943 - binary_accuracy: 0.8289\n"
          ],
          "name": "stdout"
        }
      ]
    },
    {
      "cell_type": "code",
      "metadata": {
        "colab": {
          "base_uri": "https://localhost:8080/"
        },
        "id": "a8bNwhcXGiSV",
        "outputId": "db188088-eb44-45e3-8a37-3740ae40f800"
      },
      "source": [
        "final_eval_loss"
      ],
      "execution_count": 120,
      "outputs": [
        {
          "output_type": "execute_result",
          "data": {
            "text/plain": [
              "0.7943443655967712"
            ]
          },
          "metadata": {
            "tags": []
          },
          "execution_count": 120
        }
      ]
    },
    {
      "cell_type": "code",
      "metadata": {
        "colab": {
          "base_uri": "https://localhost:8080/"
        },
        "id": "dqWBrL93GiSV",
        "outputId": "bfccac6f-5c2c-4422-e2bb-a0660c93d06b"
      },
      "source": [
        "trainableParams = np.sum([np.prod(v.get_shape()) for v in model.trainable_weights])\n",
        "trainableParams"
      ],
      "execution_count": 121,
      "outputs": [
        {
          "output_type": "execute_result",
          "data": {
            "text/plain": [
              "171533"
            ]
          },
          "metadata": {
            "tags": []
          },
          "execution_count": 121
        }
      ]
    },
    {
      "cell_type": "code",
      "metadata": {
        "colab": {
          "base_uri": "https://localhost:8080/",
          "height": 891
        },
        "id": "n-vGY4VpGiSW",
        "outputId": "052287c3-babd-4a25-9c6b-7e1a426a1a6a"
      },
      "source": [
        "plot_train_eval(history,model_name,trainableParams,optimizer_name,loss,accuracy_metric,epochs,vocab_size,embedding_dim,max_length,trunc_type,oov_tok)"
      ],
      "execution_count": 122,
      "outputs": [
        {
          "output_type": "display_data",
          "data": {
            "image/png": "[encoded data removed]",
            "text/plain": [
              "<Figure size 432x288 with 1 Axes>"
            ]
          },
          "metadata": {
            "tags": [],
            "needs_background": "light"
          }
        },
        {
          "output_type": "stream",
          "text": [
            "\n"
          ],
          "name": "stdout"
        },
        {
          "output_type": "display_data",
          "data": {
            "image/png": "[encoded data removed]",
            "text/plain": [
              "<Figure size 432x288 with 1 Axes>"
            ]
          },
          "metadata": {
            "tags": [],
            "needs_background": "light"
          }
        }
      ]
    },
    {
      "cell_type": "code",
      "metadata": {
        "colab": {
          "base_uri": "https://localhost:8080/",
          "height": 265
        },
        "id": "Jz2g8oB-GiSX",
        "outputId": "846b61d9-6e7b-4112-e347-d4e67e0e636a"
      },
      "source": [
        "df=pd.DataFrame([[filename,model_name,model_description,optimizer,loss,accuracy_metric,epochs,vocab_size,embedding_dim,max_length,trunc_type,oov_tok,final_eval_loss,final_eval_acc]],columns=cols)\n",
        "df_metrics=df_metrics.append(df,ignore_index=True)\n",
        "df_metrics"
      ],
      "execution_count": 123,
      "outputs": [
        {
          "output_type": "execute_result",
          "data": {
            "text/html": [
              "<div>\n",
              "<style scoped>\n",
              "    .dataframe tbody tr th:only-of-type {\n",
              "        vertical-align: middle;\n",
              "    }\n",
              "\n",
              "    .dataframe tbody tr th {\n",
              "        vertical-align: top;\n",
              "    }\n",
              "\n",
              "    .dataframe thead th {\n",
              "        text-align: right;\n",
              "    }\n",
              "</style>\n",
              "<table border=\"1\" class=\"dataframe\">\n",
              "  <thead>\n",
              "    <tr style=\"text-align: right;\">\n",
              "      <th></th>\n",
              "      <th>filename</th>\n",
              "      <th>model_name</th>\n",
              "      <th>model_description</th>\n",
              "      <th>optimizer</th>\n",
              "      <th>loss</th>\n",
              "      <th>accuracy_metric</th>\n",
              "      <th>epochs</th>\n",
              "      <th>vocab_size</th>\n",
              "      <th>embedding_dim</th>\n",
              "      <th>max_length</th>\n",
              "      <th>trunc_type</th>\n",
              "      <th>oov_tok</th>\n",
              "      <th>final_eval_loss</th>\n",
              "      <th>final_eval_acc</th>\n",
              "    </tr>\n",
              "  </thead>\n",
              "  <tbody>\n",
              "    <tr>\n",
              "      <th>0</th>\n",
              "      <td>TF_CNN_Sequential_NLP_imdb_reviews.ipynb</td>\n",
              "      <td>model1</td>\n",
              "      <td>Embedding(vocab_size=10000, \\n embedding_dim=1...</td>\n",
              "      <td>adam</td>\n",
              "      <td>binary_crossentropy</td>\n",
              "      <td>binary_accuracy</td>\n",
              "      <td>10</td>\n",
              "      <td>10000</td>\n",
              "      <td>16</td>\n",
              "      <td>120</td>\n",
              "      <td>post</td>\n",
              "      <td>&lt;OOV&gt;</td>\n",
              "      <td>0.784348</td>\n",
              "      <td>0.82900</td>\n",
              "    </tr>\n",
              "    <tr>\n",
              "      <th>1</th>\n",
              "      <td>TF_CNN_Sequential_NLP_imdb_reviews.ipynb</td>\n",
              "      <td>model2</td>\n",
              "      <td>Embedding(vocab_size=10000, \\n embedding_dim=1...</td>\n",
              "      <td>adam</td>\n",
              "      <td>binary_crossentropy</td>\n",
              "      <td>binary_accuracy</td>\n",
              "      <td>10</td>\n",
              "      <td>10000</td>\n",
              "      <td>16</td>\n",
              "      <td>120</td>\n",
              "      <td>post</td>\n",
              "      <td>&lt;OOV&gt;</td>\n",
              "      <td>0.795204</td>\n",
              "      <td>0.82816</td>\n",
              "    </tr>\n",
              "    <tr>\n",
              "      <th>2</th>\n",
              "      <td>TF_CNN_Sequential_NLP_imdb_reviews.ipynb</td>\n",
              "      <td>model3</td>\n",
              "      <td>Embedding(vocab_size=10000, \\n embedding_dim=1...</td>\n",
              "      <td>adam</td>\n",
              "      <td>binary_crossentropy</td>\n",
              "      <td>binary_accuracy</td>\n",
              "      <td>10</td>\n",
              "      <td>10000</td>\n",
              "      <td>16</td>\n",
              "      <td>120</td>\n",
              "      <td>post</td>\n",
              "      <td>&lt;OOV&gt;</td>\n",
              "      <td>0.801059</td>\n",
              "      <td>0.83012</td>\n",
              "    </tr>\n",
              "    <tr>\n",
              "      <th>3</th>\n",
              "      <td>TF_CNN_Sequential_NLP_imdb_reviews.ipynb</td>\n",
              "      <td>model4</td>\n",
              "      <td>Embedding(vocab_size=10000, \\n embedding_dim=1...</td>\n",
              "      <td>adam</td>\n",
              "      <td>binary_crossentropy</td>\n",
              "      <td>binary_accuracy</td>\n",
              "      <td>10</td>\n",
              "      <td>10000</td>\n",
              "      <td>16</td>\n",
              "      <td>120</td>\n",
              "      <td>post</td>\n",
              "      <td>&lt;OOV&gt;</td>\n",
              "      <td>0.794344</td>\n",
              "      <td>0.82888</td>\n",
              "    </tr>\n",
              "  </tbody>\n",
              "</table>\n",
              "</div>"
            ],
            "text/plain": [
              "                                   filename  ... final_eval_acc\n",
              "0  TF_CNN_Sequential_NLP_imdb_reviews.ipynb  ...        0.82900\n",
              "1  TF_CNN_Sequential_NLP_imdb_reviews.ipynb  ...        0.82816\n",
              "2  TF_CNN_Sequential_NLP_imdb_reviews.ipynb  ...        0.83012\n",
              "3  TF_CNN_Sequential_NLP_imdb_reviews.ipynb  ...        0.82888\n",
              "\n",
              "[4 rows x 14 columns]"
            ]
          },
          "metadata": {
            "tags": []
          },
          "execution_count": 123
        }
      ]
    },
    {
      "cell_type": "code",
      "metadata": {
        "colab": {
          "base_uri": "https://localhost:8080/"
        },
        "id": "mX_eeEGrGiSX",
        "outputId": "f6470be3-4266-442d-8877-6441e0041383"
      },
      "source": [
        "model.save(model_name) #save model\n",
        "model=tf.keras.models.load_model(model_name) #load model\n",
        "df_metrics.to_excel('df_metrics.xlsx')"
      ],
      "execution_count": 124,
      "outputs": [
        {
          "output_type": "stream",
          "text": [
            "INFO:tensorflow:Assets written to: model4/assets\n"
          ],
          "name": "stdout"
        },
        {
          "output_type": "stream",
          "text": [
            "INFO:tensorflow:Assets written to: model4/assets\n"
          ],
          "name": "stderr"
        }
      ]
    },
    {
      "cell_type": "code",
      "metadata": {
        "id": "6CU-IkneGiSY"
      },
      "source": [
        "import io\n",
        "\n",
        "out_v = io.open(f'vecs_{model_name}.tsv', 'w', encoding='utf-8')\n",
        "out_m = io.open(f'meta_{model_name}.tsv', 'w', encoding='utf-8')\n",
        "for word_num in range(1, vocab_size):\n",
        "  word = reverse_word_index[word_num]\n",
        "  embeddings = weights[word_num]\n",
        "  out_m.write(word + \"\\n\")\n",
        "  out_v.write('\\t'.join([str(x) for x in embeddings]) + \"\\n\")\n",
        "out_v.close()\n",
        "out_m.close()"
      ],
      "execution_count": 125,
      "outputs": []
    },
    {
      "cell_type": "code",
      "metadata": {
        "colab": {
          "base_uri": "https://localhost:8080/",
          "height": 17
        },
        "id": "6G4aH7T-GiSY",
        "outputId": "7a571a84-e3db-4595-f2d8-65b2fecfd3d7"
      },
      "source": [
        "try:\n",
        "  from google.colab import files\n",
        "except ImportError:\n",
        "  pass\n",
        "else:\n",
        "  files.download(f'vecs_{model_name}.tsv')\n",
        "  files.download(f'meta_{model_name}.tsv')"
      ],
      "execution_count": 126,
      "outputs": [
        {
          "output_type": "display_data",
          "data": {
            "application/javascript": [
              "\n",
              "    async function download(id, filename, size) {\n",
              "      if (!google.colab.kernel.accessAllowed) {\n",
              "        return;\n",
              "      }\n",
              "      const div = document.createElement('div');\n",
              "      const label = document.createElement('label');\n",
              "      label.textContent = `Downloading \"${filename}\": `;\n",
              "      div.appendChild(label);\n",
              "      const progress = document.createElement('progress');\n",
              "      progress.max = size;\n",
              "      div.appendChild(progress);\n",
              "      document.body.appendChild(div);\n",
              "\n",
              "      const buffers = [];\n",
              "      let downloaded = 0;\n",
              "\n",
              "      const channel = await google.colab.kernel.comms.open(id);\n",
              "      // Send a message to notify the kernel that we're ready.\n",
              "      channel.send({})\n",
              "\n",
              "      for await (const message of channel.messages) {\n",
              "        // Send a message to notify the kernel that we're ready.\n",
              "        channel.send({})\n",
              "        if (message.buffers) {\n",
              "          for (const buffer of message.buffers) {\n",
              "            buffers.push(buffer);\n",
              "            downloaded += buffer.byteLength;\n",
              "            progress.value = downloaded;\n",
              "          }\n",
              "        }\n",
              "      }\n",
              "      const blob = new Blob(buffers, {type: 'application/binary'});\n",
              "      const a = document.createElement('a');\n",
              "      a.href = window.URL.createObjectURL(blob);\n",
              "      a.download = filename;\n",
              "      div.appendChild(a);\n",
              "      a.click();\n",
              "      div.remove();\n",
              "    }\n",
              "  "
            ],
            "text/plain": [
              "<IPython.core.display.Javascript object>"
            ]
          },
          "metadata": {
            "tags": []
          }
        },
        {
          "output_type": "display_data",
          "data": {
            "application/javascript": [
              "download(\"download_b3597158-6b38-4350-b034-5e3f13028730\", \"vecs_model4.tsv\", 1910499)"
            ],
            "text/plain": [
              "<IPython.core.display.Javascript object>"
            ]
          },
          "metadata": {
            "tags": []
          }
        },
        {
          "output_type": "display_data",
          "data": {
            "application/javascript": [
              "\n",
              "    async function download(id, filename, size) {\n",
              "      if (!google.colab.kernel.accessAllowed) {\n",
              "        return;\n",
              "      }\n",
              "      const div = document.createElement('div');\n",
              "      const label = document.createElement('label');\n",
              "      label.textContent = `Downloading \"${filename}\": `;\n",
              "      div.appendChild(label);\n",
              "      const progress = document.createElement('progress');\n",
              "      progress.max = size;\n",
              "      div.appendChild(progress);\n",
              "      document.body.appendChild(div);\n",
              "\n",
              "      const buffers = [];\n",
              "      let downloaded = 0;\n",
              "\n",
              "      const channel = await google.colab.kernel.comms.open(id);\n",
              "      // Send a message to notify the kernel that we're ready.\n",
              "      channel.send({})\n",
              "\n",
              "      for await (const message of channel.messages) {\n",
              "        // Send a message to notify the kernel that we're ready.\n",
              "        channel.send({})\n",
              "        if (message.buffers) {\n",
              "          for (const buffer of message.buffers) {\n",
              "            buffers.push(buffer);\n",
              "            downloaded += buffer.byteLength;\n",
              "            progress.value = downloaded;\n",
              "          }\n",
              "        }\n",
              "      }\n",
              "      const blob = new Blob(buffers, {type: 'application/binary'});\n",
              "      const a = document.createElement('a');\n",
              "      a.href = window.URL.createObjectURL(blob);\n",
              "      a.download = filename;\n",
              "      div.appendChild(a);\n",
              "      a.click();\n",
              "      div.remove();\n",
              "    }\n",
              "  "
            ],
            "text/plain": [
              "<IPython.core.display.Javascript object>"
            ]
          },
          "metadata": {
            "tags": []
          }
        },
        {
          "output_type": "display_data",
          "data": {
            "application/javascript": [
              "download(\"download_0dc263c0-1242-4344-ba1d-fcc71a863fb8\", \"meta_model4.tsv\", 75846)"
            ],
            "text/plain": [
              "<IPython.core.display.Javascript object>"
            ]
          },
          "metadata": {
            "tags": []
          }
        }
      ]
    },
    {
      "cell_type": "code",
      "metadata": {
        "colab": {
          "base_uri": "https://localhost:8080/"
        },
        "id": "XlZsfpzRGiSY",
        "outputId": "ed33da7c-d53c-4222-c580-28a09507dd68"
      },
      "source": [
        "# Testing new Custom Reviews\n",
        "sentence1='What a great movie.'\n",
        "test1=tokenizer.texts_to_sequences([sentence1])\n",
        "test1= pad_sequences(test1, maxlen=max_length, truncating=trunc_type)\n",
        "answer=model.predict(test1)\n",
        "print(f'Review for this sentence: \\n {sentence1} \\n is a value of {answer}')\n",
        "print('This makes sense since it is a value close to 1, meaning a good review')\n",
        "print('\\n')\n",
        "\n",
        "sentence2='What a terrible movie.'\n",
        "test2=tokenizer.texts_to_sequences([sentence2])\n",
        "test2= pad_sequences(test2, maxlen=max_length, truncating=trunc_type)\n",
        "answer=model.predict(test2)\n",
        "print(f'Review for this sentence: \\n {sentence2} \\n is a value of {answer}')\n",
        "print('This makes sense since it is a value close to 0, meaning a bad review')"
      ],
      "execution_count": 127,
      "outputs": [
        {
          "output_type": "stream",
          "text": [
            "Review for this sentence: \n",
            " What a great movie. \n",
            " is a value of [[0.9148374]]\n",
            "This makes sense since it is a value close to 1, meaning a good review\n",
            "\n",
            "\n",
            "Review for this sentence: \n",
            " What a terrible movie. \n",
            " is a value of [[0.02149814]]\n",
            "This makes sense since it is a value close to 0, meaning a bad review\n"
          ],
          "name": "stdout"
        }
      ]
    },
    {
      "cell_type": "markdown",
      "metadata": {
        "id": "HGZAwqm_HiiX"
      },
      "source": [
        "# 4.5 model5"
      ]
    },
    {
      "cell_type": "markdown",
      "metadata": {
        "id": "EIjGwAyiHiiX"
      },
      "source": [
        "## Set Embedding/Modeling Parameters"
      ]
    },
    {
      "cell_type": "code",
      "metadata": {
        "id": "btYxaVoUHiia"
      },
      "source": [
        "filename='TF_CNN_Sequential_NLP_imdb_reviews.ipynb'\n",
        "model_name='model5'\n",
        "optimizer='adam'\n",
        "optimizer_name=str(optimizer)\n",
        "loss='binary_crossentropy'\n",
        "accuracy_metric='binary_accuracy'\n",
        "epochs=10\n",
        "\n",
        "vocab_size = 10000\n",
        "embedding_dim = 16\n",
        "max_length = 120\n",
        "trunc_type='post'\n",
        "oov_tok = '<OOV>'"
      ],
      "execution_count": 128,
      "outputs": []
    },
    {
      "cell_type": "markdown",
      "metadata": {
        "id": "afN14MiGHiib"
      },
      "source": [
        "## Split Train/Test"
      ]
    },
    {
      "cell_type": "code",
      "metadata": {
        "id": "jW6c6nLBHiib"
      },
      "source": [
        "train_data, test_data = imdb['train'], imdb['test']"
      ],
      "execution_count": 129,
      "outputs": []
    },
    {
      "cell_type": "code",
      "metadata": {
        "id": "A2ovdoNXHiic"
      },
      "source": [
        "training_sentences = []\n",
        "training_labels = []\n",
        "\n",
        "testing_sentences = []\n",
        "testing_labels = []"
      ],
      "execution_count": 130,
      "outputs": []
    },
    {
      "cell_type": "code",
      "metadata": {
        "id": "jnKyJEorHiic"
      },
      "source": [
        "for s, l in train_data:\n",
        "  training_sentences.append(str(s.numpy()))\n",
        "  training_labels.append(l.numpy())"
      ],
      "execution_count": 131,
      "outputs": []
    },
    {
      "cell_type": "code",
      "metadata": {
        "id": "dobYL6j0Hiid"
      },
      "source": [
        "for s, l in test_data:\n",
        "  testing_sentences.append(str(s.numpy()))\n",
        "  testing_labels.append(l.numpy())"
      ],
      "execution_count": 132,
      "outputs": []
    },
    {
      "cell_type": "code",
      "metadata": {
        "id": "z8ceUAvZHiid"
      },
      "source": [
        "import numpy as np\n",
        "training_labels_final = np.array(training_labels)\n",
        "testing_labels_final = np.array(testing_labels)"
      ],
      "execution_count": 133,
      "outputs": []
    },
    {
      "cell_type": "markdown",
      "metadata": {
        "id": "SJr4qsXaHiie"
      },
      "source": [
        "## Create Tokenizer"
      ]
    },
    {
      "cell_type": "code",
      "metadata": {
        "id": "OoACPH3RHiie"
      },
      "source": [
        "tokenizer = Tokenizer(num_words = vocab_size, oov_token=oov_tok) #create tokenizer that has a vocab_size & oov_token specified above"
      ],
      "execution_count": 134,
      "outputs": []
    },
    {
      "cell_type": "code",
      "metadata": {
        "colab": {
          "base_uri": "https://localhost:8080/"
        },
        "id": "jHDaTtvoHiie",
        "outputId": "b8a5942c-20c8-4321-cc2f-8971419788d5"
      },
      "source": [
        "testing_labels_final.max() #ensure max is still 1 for a \"bad\" review"
      ],
      "execution_count": 135,
      "outputs": [
        {
          "output_type": "execute_result",
          "data": {
            "text/plain": [
              "1"
            ]
          },
          "metadata": {
            "tags": []
          },
          "execution_count": 135
        }
      ]
    },
    {
      "cell_type": "code",
      "metadata": {
        "id": "kZabBFeuHiif"
      },
      "source": [
        "tokenizer.fit_on_texts(training_sentences) #fit the tokenizer on the training_sentences "
      ],
      "execution_count": 136,
      "outputs": []
    },
    {
      "cell_type": "code",
      "metadata": {
        "id": "UCBYtdpyHiif"
      },
      "source": [
        "word_index = tokenizer.word_index #get the word index for the tokenizer"
      ],
      "execution_count": 137,
      "outputs": []
    },
    {
      "cell_type": "code",
      "metadata": {
        "id": "dzG9y9QKHiif"
      },
      "source": [
        "sequences = tokenizer.texts_to_sequences(training_sentences) #convert texts to sequences using the tokenizer"
      ],
      "execution_count": 138,
      "outputs": []
    },
    {
      "cell_type": "code",
      "metadata": {
        "id": "yYsUcukAHiif"
      },
      "source": [
        "padded = pad_sequences(sequences, maxlen=max_length, truncating=trunc_type) # pad the sequences by the max_length with truncation set to trunc_type"
      ],
      "execution_count": 139,
      "outputs": []
    },
    {
      "cell_type": "code",
      "metadata": {
        "id": "EvyycltSHiig"
      },
      "source": [
        "testing_sequences = tokenizer.texts_to_sequences(testing_sentences) # convert the testing_sentences to testing_sequences"
      ],
      "execution_count": 140,
      "outputs": []
    },
    {
      "cell_type": "code",
      "metadata": {
        "id": "DzIbzKBiHiig"
      },
      "source": [
        "testing_padded = pad_sequences(testing_sequences, maxlen=max_length) # convert the testing_sequences to testing_padded"
      ],
      "execution_count": 141,
      "outputs": []
    },
    {
      "cell_type": "code",
      "metadata": {
        "id": "AXE1Vfp4Hiig"
      },
      "source": [
        "reverse_word_index = dict([(value, key) for (key, value) in word_index.items()]) # reverse the key,value from word_index to check index value to key"
      ],
      "execution_count": 142,
      "outputs": []
    },
    {
      "cell_type": "code",
      "metadata": {
        "colab": {
          "base_uri": "https://localhost:8080/"
        },
        "id": "h9WieVcwHiig",
        "outputId": "fa66d5db-efc7-4a0f-d880-65dca12d9a51"
      },
      "source": [
        "print(decode_review(padded[0])) #This is after it has been padded and OOV in place, but decoded.  Recall this is actually padded as a sequence of numbers for training\n",
        "print(training_sentences[0]) #This is the original"
      ],
      "execution_count": 143,
      "outputs": [
        {
          "output_type": "stream",
          "text": [
            "? ? b this was an absolutely terrible movie don't be <OOV> in by christopher walken or michael <OOV> both are great actors but this must simply be their worst role in history even their great acting could not redeem this movie's ridiculous storyline this movie is an early nineties us propaganda piece the most pathetic scenes were those when the <OOV> rebels were making their cases for <OOV> maria <OOV> <OOV> appeared phony and her pseudo love affair with walken was nothing but a pathetic emotional plug in a movie that was devoid of any real meaning i am disappointed that there are movies like this ruining <OOV> like christopher <OOV> good name i could barely sit through it\n",
            "b\"This was an absolutely terrible movie. Don't be lured in by Christopher Walken or Michael Ironside. Both are great actors, but this must simply be their worst role in history. Even their great acting could not redeem this movie's ridiculous storyline. This movie is an early nineties US propaganda piece. The most pathetic scenes were those when the Columbian rebels were making their cases for revolutions. Maria Conchita Alonso appeared phony, and her pseudo-love affair with Walken was nothing but a pathetic emotional plug in a movie that was devoid of any real meaning. I am disappointed that there are movies like this, ruining actor's like Christopher Walken's good name. I could barely sit through it.\"\n"
          ],
          "name": "stdout"
        }
      ]
    },
    {
      "cell_type": "markdown",
      "metadata": {
        "id": "FDj-280VHiih"
      },
      "source": [
        "## Create Model"
      ]
    },
    {
      "cell_type": "code",
      "metadata": {
        "id": "5-PxkR5lHiih"
      },
      "source": [
        "model,model_description=model_picker(vocab_size=vocab_size,embedding_dim=embedding_dim,input_length=max_length,model_name='model1')"
      ],
      "execution_count": 144,
      "outputs": []
    },
    {
      "cell_type": "code",
      "metadata": {
        "colab": {
          "base_uri": "https://localhost:8080/"
        },
        "id": "kgH6cZ2OHiih",
        "outputId": "c11c8a84-fce1-4df8-abe1-5cc59cdf92cf"
      },
      "source": [
        "model.summary()"
      ],
      "execution_count": 145,
      "outputs": [
        {
          "output_type": "stream",
          "text": [
            "Model: \"sequential_4\"\n",
            "_________________________________________________________________\n",
            "Layer (type)                 Output Shape              Param #   \n",
            "=================================================================\n",
            "embedding_4 (Embedding)      (None, 120, 16)           160000    \n",
            "_________________________________________________________________\n",
            "flatten_4 (Flatten)          (None, 1920)              0         \n",
            "_________________________________________________________________\n",
            "dense_8 (Dense)              (None, 6)                 11526     \n",
            "_________________________________________________________________\n",
            "dense_9 (Dense)              (None, 1)                 7         \n",
            "=================================================================\n",
            "Total params: 171,533\n",
            "Trainable params: 171,533\n",
            "Non-trainable params: 0\n",
            "_________________________________________________________________\n"
          ],
          "name": "stdout"
        }
      ]
    },
    {
      "cell_type": "code",
      "metadata": {
        "id": "aIDUdk4uHiih"
      },
      "source": [
        "model.compile(loss=loss,optimizer=optimizer,metrics=[accuracy_metric])"
      ],
      "execution_count": 146,
      "outputs": []
    },
    {
      "cell_type": "markdown",
      "metadata": {
        "id": "ZB2h9yjbHiih"
      },
      "source": [
        "## Train Model"
      ]
    },
    {
      "cell_type": "code",
      "metadata": {
        "colab": {
          "base_uri": "https://localhost:8080/"
        },
        "id": "noRpJQdoHiii",
        "outputId": "4e03e4b7-ac4c-4141-cda9-92d1b1ece93a"
      },
      "source": [
        "history=model.fit(padded, training_labels_final,epochs=epochs,validation_data=(testing_padded,\n",
        "                                                                           testing_labels_final))"
      ],
      "execution_count": 147,
      "outputs": [
        {
          "output_type": "stream",
          "text": [
            "Epoch 1/10\n",
            "782/782 [==============================] - 6s 7ms/step - loss: 0.4939 - binary_accuracy: 0.7451 - val_loss: 0.3616 - val_binary_accuracy: 0.8397\n",
            "Epoch 2/10\n",
            "782/782 [==============================] - 5s 6ms/step - loss: 0.2380 - binary_accuracy: 0.9086 - val_loss: 0.3643 - val_binary_accuracy: 0.8396\n",
            "Epoch 3/10\n",
            "782/782 [==============================] - 5s 6ms/step - loss: 0.0889 - binary_accuracy: 0.9777 - val_loss: 0.4533 - val_binary_accuracy: 0.8256\n",
            "Epoch 4/10\n",
            "782/782 [==============================] - 5s 6ms/step - loss: 0.0219 - binary_accuracy: 0.9974 - val_loss: 0.5275 - val_binary_accuracy: 0.8273\n",
            "Epoch 5/10\n",
            "782/782 [==============================] - 5s 7ms/step - loss: 0.0060 - binary_accuracy: 0.9995 - val_loss: 0.5919 - val_binary_accuracy: 0.8253\n",
            "Epoch 6/10\n",
            "782/782 [==============================] - 6s 7ms/step - loss: 0.0018 - binary_accuracy: 1.0000 - val_loss: 0.6431 - val_binary_accuracy: 0.8268\n",
            "Epoch 7/10\n",
            "782/782 [==============================] - 5s 6ms/step - loss: 8.1333e-04 - binary_accuracy: 1.0000 - val_loss: 0.6843 - val_binary_accuracy: 0.8275\n",
            "Epoch 8/10\n",
            "782/782 [==============================] - 5s 7ms/step - loss: 4.5199e-04 - binary_accuracy: 1.0000 - val_loss: 0.7219 - val_binary_accuracy: 0.8282\n",
            "Epoch 9/10\n",
            "782/782 [==============================] - 4s 6ms/step - loss: 2.6367e-04 - binary_accuracy: 1.0000 - val_loss: 0.7599 - val_binary_accuracy: 0.8282\n",
            "Epoch 10/10\n",
            "782/782 [==============================] - 4s 5ms/step - loss: 1.5658e-04 - binary_accuracy: 1.0000 - val_loss: 0.7969 - val_binary_accuracy: 0.8287\n"
          ],
          "name": "stdout"
        }
      ]
    },
    {
      "cell_type": "markdown",
      "metadata": {
        "id": "zp6NJH8fHiii"
      },
      "source": [
        "## Evaluate Model"
      ]
    },
    {
      "cell_type": "code",
      "metadata": {
        "colab": {
          "base_uri": "https://localhost:8080/"
        },
        "id": "B7R7A39sHiik",
        "outputId": "a9239bb2-c6f6-42f5-eef1-9fd5a152936d"
      },
      "source": [
        "e = model.layers[0]\n",
        "weights=e.get_weights()[0]\n",
        "print(weights.shape) # shape: (vocab_size, embedding_dim)"
      ],
      "execution_count": 148,
      "outputs": [
        {
          "output_type": "stream",
          "text": [
            "(10000, 16)\n"
          ],
          "name": "stdout"
        }
      ]
    },
    {
      "cell_type": "code",
      "metadata": {
        "colab": {
          "base_uri": "https://localhost:8080/"
        },
        "id": "LQ3tllvPHiik",
        "outputId": "6cfd46bd-20f7-4081-9687-22517f24a521"
      },
      "source": [
        "final_eval_loss,final_eval_acc=model.evaluate(testing_padded,testing_labels_final)"
      ],
      "execution_count": 149,
      "outputs": [
        {
          "output_type": "stream",
          "text": [
            "782/782 [==============================] - 1s 2ms/step - loss: 0.7969 - binary_accuracy: 0.8287\n"
          ],
          "name": "stdout"
        }
      ]
    },
    {
      "cell_type": "code",
      "metadata": {
        "colab": {
          "base_uri": "https://localhost:8080/"
        },
        "id": "IsyXvFW7Hiik",
        "outputId": "f519ffbb-fd83-45e2-a326-1ad12340e94b"
      },
      "source": [
        "final_eval_loss"
      ],
      "execution_count": 150,
      "outputs": [
        {
          "output_type": "execute_result",
          "data": {
            "text/plain": [
              "0.796941339969635"
            ]
          },
          "metadata": {
            "tags": []
          },
          "execution_count": 150
        }
      ]
    },
    {
      "cell_type": "code",
      "metadata": {
        "colab": {
          "base_uri": "https://localhost:8080/"
        },
        "id": "wHZ_9_xcHiil",
        "outputId": "56c8aad3-5cf0-4ea3-b9ce-12b6c7336efb"
      },
      "source": [
        "trainableParams = np.sum([np.prod(v.get_shape()) for v in model.trainable_weights])\n",
        "trainableParams"
      ],
      "execution_count": 151,
      "outputs": [
        {
          "output_type": "execute_result",
          "data": {
            "text/plain": [
              "171533"
            ]
          },
          "metadata": {
            "tags": []
          },
          "execution_count": 151
        }
      ]
    },
    {
      "cell_type": "code",
      "metadata": {
        "colab": {
          "base_uri": "https://localhost:8080/",
          "height": 891
        },
        "id": "Rx8iyrcTHiim",
        "outputId": "9e0743c5-814b-4aeb-d508-14f0bb431a22"
      },
      "source": [
        "plot_train_eval(history,model_name,trainableParams,optimizer_name,loss,accuracy_metric,epochs,vocab_size,embedding_dim,max_length,trunc_type,oov_tok)"
      ],
      "execution_count": 152,
      "outputs": [
        {
          "output_type": "display_data",
          "data": {
            "image/png": "[encoded data removed]",
            "text/plain": [
              "<Figure size 432x288 with 1 Axes>"
            ]
          },
          "metadata": {
            "tags": [],
            "needs_background": "light"
          }
        },
        {
          "output_type": "stream",
          "text": [
            "\n"
          ],
          "name": "stdout"
        },
        {
          "output_type": "display_data",
          "data": {
            "image/png": "[encoded data removed]",
            "text/plain": [
              "<Figure size 432x288 with 1 Axes>"
            ]
          },
          "metadata": {
            "tags": [],
            "needs_background": "light"
          }
        }
      ]
    },
    {
      "cell_type": "code",
      "metadata": {
        "colab": {
          "base_uri": "https://localhost:8080/",
          "height": 314
        },
        "id": "U9JH1f-VHiin",
        "outputId": "f5cc8882-9a05-4cc2-d01e-17b447a95ade"
      },
      "source": [
        "df=pd.DataFrame([[filename,model_name,model_description,optimizer,loss,accuracy_metric,epochs,vocab_size,embedding_dim,max_length,trunc_type,oov_tok,final_eval_loss,final_eval_acc]],columns=cols)\n",
        "df_metrics=df_metrics.append(df,ignore_index=True)\n",
        "df_metrics"
      ],
      "execution_count": 153,
      "outputs": [
        {
          "output_type": "execute_result",
          "data": {
            "text/html": [
              "<div>\n",
              "<style scoped>\n",
              "    .dataframe tbody tr th:only-of-type {\n",
              "        vertical-align: middle;\n",
              "    }\n",
              "\n",
              "    .dataframe tbody tr th {\n",
              "        vertical-align: top;\n",
              "    }\n",
              "\n",
              "    .dataframe thead th {\n",
              "        text-align: right;\n",
              "    }\n",
              "</style>\n",
              "<table border=\"1\" class=\"dataframe\">\n",
              "  <thead>\n",
              "    <tr style=\"text-align: right;\">\n",
              "      <th></th>\n",
              "      <th>filename</th>\n",
              "      <th>model_name</th>\n",
              "      <th>model_description</th>\n",
              "      <th>optimizer</th>\n",
              "      <th>loss</th>\n",
              "      <th>accuracy_metric</th>\n",
              "      <th>epochs</th>\n",
              "      <th>vocab_size</th>\n",
              "      <th>embedding_dim</th>\n",
              "      <th>max_length</th>\n",
              "      <th>trunc_type</th>\n",
              "      <th>oov_tok</th>\n",
              "      <th>final_eval_loss</th>\n",
              "      <th>final_eval_acc</th>\n",
              "    </tr>\n",
              "  </thead>\n",
              "  <tbody>\n",
              "    <tr>\n",
              "      <th>0</th>\n",
              "      <td>TF_CNN_Sequential_NLP_imdb_reviews.ipynb</td>\n",
              "      <td>model1</td>\n",
              "      <td>Embedding(vocab_size=10000, \\n embedding_dim=1...</td>\n",
              "      <td>adam</td>\n",
              "      <td>binary_crossentropy</td>\n",
              "      <td>binary_accuracy</td>\n",
              "      <td>10</td>\n",
              "      <td>10000</td>\n",
              "      <td>16</td>\n",
              "      <td>120</td>\n",
              "      <td>post</td>\n",
              "      <td>&lt;OOV&gt;</td>\n",
              "      <td>0.784348</td>\n",
              "      <td>0.82900</td>\n",
              "    </tr>\n",
              "    <tr>\n",
              "      <th>1</th>\n",
              "      <td>TF_CNN_Sequential_NLP_imdb_reviews.ipynb</td>\n",
              "      <td>model2</td>\n",
              "      <td>Embedding(vocab_size=10000, \\n embedding_dim=1...</td>\n",
              "      <td>adam</td>\n",
              "      <td>binary_crossentropy</td>\n",
              "      <td>binary_accuracy</td>\n",
              "      <td>10</td>\n",
              "      <td>10000</td>\n",
              "      <td>16</td>\n",
              "      <td>120</td>\n",
              "      <td>post</td>\n",
              "      <td>&lt;OOV&gt;</td>\n",
              "      <td>0.795204</td>\n",
              "      <td>0.82816</td>\n",
              "    </tr>\n",
              "    <tr>\n",
              "      <th>2</th>\n",
              "      <td>TF_CNN_Sequential_NLP_imdb_reviews.ipynb</td>\n",
              "      <td>model3</td>\n",
              "      <td>Embedding(vocab_size=10000, \\n embedding_dim=1...</td>\n",
              "      <td>adam</td>\n",
              "      <td>binary_crossentropy</td>\n",
              "      <td>binary_accuracy</td>\n",
              "      <td>10</td>\n",
              "      <td>10000</td>\n",
              "      <td>16</td>\n",
              "      <td>120</td>\n",
              "      <td>post</td>\n",
              "      <td>&lt;OOV&gt;</td>\n",
              "      <td>0.801059</td>\n",
              "      <td>0.83012</td>\n",
              "    </tr>\n",
              "    <tr>\n",
              "      <th>3</th>\n",
              "      <td>TF_CNN_Sequential_NLP_imdb_reviews.ipynb</td>\n",
              "      <td>model4</td>\n",
              "      <td>Embedding(vocab_size=10000, \\n embedding_dim=1...</td>\n",
              "      <td>adam</td>\n",
              "      <td>binary_crossentropy</td>\n",
              "      <td>binary_accuracy</td>\n",
              "      <td>10</td>\n",
              "      <td>10000</td>\n",
              "      <td>16</td>\n",
              "      <td>120</td>\n",
              "      <td>post</td>\n",
              "      <td>&lt;OOV&gt;</td>\n",
              "      <td>0.794344</td>\n",
              "      <td>0.82888</td>\n",
              "    </tr>\n",
              "    <tr>\n",
              "      <th>4</th>\n",
              "      <td>TF_CNN_Sequential_NLP_imdb_reviews.ipynb</td>\n",
              "      <td>model5</td>\n",
              "      <td>Embedding(vocab_size=10000, \\n embedding_dim=1...</td>\n",
              "      <td>adam</td>\n",
              "      <td>binary_crossentropy</td>\n",
              "      <td>binary_accuracy</td>\n",
              "      <td>10</td>\n",
              "      <td>10000</td>\n",
              "      <td>16</td>\n",
              "      <td>120</td>\n",
              "      <td>post</td>\n",
              "      <td>&lt;OOV&gt;</td>\n",
              "      <td>0.796941</td>\n",
              "      <td>0.82872</td>\n",
              "    </tr>\n",
              "  </tbody>\n",
              "</table>\n",
              "</div>"
            ],
            "text/plain": [
              "                                   filename  ... final_eval_acc\n",
              "0  TF_CNN_Sequential_NLP_imdb_reviews.ipynb  ...        0.82900\n",
              "1  TF_CNN_Sequential_NLP_imdb_reviews.ipynb  ...        0.82816\n",
              "2  TF_CNN_Sequential_NLP_imdb_reviews.ipynb  ...        0.83012\n",
              "3  TF_CNN_Sequential_NLP_imdb_reviews.ipynb  ...        0.82888\n",
              "4  TF_CNN_Sequential_NLP_imdb_reviews.ipynb  ...        0.82872\n",
              "\n",
              "[5 rows x 14 columns]"
            ]
          },
          "metadata": {
            "tags": []
          },
          "execution_count": 153
        }
      ]
    },
    {
      "cell_type": "code",
      "metadata": {
        "colab": {
          "base_uri": "https://localhost:8080/"
        },
        "id": "y_KzC5LZHiin",
        "outputId": "c36b6733-8c5c-43ab-ad48-0bbff171245e"
      },
      "source": [
        "model.save(model_name) #save model\n",
        "model=tf.keras.models.load_model(model_name) #load model\n",
        "df_metrics.to_excel('df_metrics.xlsx')"
      ],
      "execution_count": 154,
      "outputs": [
        {
          "output_type": "stream",
          "text": [
            "INFO:tensorflow:Assets written to: model5/assets\n"
          ],
          "name": "stdout"
        },
        {
          "output_type": "stream",
          "text": [
            "INFO:tensorflow:Assets written to: model5/assets\n"
          ],
          "name": "stderr"
        }
      ]
    },
    {
      "cell_type": "code",
      "metadata": {
        "id": "q9_tOc7iHiin"
      },
      "source": [
        "import io\n",
        "\n",
        "out_v = io.open(f'vecs_{model_name}.tsv', 'w', encoding='utf-8')\n",
        "out_m = io.open(f'meta_{model_name}.tsv', 'w', encoding='utf-8')\n",
        "for word_num in range(1, vocab_size):\n",
        "  word = reverse_word_index[word_num]\n",
        "  embeddings = weights[word_num]\n",
        "  out_m.write(word + \"\\n\")\n",
        "  out_v.write('\\t'.join([str(x) for x in embeddings]) + \"\\n\")\n",
        "out_v.close()\n",
        "out_m.close()"
      ],
      "execution_count": 155,
      "outputs": []
    },
    {
      "cell_type": "code",
      "metadata": {
        "colab": {
          "base_uri": "https://localhost:8080/",
          "height": 17
        },
        "id": "Bo9kPFq9Hiin",
        "outputId": "4acbd79f-8e7b-4ba3-c18c-f6131301b7c2"
      },
      "source": [
        "try:\n",
        "  from google.colab import files\n",
        "except ImportError:\n",
        "  pass\n",
        "else:\n",
        "  files.download(f'vecs_{model_name}.tsv')\n",
        "  files.download(f'meta_{model_name}.tsv')"
      ],
      "execution_count": 156,
      "outputs": [
        {
          "output_type": "display_data",
          "data": {
            "application/javascript": [
              "\n",
              "    async function download(id, filename, size) {\n",
              "      if (!google.colab.kernel.accessAllowed) {\n",
              "        return;\n",
              "      }\n",
              "      const div = document.createElement('div');\n",
              "      const label = document.createElement('label');\n",
              "      label.textContent = `Downloading \"${filename}\": `;\n",
              "      div.appendChild(label);\n",
              "      const progress = document.createElement('progress');\n",
              "      progress.max = size;\n",
              "      div.appendChild(progress);\n",
              "      document.body.appendChild(div);\n",
              "\n",
              "      const buffers = [];\n",
              "      let downloaded = 0;\n",
              "\n",
              "      const channel = await google.colab.kernel.comms.open(id);\n",
              "      // Send a message to notify the kernel that we're ready.\n",
              "      channel.send({})\n",
              "\n",
              "      for await (const message of channel.messages) {\n",
              "        // Send a message to notify the kernel that we're ready.\n",
              "        channel.send({})\n",
              "        if (message.buffers) {\n",
              "          for (const buffer of message.buffers) {\n",
              "            buffers.push(buffer);\n",
              "            downloaded += buffer.byteLength;\n",
              "            progress.value = downloaded;\n",
              "          }\n",
              "        }\n",
              "      }\n",
              "      const blob = new Blob(buffers, {type: 'application/binary'});\n",
              "      const a = document.createElement('a');\n",
              "      a.href = window.URL.createObjectURL(blob);\n",
              "      a.download = filename;\n",
              "      div.appendChild(a);\n",
              "      a.click();\n",
              "      div.remove();\n",
              "    }\n",
              "  "
            ],
            "text/plain": [
              "<IPython.core.display.Javascript object>"
            ]
          },
          "metadata": {
            "tags": []
          }
        },
        {
          "output_type": "display_data",
          "data": {
            "application/javascript": [
              "download(\"download_1566ae51-ee07-480c-9c44-c704bcb7d99c\", \"vecs_model5.tsv\", 1912171)"
            ],
            "text/plain": [
              "<IPython.core.display.Javascript object>"
            ]
          },
          "metadata": {
            "tags": []
          }
        },
        {
          "output_type": "display_data",
          "data": {
            "application/javascript": [
              "\n",
              "    async function download(id, filename, size) {\n",
              "      if (!google.colab.kernel.accessAllowed) {\n",
              "        return;\n",
              "      }\n",
              "      const div = document.createElement('div');\n",
              "      const label = document.createElement('label');\n",
              "      label.textContent = `Downloading \"${filename}\": `;\n",
              "      div.appendChild(label);\n",
              "      const progress = document.createElement('progress');\n",
              "      progress.max = size;\n",
              "      div.appendChild(progress);\n",
              "      document.body.appendChild(div);\n",
              "\n",
              "      const buffers = [];\n",
              "      let downloaded = 0;\n",
              "\n",
              "      const channel = await google.colab.kernel.comms.open(id);\n",
              "      // Send a message to notify the kernel that we're ready.\n",
              "      channel.send({})\n",
              "\n",
              "      for await (const message of channel.messages) {\n",
              "        // Send a message to notify the kernel that we're ready.\n",
              "        channel.send({})\n",
              "        if (message.buffers) {\n",
              "          for (const buffer of message.buffers) {\n",
              "            buffers.push(buffer);\n",
              "            downloaded += buffer.byteLength;\n",
              "            progress.value = downloaded;\n",
              "          }\n",
              "        }\n",
              "      }\n",
              "      const blob = new Blob(buffers, {type: 'application/binary'});\n",
              "      const a = document.createElement('a');\n",
              "      a.href = window.URL.createObjectURL(blob);\n",
              "      a.download = filename;\n",
              "      div.appendChild(a);\n",
              "      a.click();\n",
              "      div.remove();\n",
              "    }\n",
              "  "
            ],
            "text/plain": [
              "<IPython.core.display.Javascript object>"
            ]
          },
          "metadata": {
            "tags": []
          }
        },
        {
          "output_type": "display_data",
          "data": {
            "application/javascript": [
              "download(\"download_cf8f9659-e26d-4c78-a8d8-349f287a4d84\", \"meta_model5.tsv\", 75846)"
            ],
            "text/plain": [
              "<IPython.core.display.Javascript object>"
            ]
          },
          "metadata": {
            "tags": []
          }
        }
      ]
    },
    {
      "cell_type": "code",
      "metadata": {
        "colab": {
          "base_uri": "https://localhost:8080/"
        },
        "id": "h6K8I6LAHiin",
        "outputId": "b851b787-381a-474b-8211-d818ed41a7bd"
      },
      "source": [
        "# Testing new Custom Reviews\n",
        "sentence1='What a great movie.'\n",
        "test1=tokenizer.texts_to_sequences([sentence1])\n",
        "test1= pad_sequences(test1, maxlen=max_length, truncating=trunc_type)\n",
        "answer=model.predict(test1)\n",
        "print(f'Review for this sentence: \\n {sentence1} \\n is a value of {answer}')\n",
        "print('This makes sense since it is a value close to 1, meaning a good review')\n",
        "print('\\n')\n",
        "\n",
        "sentence2='What a terrible movie.'\n",
        "test2=tokenizer.texts_to_sequences([sentence2])\n",
        "test2= pad_sequences(test2, maxlen=max_length, truncating=trunc_type)\n",
        "answer=model.predict(test2)\n",
        "print(f'Review for this sentence: \\n {sentence2} \\n is a value of {answer}')\n",
        "print('This makes sense since it is a value close to 0, meaning a bad review')"
      ],
      "execution_count": 157,
      "outputs": [
        {
          "output_type": "stream",
          "text": [
            "WARNING:tensorflow:5 out of the last 9 calls to <function Model.make_predict_function.<locals>.predict_function at 0x7f7365671b90> triggered tf.function retracing. Tracing is expensive and the excessive number of tracings could be due to (1) creating @tf.function repeatedly in a loop, (2) passing tensors with different shapes, (3) passing Python objects instead of tensors. For (1), please define your @tf.function outside of the loop. For (2), @tf.function has experimental_relax_shapes=True option that relaxes argument shapes that can avoid unnecessary retracing. For (3), please refer to https://www.tensorflow.org/guide/function#controlling_retracing and https://www.tensorflow.org/api_docs/python/tf/function for  more details.\n"
          ],
          "name": "stdout"
        },
        {
          "output_type": "stream",
          "text": [
            "WARNING:tensorflow:5 out of the last 9 calls to <function Model.make_predict_function.<locals>.predict_function at 0x7f7365671b90> triggered tf.function retracing. Tracing is expensive and the excessive number of tracings could be due to (1) creating @tf.function repeatedly in a loop, (2) passing tensors with different shapes, (3) passing Python objects instead of tensors. For (1), please define your @tf.function outside of the loop. For (2), @tf.function has experimental_relax_shapes=True option that relaxes argument shapes that can avoid unnecessary retracing. For (3), please refer to https://www.tensorflow.org/guide/function#controlling_retracing and https://www.tensorflow.org/api_docs/python/tf/function for  more details.\n"
          ],
          "name": "stderr"
        },
        {
          "output_type": "stream",
          "text": [
            "Review for this sentence: \n",
            " What a great movie. \n",
            " is a value of [[0.9428507]]\n",
            "This makes sense since it is a value close to 1, meaning a good review\n",
            "\n",
            "\n",
            "Review for this sentence: \n",
            " What a terrible movie. \n",
            " is a value of [[0.01165771]]\n",
            "This makes sense since it is a value close to 0, meaning a bad review\n"
          ],
          "name": "stdout"
        }
      ]
    },
    {
      "cell_type": "markdown",
      "metadata": {
        "id": "o9wxRAdWHnaK"
      },
      "source": [
        "# 4.6 model6"
      ]
    },
    {
      "cell_type": "markdown",
      "metadata": {
        "id": "Sm0_Uv0WHnaL"
      },
      "source": [
        "## Set Embedding/Modeling Parameters"
      ]
    },
    {
      "cell_type": "code",
      "metadata": {
        "id": "eWNt6XL5HnaM"
      },
      "source": [
        "filename='TF_CNN_Sequential_NLP_imdb_reviews.ipynb'\n",
        "model_name='model6'\n",
        "optimizer='adam'\n",
        "optimizer_name=str(optimizer)\n",
        "loss='binary_crossentropy'\n",
        "accuracy_metric='binary_accuracy'\n",
        "epochs=10\n",
        "\n",
        "vocab_size = 10000\n",
        "embedding_dim = 16\n",
        "max_length = 120\n",
        "trunc_type='post'\n",
        "oov_tok = '<OOV>'"
      ],
      "execution_count": 158,
      "outputs": []
    },
    {
      "cell_type": "markdown",
      "metadata": {
        "id": "6R13Umc1HnaM"
      },
      "source": [
        "## Split Train/Test"
      ]
    },
    {
      "cell_type": "code",
      "metadata": {
        "id": "rHhdO9pwHnaM"
      },
      "source": [
        "train_data, test_data = imdb['train'], imdb['test']"
      ],
      "execution_count": 159,
      "outputs": []
    },
    {
      "cell_type": "code",
      "metadata": {
        "id": "1aSKfOutHnaM"
      },
      "source": [
        "training_sentences = []\n",
        "training_labels = []\n",
        "\n",
        "testing_sentences = []\n",
        "testing_labels = []"
      ],
      "execution_count": 160,
      "outputs": []
    },
    {
      "cell_type": "code",
      "metadata": {
        "id": "MXwCUUfWHnaN"
      },
      "source": [
        "for s, l in train_data:\n",
        "  training_sentences.append(str(s.numpy()))\n",
        "  training_labels.append(l.numpy())"
      ],
      "execution_count": 161,
      "outputs": []
    },
    {
      "cell_type": "code",
      "metadata": {
        "id": "b6sV2xMBHnaN"
      },
      "source": [
        "for s, l in test_data:\n",
        "  testing_sentences.append(str(s.numpy()))\n",
        "  testing_labels.append(l.numpy())"
      ],
      "execution_count": 162,
      "outputs": []
    },
    {
      "cell_type": "code",
      "metadata": {
        "id": "s6rPH2K5HnaO"
      },
      "source": [
        "import numpy as np\n",
        "training_labels_final = np.array(training_labels)\n",
        "testing_labels_final = np.array(testing_labels)"
      ],
      "execution_count": 163,
      "outputs": []
    },
    {
      "cell_type": "markdown",
      "metadata": {
        "id": "UQ1FmYqJHnaO"
      },
      "source": [
        "## Create Tokenizer"
      ]
    },
    {
      "cell_type": "code",
      "metadata": {
        "id": "tqZaae2RHnaO"
      },
      "source": [
        "tokenizer = Tokenizer(num_words = vocab_size, oov_token=oov_tok) #create tokenizer that has a vocab_size & oov_token specified above"
      ],
      "execution_count": 164,
      "outputs": []
    },
    {
      "cell_type": "code",
      "metadata": {
        "colab": {
          "base_uri": "https://localhost:8080/"
        },
        "id": "4XBMDOyvHnaO",
        "outputId": "726e90f5-659f-4d6f-8a10-d09d1525c2fa"
      },
      "source": [
        "testing_labels_final.max() #ensure max is still 1 for a \"bad\" review"
      ],
      "execution_count": 165,
      "outputs": [
        {
          "output_type": "execute_result",
          "data": {
            "text/plain": [
              "1"
            ]
          },
          "metadata": {
            "tags": []
          },
          "execution_count": 165
        }
      ]
    },
    {
      "cell_type": "code",
      "metadata": {
        "id": "hsgmrP39HnaP"
      },
      "source": [
        "tokenizer.fit_on_texts(training_sentences) #fit the tokenizer on the training_sentences "
      ],
      "execution_count": 166,
      "outputs": []
    },
    {
      "cell_type": "code",
      "metadata": {
        "id": "mqTGpZBGHnaP"
      },
      "source": [
        "word_index = tokenizer.word_index #get the word index for the tokenizer"
      ],
      "execution_count": 167,
      "outputs": []
    },
    {
      "cell_type": "code",
      "metadata": {
        "id": "bLcpqgzjHnaP"
      },
      "source": [
        "sequences = tokenizer.texts_to_sequences(training_sentences) #convert texts to sequences using the tokenizer"
      ],
      "execution_count": 168,
      "outputs": []
    },
    {
      "cell_type": "code",
      "metadata": {
        "id": "xfeWEJymHnaQ"
      },
      "source": [
        "padded = pad_sequences(sequences, maxlen=max_length, truncating=trunc_type) # pad the sequences by the max_length with truncation set to trunc_type"
      ],
      "execution_count": 169,
      "outputs": []
    },
    {
      "cell_type": "code",
      "metadata": {
        "id": "rNnTXQjCHnaQ"
      },
      "source": [
        "testing_sequences = tokenizer.texts_to_sequences(testing_sentences) # convert the testing_sentences to testing_sequences"
      ],
      "execution_count": 170,
      "outputs": []
    },
    {
      "cell_type": "code",
      "metadata": {
        "id": "wWx-nuiPHnaR"
      },
      "source": [
        "testing_padded = pad_sequences(testing_sequences, maxlen=max_length) # convert the testing_sequences to testing_padded"
      ],
      "execution_count": 171,
      "outputs": []
    },
    {
      "cell_type": "code",
      "metadata": {
        "id": "K5HG-ku8HnaR"
      },
      "source": [
        "reverse_word_index = dict([(value, key) for (key, value) in word_index.items()]) # reverse the key,value from word_index to check index value to key"
      ],
      "execution_count": 172,
      "outputs": []
    },
    {
      "cell_type": "code",
      "metadata": {
        "colab": {
          "base_uri": "https://localhost:8080/"
        },
        "id": "VrmsX-mUHnaS",
        "outputId": "fe22ff43-3a73-406e-d962-d6919feef21f"
      },
      "source": [
        "print(decode_review(padded[0])) #This is after it has been padded and OOV in place, but decoded.  Recall this is actually padded as a sequence of numbers for training\n",
        "print(training_sentences[0]) #This is the original"
      ],
      "execution_count": 173,
      "outputs": [
        {
          "output_type": "stream",
          "text": [
            "? ? b this was an absolutely terrible movie don't be <OOV> in by christopher walken or michael <OOV> both are great actors but this must simply be their worst role in history even their great acting could not redeem this movie's ridiculous storyline this movie is an early nineties us propaganda piece the most pathetic scenes were those when the <OOV> rebels were making their cases for <OOV> maria <OOV> <OOV> appeared phony and her pseudo love affair with walken was nothing but a pathetic emotional plug in a movie that was devoid of any real meaning i am disappointed that there are movies like this ruining <OOV> like christopher <OOV> good name i could barely sit through it\n",
            "b\"This was an absolutely terrible movie. Don't be lured in by Christopher Walken or Michael Ironside. Both are great actors, but this must simply be their worst role in history. Even their great acting could not redeem this movie's ridiculous storyline. This movie is an early nineties US propaganda piece. The most pathetic scenes were those when the Columbian rebels were making their cases for revolutions. Maria Conchita Alonso appeared phony, and her pseudo-love affair with Walken was nothing but a pathetic emotional plug in a movie that was devoid of any real meaning. I am disappointed that there are movies like this, ruining actor's like Christopher Walken's good name. I could barely sit through it.\"\n"
          ],
          "name": "stdout"
        }
      ]
    },
    {
      "cell_type": "markdown",
      "metadata": {
        "id": "KLv9FMYcHnaS"
      },
      "source": [
        "## Create Model"
      ]
    },
    {
      "cell_type": "code",
      "metadata": {
        "id": "R4e5_NsxHnaS"
      },
      "source": [
        "model,model_description=model_picker(vocab_size=vocab_size,embedding_dim=embedding_dim,input_length=max_length,model_name='model1')"
      ],
      "execution_count": 174,
      "outputs": []
    },
    {
      "cell_type": "code",
      "metadata": {
        "colab": {
          "base_uri": "https://localhost:8080/"
        },
        "id": "AmpWRT7HHnaS",
        "outputId": "a97a0a18-517e-4e45-e989-7b6c1312a8c8"
      },
      "source": [
        "model.summary()"
      ],
      "execution_count": 175,
      "outputs": [
        {
          "output_type": "stream",
          "text": [
            "Model: \"sequential_5\"\n",
            "_________________________________________________________________\n",
            "Layer (type)                 Output Shape              Param #   \n",
            "=================================================================\n",
            "embedding_5 (Embedding)      (None, 120, 16)           160000    \n",
            "_________________________________________________________________\n",
            "flatten_5 (Flatten)          (None, 1920)              0         \n",
            "_________________________________________________________________\n",
            "dense_10 (Dense)             (None, 6)                 11526     \n",
            "_________________________________________________________________\n",
            "dense_11 (Dense)             (None, 1)                 7         \n",
            "=================================================================\n",
            "Total params: 171,533\n",
            "Trainable params: 171,533\n",
            "Non-trainable params: 0\n",
            "_________________________________________________________________\n"
          ],
          "name": "stdout"
        }
      ]
    },
    {
      "cell_type": "code",
      "metadata": {
        "id": "am1W75XpHnaU"
      },
      "source": [
        "model.compile(loss=loss,optimizer=optimizer,metrics=[accuracy_metric])"
      ],
      "execution_count": 176,
      "outputs": []
    },
    {
      "cell_type": "markdown",
      "metadata": {
        "id": "jVFY3gQdHnaV"
      },
      "source": [
        "## Train Model"
      ]
    },
    {
      "cell_type": "code",
      "metadata": {
        "colab": {
          "base_uri": "https://localhost:8080/"
        },
        "id": "RUWw-0IfHnaW",
        "outputId": "791c58e7-e78f-4e30-f25e-94cc8e403ef0"
      },
      "source": [
        "history=model.fit(padded, training_labels_final,epochs=epochs,validation_data=(testing_padded,\n",
        "                                                                           testing_labels_final))"
      ],
      "execution_count": 177,
      "outputs": [
        {
          "output_type": "stream",
          "text": [
            "Epoch 1/10\n",
            "782/782 [==============================] - 6s 7ms/step - loss: 0.4841 - binary_accuracy: 0.7538 - val_loss: 0.3451 - val_binary_accuracy: 0.8491\n",
            "Epoch 2/10\n",
            "782/782 [==============================] - 5s 6ms/step - loss: 0.2395 - binary_accuracy: 0.9070 - val_loss: 0.3647 - val_binary_accuracy: 0.8398\n",
            "Epoch 3/10\n",
            "782/782 [==============================] - 5s 7ms/step - loss: 0.0896 - binary_accuracy: 0.9775 - val_loss: 0.4573 - val_binary_accuracy: 0.8259\n",
            "Epoch 4/10\n",
            "782/782 [==============================] - 5s 7ms/step - loss: 0.0217 - binary_accuracy: 0.9974 - val_loss: 0.5443 - val_binary_accuracy: 0.8216\n",
            "Epoch 5/10\n",
            "782/782 [==============================] - 5s 6ms/step - loss: 0.0054 - binary_accuracy: 0.9997 - val_loss: 0.6007 - val_binary_accuracy: 0.8258\n",
            "Epoch 6/10\n",
            "782/782 [==============================] - 5s 7ms/step - loss: 0.0017 - binary_accuracy: 1.0000 - val_loss: 0.6459 - val_binary_accuracy: 0.8273\n",
            "Epoch 7/10\n",
            "782/782 [==============================] - 5s 6ms/step - loss: 8.1107e-04 - binary_accuracy: 1.0000 - val_loss: 0.6877 - val_binary_accuracy: 0.8276\n",
            "Epoch 8/10\n",
            "782/782 [==============================] - 5s 6ms/step - loss: 4.4455e-04 - binary_accuracy: 1.0000 - val_loss: 0.7265 - val_binary_accuracy: 0.8276\n",
            "Epoch 9/10\n",
            "782/782 [==============================] - 5s 6ms/step - loss: 2.6385e-04 - binary_accuracy: 1.0000 - val_loss: 0.7658 - val_binary_accuracy: 0.8272\n",
            "Epoch 10/10\n",
            "782/782 [==============================] - 5s 7ms/step - loss: 1.5698e-04 - binary_accuracy: 1.0000 - val_loss: 0.8016 - val_binary_accuracy: 0.8270\n"
          ],
          "name": "stdout"
        }
      ]
    },
    {
      "cell_type": "markdown",
      "metadata": {
        "id": "ogx-EljWHnaX"
      },
      "source": [
        "## Evaluate Model"
      ]
    },
    {
      "cell_type": "code",
      "metadata": {
        "colab": {
          "base_uri": "https://localhost:8080/"
        },
        "id": "9-w2Vk6cHnaX",
        "outputId": "e45de9ed-35e7-48d2-f659-03975ad32e54"
      },
      "source": [
        "e = model.layers[0]\n",
        "weights=e.get_weights()[0]\n",
        "print(weights.shape) # shape: (vocab_size, embedding_dim)"
      ],
      "execution_count": 178,
      "outputs": [
        {
          "output_type": "stream",
          "text": [
            "(10000, 16)\n"
          ],
          "name": "stdout"
        }
      ]
    },
    {
      "cell_type": "code",
      "metadata": {
        "colab": {
          "base_uri": "https://localhost:8080/"
        },
        "id": "abVinIDnHnaX",
        "outputId": "5440bcd0-f980-4022-b753-7b6c5b078ff2"
      },
      "source": [
        "final_eval_loss,final_eval_acc=model.evaluate(testing_padded,testing_labels_final)"
      ],
      "execution_count": 179,
      "outputs": [
        {
          "output_type": "stream",
          "text": [
            "782/782 [==============================] - 1s 1ms/step - loss: 0.8016 - binary_accuracy: 0.8270\n"
          ],
          "name": "stdout"
        }
      ]
    },
    {
      "cell_type": "code",
      "metadata": {
        "colab": {
          "base_uri": "https://localhost:8080/"
        },
        "id": "85LHQMCHHnaY",
        "outputId": "44bfeefd-1d9f-40ba-df29-f852fb0e6ad8"
      },
      "source": [
        "final_eval_loss"
      ],
      "execution_count": 180,
      "outputs": [
        {
          "output_type": "execute_result",
          "data": {
            "text/plain": [
              "0.801609456539154"
            ]
          },
          "metadata": {
            "tags": []
          },
          "execution_count": 180
        }
      ]
    },
    {
      "cell_type": "code",
      "metadata": {
        "colab": {
          "base_uri": "https://localhost:8080/"
        },
        "id": "OtH0qxbtHnaY",
        "outputId": "2d7ff943-1188-4f60-dc1d-bca0528a186c"
      },
      "source": [
        "trainableParams = np.sum([np.prod(v.get_shape()) for v in model.trainable_weights])\n",
        "trainableParams"
      ],
      "execution_count": 181,
      "outputs": [
        {
          "output_type": "execute_result",
          "data": {
            "text/plain": [
              "171533"
            ]
          },
          "metadata": {
            "tags": []
          },
          "execution_count": 181
        }
      ]
    },
    {
      "cell_type": "code",
      "metadata": {
        "colab": {
          "base_uri": "https://localhost:8080/",
          "height": 891
        },
        "id": "hP1tasbjHnaY",
        "outputId": "d989a077-9779-48db-dea6-a838caf6b74c"
      },
      "source": [
        "plot_train_eval(history,model_name,trainableParams,optimizer_name,loss,accuracy_metric,epochs,vocab_size,embedding_dim,max_length,trunc_type,oov_tok)"
      ],
      "execution_count": 182,
      "outputs": [
        {
          "output_type": "display_data",
          "data": {
            "image/png": "[encoded data removed]",
            "text/plain": [
              "<Figure size 432x288 with 1 Axes>"
            ]
          },
          "metadata": {
            "tags": [],
            "needs_background": "light"
          }
        },
        {
          "output_type": "stream",
          "text": [
            "\n"
          ],
          "name": "stdout"
        },
        {
          "output_type": "display_data",
          "data": {
            "image/png": "[encoded data removed]",
            "text/plain": [
              "<Figure size 432x288 with 1 Axes>"
            ]
          },
          "metadata": {
            "tags": [],
            "needs_background": "light"
          }
        }
      ]
    },
    {
      "cell_type": "code",
      "metadata": {
        "colab": {
          "base_uri": "https://localhost:8080/",
          "height": 362
        },
        "id": "p8NnOQGzHnaZ",
        "outputId": "f56642a7-af55-4a2d-e520-11d2665d0ee9"
      },
      "source": [
        "df=pd.DataFrame([[filename,model_name,model_description,optimizer,loss,accuracy_metric,epochs,vocab_size,embedding_dim,max_length,trunc_type,oov_tok,final_eval_loss,final_eval_acc]],columns=cols)\n",
        "df_metrics=df_metrics.append(df,ignore_index=True)\n",
        "df_metrics"
      ],
      "execution_count": 183,
      "outputs": [
        {
          "output_type": "execute_result",
          "data": {
            "text/html": [
              "<div>\n",
              "<style scoped>\n",
              "    .dataframe tbody tr th:only-of-type {\n",
              "        vertical-align: middle;\n",
              "    }\n",
              "\n",
              "    .dataframe tbody tr th {\n",
              "        vertical-align: top;\n",
              "    }\n",
              "\n",
              "    .dataframe thead th {\n",
              "        text-align: right;\n",
              "    }\n",
              "</style>\n",
              "<table border=\"1\" class=\"dataframe\">\n",
              "  <thead>\n",
              "    <tr style=\"text-align: right;\">\n",
              "      <th></th>\n",
              "      <th>filename</th>\n",
              "      <th>model_name</th>\n",
              "      <th>model_description</th>\n",
              "      <th>optimizer</th>\n",
              "      <th>loss</th>\n",
              "      <th>accuracy_metric</th>\n",
              "      <th>epochs</th>\n",
              "      <th>vocab_size</th>\n",
              "      <th>embedding_dim</th>\n",
              "      <th>max_length</th>\n",
              "      <th>trunc_type</th>\n",
              "      <th>oov_tok</th>\n",
              "      <th>final_eval_loss</th>\n",
              "      <th>final_eval_acc</th>\n",
              "    </tr>\n",
              "  </thead>\n",
              "  <tbody>\n",
              "    <tr>\n",
              "      <th>0</th>\n",
              "      <td>TF_CNN_Sequential_NLP_imdb_reviews.ipynb</td>\n",
              "      <td>model1</td>\n",
              "      <td>Embedding(vocab_size=10000, \\n embedding_dim=1...</td>\n",
              "      <td>adam</td>\n",
              "      <td>binary_crossentropy</td>\n",
              "      <td>binary_accuracy</td>\n",
              "      <td>10</td>\n",
              "      <td>10000</td>\n",
              "      <td>16</td>\n",
              "      <td>120</td>\n",
              "      <td>post</td>\n",
              "      <td>&lt;OOV&gt;</td>\n",
              "      <td>0.784348</td>\n",
              "      <td>0.82900</td>\n",
              "    </tr>\n",
              "    <tr>\n",
              "      <th>1</th>\n",
              "      <td>TF_CNN_Sequential_NLP_imdb_reviews.ipynb</td>\n",
              "      <td>model2</td>\n",
              "      <td>Embedding(vocab_size=10000, \\n embedding_dim=1...</td>\n",
              "      <td>adam</td>\n",
              "      <td>binary_crossentropy</td>\n",
              "      <td>binary_accuracy</td>\n",
              "      <td>10</td>\n",
              "      <td>10000</td>\n",
              "      <td>16</td>\n",
              "      <td>120</td>\n",
              "      <td>post</td>\n",
              "      <td>&lt;OOV&gt;</td>\n",
              "      <td>0.795204</td>\n",
              "      <td>0.82816</td>\n",
              "    </tr>\n",
              "    <tr>\n",
              "      <th>2</th>\n",
              "      <td>TF_CNN_Sequential_NLP_imdb_reviews.ipynb</td>\n",
              "      <td>model3</td>\n",
              "      <td>Embedding(vocab_size=10000, \\n embedding_dim=1...</td>\n",
              "      <td>adam</td>\n",
              "      <td>binary_crossentropy</td>\n",
              "      <td>binary_accuracy</td>\n",
              "      <td>10</td>\n",
              "      <td>10000</td>\n",
              "      <td>16</td>\n",
              "      <td>120</td>\n",
              "      <td>post</td>\n",
              "      <td>&lt;OOV&gt;</td>\n",
              "      <td>0.801059</td>\n",
              "      <td>0.83012</td>\n",
              "    </tr>\n",
              "    <tr>\n",
              "      <th>3</th>\n",
              "      <td>TF_CNN_Sequential_NLP_imdb_reviews.ipynb</td>\n",
              "      <td>model4</td>\n",
              "      <td>Embedding(vocab_size=10000, \\n embedding_dim=1...</td>\n",
              "      <td>adam</td>\n",
              "      <td>binary_crossentropy</td>\n",
              "      <td>binary_accuracy</td>\n",
              "      <td>10</td>\n",
              "      <td>10000</td>\n",
              "      <td>16</td>\n",
              "      <td>120</td>\n",
              "      <td>post</td>\n",
              "      <td>&lt;OOV&gt;</td>\n",
              "      <td>0.794344</td>\n",
              "      <td>0.82888</td>\n",
              "    </tr>\n",
              "    <tr>\n",
              "      <th>4</th>\n",
              "      <td>TF_CNN_Sequential_NLP_imdb_reviews.ipynb</td>\n",
              "      <td>model5</td>\n",
              "      <td>Embedding(vocab_size=10000, \\n embedding_dim=1...</td>\n",
              "      <td>adam</td>\n",
              "      <td>binary_crossentropy</td>\n",
              "      <td>binary_accuracy</td>\n",
              "      <td>10</td>\n",
              "      <td>10000</td>\n",
              "      <td>16</td>\n",
              "      <td>120</td>\n",
              "      <td>post</td>\n",
              "      <td>&lt;OOV&gt;</td>\n",
              "      <td>0.796941</td>\n",
              "      <td>0.82872</td>\n",
              "    </tr>\n",
              "    <tr>\n",
              "      <th>5</th>\n",
              "      <td>TF_CNN_Sequential_NLP_imdb_reviews.ipynb</td>\n",
              "      <td>model6</td>\n",
              "      <td>Embedding(vocab_size=10000, \\n embedding_dim=1...</td>\n",
              "      <td>adam</td>\n",
              "      <td>binary_crossentropy</td>\n",
              "      <td>binary_accuracy</td>\n",
              "      <td>10</td>\n",
              "      <td>10000</td>\n",
              "      <td>16</td>\n",
              "      <td>120</td>\n",
              "      <td>post</td>\n",
              "      <td>&lt;OOV&gt;</td>\n",
              "      <td>0.801609</td>\n",
              "      <td>0.82700</td>\n",
              "    </tr>\n",
              "  </tbody>\n",
              "</table>\n",
              "</div>"
            ],
            "text/plain": [
              "                                   filename  ... final_eval_acc\n",
              "0  TF_CNN_Sequential_NLP_imdb_reviews.ipynb  ...        0.82900\n",
              "1  TF_CNN_Sequential_NLP_imdb_reviews.ipynb  ...        0.82816\n",
              "2  TF_CNN_Sequential_NLP_imdb_reviews.ipynb  ...        0.83012\n",
              "3  TF_CNN_Sequential_NLP_imdb_reviews.ipynb  ...        0.82888\n",
              "4  TF_CNN_Sequential_NLP_imdb_reviews.ipynb  ...        0.82872\n",
              "5  TF_CNN_Sequential_NLP_imdb_reviews.ipynb  ...        0.82700\n",
              "\n",
              "[6 rows x 14 columns]"
            ]
          },
          "metadata": {
            "tags": []
          },
          "execution_count": 183
        }
      ]
    },
    {
      "cell_type": "code",
      "metadata": {
        "colab": {
          "base_uri": "https://localhost:8080/"
        },
        "id": "NCRSbsg_HnaZ",
        "outputId": "16abba58-b2c2-41ea-a0ae-0e17a22a684c"
      },
      "source": [
        "model.save(model_name) #save model\n",
        "model=tf.keras.models.load_model(model_name) #load model\n",
        "df_metrics.to_excel('df_metrics.xlsx')"
      ],
      "execution_count": 184,
      "outputs": [
        {
          "output_type": "stream",
          "text": [
            "INFO:tensorflow:Assets written to: model6/assets\n"
          ],
          "name": "stdout"
        },
        {
          "output_type": "stream",
          "text": [
            "INFO:tensorflow:Assets written to: model6/assets\n"
          ],
          "name": "stderr"
        }
      ]
    },
    {
      "cell_type": "code",
      "metadata": {
        "id": "3fO_zdoHHnaa"
      },
      "source": [
        "import io\n",
        "\n",
        "out_v = io.open(f'vecs_{model_name}.tsv', 'w', encoding='utf-8')\n",
        "out_m = io.open(f'meta_{model_name}.tsv', 'w', encoding='utf-8')\n",
        "for word_num in range(1, vocab_size):\n",
        "  word = reverse_word_index[word_num]\n",
        "  embeddings = weights[word_num]\n",
        "  out_m.write(word + \"\\n\")\n",
        "  out_v.write('\\t'.join([str(x) for x in embeddings]) + \"\\n\")\n",
        "out_v.close()\n",
        "out_m.close()"
      ],
      "execution_count": 185,
      "outputs": []
    },
    {
      "cell_type": "code",
      "metadata": {
        "colab": {
          "base_uri": "https://localhost:8080/",
          "height": 17
        },
        "id": "CwC4VWDaHnaa",
        "outputId": "bbbd2597-1a01-45ec-d83c-beede34fc26e"
      },
      "source": [
        "try:\n",
        "  from google.colab import files\n",
        "except ImportError:\n",
        "  pass\n",
        "else:\n",
        "  files.download(f'vecs_{model_name}.tsv')\n",
        "  files.download(f'meta_{model_name}.tsv')"
      ],
      "execution_count": 186,
      "outputs": [
        {
          "output_type": "display_data",
          "data": {
            "application/javascript": [
              "\n",
              "    async function download(id, filename, size) {\n",
              "      if (!google.colab.kernel.accessAllowed) {\n",
              "        return;\n",
              "      }\n",
              "      const div = document.createElement('div');\n",
              "      const label = document.createElement('label');\n",
              "      label.textContent = `Downloading \"${filename}\": `;\n",
              "      div.appendChild(label);\n",
              "      const progress = document.createElement('progress');\n",
              "      progress.max = size;\n",
              "      div.appendChild(progress);\n",
              "      document.body.appendChild(div);\n",
              "\n",
              "      const buffers = [];\n",
              "      let downloaded = 0;\n",
              "\n",
              "      const channel = await google.colab.kernel.comms.open(id);\n",
              "      // Send a message to notify the kernel that we're ready.\n",
              "      channel.send({})\n",
              "\n",
              "      for await (const message of channel.messages) {\n",
              "        // Send a message to notify the kernel that we're ready.\n",
              "        channel.send({})\n",
              "        if (message.buffers) {\n",
              "          for (const buffer of message.buffers) {\n",
              "            buffers.push(buffer);\n",
              "            downloaded += buffer.byteLength;\n",
              "            progress.value = downloaded;\n",
              "          }\n",
              "        }\n",
              "      }\n",
              "      const blob = new Blob(buffers, {type: 'application/binary'});\n",
              "      const a = document.createElement('a');\n",
              "      a.href = window.URL.createObjectURL(blob);\n",
              "      a.download = filename;\n",
              "      div.appendChild(a);\n",
              "      a.click();\n",
              "      div.remove();\n",
              "    }\n",
              "  "
            ],
            "text/plain": [
              "<IPython.core.display.Javascript object>"
            ]
          },
          "metadata": {
            "tags": []
          }
        },
        {
          "output_type": "display_data",
          "data": {
            "application/javascript": [
              "download(\"download_9219d42b-b7c9-4c37-9cdc-9038cdf329ba\", \"vecs_model6.tsv\", 1913303)"
            ],
            "text/plain": [
              "<IPython.core.display.Javascript object>"
            ]
          },
          "metadata": {
            "tags": []
          }
        },
        {
          "output_type": "display_data",
          "data": {
            "application/javascript": [
              "\n",
              "    async function download(id, filename, size) {\n",
              "      if (!google.colab.kernel.accessAllowed) {\n",
              "        return;\n",
              "      }\n",
              "      const div = document.createElement('div');\n",
              "      const label = document.createElement('label');\n",
              "      label.textContent = `Downloading \"${filename}\": `;\n",
              "      div.appendChild(label);\n",
              "      const progress = document.createElement('progress');\n",
              "      progress.max = size;\n",
              "      div.appendChild(progress);\n",
              "      document.body.appendChild(div);\n",
              "\n",
              "      const buffers = [];\n",
              "      let downloaded = 0;\n",
              "\n",
              "      const channel = await google.colab.kernel.comms.open(id);\n",
              "      // Send a message to notify the kernel that we're ready.\n",
              "      channel.send({})\n",
              "\n",
              "      for await (const message of channel.messages) {\n",
              "        // Send a message to notify the kernel that we're ready.\n",
              "        channel.send({})\n",
              "        if (message.buffers) {\n",
              "          for (const buffer of message.buffers) {\n",
              "            buffers.push(buffer);\n",
              "            downloaded += buffer.byteLength;\n",
              "            progress.value = downloaded;\n",
              "          }\n",
              "        }\n",
              "      }\n",
              "      const blob = new Blob(buffers, {type: 'application/binary'});\n",
              "      const a = document.createElement('a');\n",
              "      a.href = window.URL.createObjectURL(blob);\n",
              "      a.download = filename;\n",
              "      div.appendChild(a);\n",
              "      a.click();\n",
              "      div.remove();\n",
              "    }\n",
              "  "
            ],
            "text/plain": [
              "<IPython.core.display.Javascript object>"
            ]
          },
          "metadata": {
            "tags": []
          }
        },
        {
          "output_type": "display_data",
          "data": {
            "application/javascript": [
              "download(\"download_fa5a0f24-503a-48a2-adcb-4182f12e27ea\", \"meta_model6.tsv\", 75846)"
            ],
            "text/plain": [
              "<IPython.core.display.Javascript object>"
            ]
          },
          "metadata": {
            "tags": []
          }
        }
      ]
    },
    {
      "cell_type": "code",
      "metadata": {
        "colab": {
          "base_uri": "https://localhost:8080/"
        },
        "id": "Pvkl7xscHnaa",
        "outputId": "b5d3dcc9-73e9-4a3b-ce1b-c263880a04ca"
      },
      "source": [
        "# Testing new Custom Reviews\n",
        "sentence1='What a great movie.'\n",
        "test1=tokenizer.texts_to_sequences([sentence1])\n",
        "test1= pad_sequences(test1, maxlen=max_length, truncating=trunc_type)\n",
        "answer=model.predict(test1)\n",
        "print(f'Review for this sentence: \\n {sentence1} \\n is a value of {answer}')\n",
        "print('This makes sense since it is a value close to 1, meaning a good review')\n",
        "print('\\n')\n",
        "\n",
        "sentence2='What a terrible movie.'\n",
        "test2=tokenizer.texts_to_sequences([sentence2])\n",
        "test2= pad_sequences(test2, maxlen=max_length, truncating=trunc_type)\n",
        "answer=model.predict(test2)\n",
        "print(f'Review for this sentence: \\n {sentence2} \\n is a value of {answer}')\n",
        "print('This makes sense since it is a value close to 0, meaning a bad review')"
      ],
      "execution_count": 187,
      "outputs": [
        {
          "output_type": "stream",
          "text": [
            "WARNING:tensorflow:6 out of the last 11 calls to <function Model.make_predict_function.<locals>.predict_function at 0x7f7363729950> triggered tf.function retracing. Tracing is expensive and the excessive number of tracings could be due to (1) creating @tf.function repeatedly in a loop, (2) passing tensors with different shapes, (3) passing Python objects instead of tensors. For (1), please define your @tf.function outside of the loop. For (2), @tf.function has experimental_relax_shapes=True option that relaxes argument shapes that can avoid unnecessary retracing. For (3), please refer to https://www.tensorflow.org/guide/function#controlling_retracing and https://www.tensorflow.org/api_docs/python/tf/function for  more details.\n"
          ],
          "name": "stdout"
        },
        {
          "output_type": "stream",
          "text": [
            "WARNING:tensorflow:6 out of the last 11 calls to <function Model.make_predict_function.<locals>.predict_function at 0x7f7363729950> triggered tf.function retracing. Tracing is expensive and the excessive number of tracings could be due to (1) creating @tf.function repeatedly in a loop, (2) passing tensors with different shapes, (3) passing Python objects instead of tensors. For (1), please define your @tf.function outside of the loop. For (2), @tf.function has experimental_relax_shapes=True option that relaxes argument shapes that can avoid unnecessary retracing. For (3), please refer to https://www.tensorflow.org/guide/function#controlling_retracing and https://www.tensorflow.org/api_docs/python/tf/function for  more details.\n"
          ],
          "name": "stderr"
        },
        {
          "output_type": "stream",
          "text": [
            "Review for this sentence: \n",
            " What a great movie. \n",
            " is a value of [[0.88048345]]\n",
            "This makes sense since it is a value close to 1, meaning a good review\n",
            "\n",
            "\n",
            "Review for this sentence: \n",
            " What a terrible movie. \n",
            " is a value of [[0.00842878]]\n",
            "This makes sense since it is a value close to 0, meaning a bad review\n"
          ],
          "name": "stdout"
        }
      ]
    },
    {
      "cell_type": "markdown",
      "metadata": {
        "id": "LuUpVgsyIhR5"
      },
      "source": [
        "# 4.7 model7"
      ]
    },
    {
      "cell_type": "markdown",
      "metadata": {
        "id": "hkB6KINKIhR_"
      },
      "source": [
        "## Set Embedding/Modeling Parameters"
      ]
    },
    {
      "cell_type": "code",
      "metadata": {
        "id": "V3s2hyLTIhSA"
      },
      "source": [
        "filename='TF_CNN_Sequential_NLP_imdb_reviews.ipynb'\n",
        "model_name='model7'\n",
        "optimizer='adam'\n",
        "optimizer_name=str(optimizer)\n",
        "loss='binary_crossentropy'\n",
        "accuracy_metric='binary_accuracy'\n",
        "epochs=10\n",
        "\n",
        "vocab_size = 10000\n",
        "embedding_dim = 16\n",
        "max_length = 120\n",
        "trunc_type='post'\n",
        "oov_tok = '<OOV>'"
      ],
      "execution_count": 188,
      "outputs": []
    },
    {
      "cell_type": "markdown",
      "metadata": {
        "id": "_IQZ9rnoIhSC"
      },
      "source": [
        "## Split Train/Test"
      ]
    },
    {
      "cell_type": "code",
      "metadata": {
        "id": "ZXEozv1gIhSD"
      },
      "source": [
        "train_data, test_data = imdb['train'], imdb['test']"
      ],
      "execution_count": 189,
      "outputs": []
    },
    {
      "cell_type": "code",
      "metadata": {
        "id": "U7JkBst4IhSE"
      },
      "source": [
        "training_sentences = []\n",
        "training_labels = []\n",
        "\n",
        "testing_sentences = []\n",
        "testing_labels = []"
      ],
      "execution_count": 190,
      "outputs": []
    },
    {
      "cell_type": "code",
      "metadata": {
        "id": "puXeewnBIhSF"
      },
      "source": [
        "for s, l in train_data:\n",
        "  training_sentences.append(str(s.numpy()))\n",
        "  training_labels.append(l.numpy())"
      ],
      "execution_count": 191,
      "outputs": []
    },
    {
      "cell_type": "code",
      "metadata": {
        "id": "d06J9cVuIhSI"
      },
      "source": [
        "for s, l in test_data:\n",
        "  testing_sentences.append(str(s.numpy()))\n",
        "  testing_labels.append(l.numpy())"
      ],
      "execution_count": 192,
      "outputs": []
    },
    {
      "cell_type": "code",
      "metadata": {
        "id": "D99HwnprIhSJ"
      },
      "source": [
        "import numpy as np\n",
        "training_labels_final = np.array(training_labels)\n",
        "testing_labels_final = np.array(testing_labels)"
      ],
      "execution_count": 193,
      "outputs": []
    },
    {
      "cell_type": "markdown",
      "metadata": {
        "id": "9Ask1o64IhSJ"
      },
      "source": [
        "## Create Tokenizer"
      ]
    },
    {
      "cell_type": "code",
      "metadata": {
        "id": "PZHM0T4ZIhSK"
      },
      "source": [
        "tokenizer = Tokenizer(num_words = vocab_size, oov_token=oov_tok) #create tokenizer that has a vocab_size & oov_token specified above"
      ],
      "execution_count": 194,
      "outputs": []
    },
    {
      "cell_type": "code",
      "metadata": {
        "colab": {
          "base_uri": "https://localhost:8080/"
        },
        "id": "CjFcuaEKIhSN",
        "outputId": "2619e2e6-db1e-43a4-8134-729b3b1666d4"
      },
      "source": [
        "testing_labels_final.max() #ensure max is still 1 for a \"bad\" review"
      ],
      "execution_count": 195,
      "outputs": [
        {
          "output_type": "execute_result",
          "data": {
            "text/plain": [
              "1"
            ]
          },
          "metadata": {
            "tags": []
          },
          "execution_count": 195
        }
      ]
    },
    {
      "cell_type": "code",
      "metadata": {
        "id": "0RFjeAq2IhSN"
      },
      "source": [
        "tokenizer.fit_on_texts(training_sentences) #fit the tokenizer on the training_sentences "
      ],
      "execution_count": 196,
      "outputs": []
    },
    {
      "cell_type": "code",
      "metadata": {
        "id": "_RbNh3vMIhSP"
      },
      "source": [
        "word_index = tokenizer.word_index #get the word index for the tokenizer"
      ],
      "execution_count": 197,
      "outputs": []
    },
    {
      "cell_type": "code",
      "metadata": {
        "id": "SCPYAW3vIhSP"
      },
      "source": [
        "sequences = tokenizer.texts_to_sequences(training_sentences) #convert texts to sequences using the tokenizer"
      ],
      "execution_count": 198,
      "outputs": []
    },
    {
      "cell_type": "code",
      "metadata": {
        "id": "VPwEu0i2IhSP"
      },
      "source": [
        "padded = pad_sequences(sequences, maxlen=max_length, truncating=trunc_type) # pad the sequences by the max_length with truncation set to trunc_type"
      ],
      "execution_count": 199,
      "outputs": []
    },
    {
      "cell_type": "code",
      "metadata": {
        "id": "LzcxzVQAIhSP"
      },
      "source": [
        "testing_sequences = tokenizer.texts_to_sequences(testing_sentences) # convert the testing_sentences to testing_sequences"
      ],
      "execution_count": 200,
      "outputs": []
    },
    {
      "cell_type": "code",
      "metadata": {
        "id": "A94_QB1OIhSQ"
      },
      "source": [
        "testing_padded = pad_sequences(testing_sequences, maxlen=max_length) # convert the testing_sequences to testing_padded"
      ],
      "execution_count": 201,
      "outputs": []
    },
    {
      "cell_type": "code",
      "metadata": {
        "id": "WnlMBd7oIhSR"
      },
      "source": [
        "reverse_word_index = dict([(value, key) for (key, value) in word_index.items()]) # reverse the key,value from word_index to check index value to key"
      ],
      "execution_count": 202,
      "outputs": []
    },
    {
      "cell_type": "code",
      "metadata": {
        "colab": {
          "base_uri": "https://localhost:8080/"
        },
        "id": "gExl74NLIhSS",
        "outputId": "98eb5323-2f57-495c-9134-4c87a8e000fa"
      },
      "source": [
        "print(decode_review(padded[0])) #This is after it has been padded and OOV in place, but decoded.  Recall this is actually padded as a sequence of numbers for training\n",
        "print(training_sentences[0]) #This is the original"
      ],
      "execution_count": 203,
      "outputs": [
        {
          "output_type": "stream",
          "text": [
            "? ? b this was an absolutely terrible movie don't be <OOV> in by christopher walken or michael <OOV> both are great actors but this must simply be their worst role in history even their great acting could not redeem this movie's ridiculous storyline this movie is an early nineties us propaganda piece the most pathetic scenes were those when the <OOV> rebels were making their cases for <OOV> maria <OOV> <OOV> appeared phony and her pseudo love affair with walken was nothing but a pathetic emotional plug in a movie that was devoid of any real meaning i am disappointed that there are movies like this ruining <OOV> like christopher <OOV> good name i could barely sit through it\n",
            "b\"This was an absolutely terrible movie. Don't be lured in by Christopher Walken or Michael Ironside. Both are great actors, but this must simply be their worst role in history. Even their great acting could not redeem this movie's ridiculous storyline. This movie is an early nineties US propaganda piece. The most pathetic scenes were those when the Columbian rebels were making their cases for revolutions. Maria Conchita Alonso appeared phony, and her pseudo-love affair with Walken was nothing but a pathetic emotional plug in a movie that was devoid of any real meaning. I am disappointed that there are movies like this, ruining actor's like Christopher Walken's good name. I could barely sit through it.\"\n"
          ],
          "name": "stdout"
        }
      ]
    },
    {
      "cell_type": "markdown",
      "metadata": {
        "id": "96j-5N2bIhST"
      },
      "source": [
        "## Create Model"
      ]
    },
    {
      "cell_type": "code",
      "metadata": {
        "id": "jIL5AxazIhSU"
      },
      "source": [
        "model,model_description=model_picker(vocab_size=vocab_size,embedding_dim=embedding_dim,input_length=max_length,model_name='model1')"
      ],
      "execution_count": 204,
      "outputs": []
    },
    {
      "cell_type": "code",
      "metadata": {
        "colab": {
          "base_uri": "https://localhost:8080/"
        },
        "id": "jxErMDJzIhSU",
        "outputId": "bfbe4f1b-e75c-46a9-9246-04402846614b"
      },
      "source": [
        "model.summary()"
      ],
      "execution_count": 205,
      "outputs": [
        {
          "output_type": "stream",
          "text": [
            "Model: \"sequential_6\"\n",
            "_________________________________________________________________\n",
            "Layer (type)                 Output Shape              Param #   \n",
            "=================================================================\n",
            "embedding_6 (Embedding)      (None, 120, 16)           160000    \n",
            "_________________________________________________________________\n",
            "flatten_6 (Flatten)          (None, 1920)              0         \n",
            "_________________________________________________________________\n",
            "dense_12 (Dense)             (None, 6)                 11526     \n",
            "_________________________________________________________________\n",
            "dense_13 (Dense)             (None, 1)                 7         \n",
            "=================================================================\n",
            "Total params: 171,533\n",
            "Trainable params: 171,533\n",
            "Non-trainable params: 0\n",
            "_________________________________________________________________\n"
          ],
          "name": "stdout"
        }
      ]
    },
    {
      "cell_type": "code",
      "metadata": {
        "id": "1l3Oz5vWIhSU"
      },
      "source": [
        "model.compile(loss=loss,optimizer=optimizer,metrics=[accuracy_metric])"
      ],
      "execution_count": 206,
      "outputs": []
    },
    {
      "cell_type": "markdown",
      "metadata": {
        "id": "K6-khjByIhSU"
      },
      "source": [
        "## Train Model"
      ]
    },
    {
      "cell_type": "code",
      "metadata": {
        "colab": {
          "base_uri": "https://localhost:8080/"
        },
        "id": "s63jyBpQIhSV",
        "outputId": "937370e9-3941-4c38-9dac-ee93d9288f4d"
      },
      "source": [
        "history=model.fit(padded, training_labels_final,epochs=epochs,validation_data=(testing_padded,\n",
        "                                                                           testing_labels_final))"
      ],
      "execution_count": 207,
      "outputs": [
        {
          "output_type": "stream",
          "text": [
            "Epoch 1/10\n",
            "782/782 [==============================] - 6s 7ms/step - loss: 0.4976 - binary_accuracy: 0.7387 - val_loss: 0.3632 - val_binary_accuracy: 0.8390\n",
            "Epoch 2/10\n",
            "782/782 [==============================] - 5s 6ms/step - loss: 0.2348 - binary_accuracy: 0.9099 - val_loss: 0.3689 - val_binary_accuracy: 0.8398\n",
            "Epoch 3/10\n",
            "782/782 [==============================] - 5s 6ms/step - loss: 0.0839 - binary_accuracy: 0.9784 - val_loss: 0.4561 - val_binary_accuracy: 0.8260\n",
            "Epoch 4/10\n",
            "782/782 [==============================] - 5s 7ms/step - loss: 0.0187 - binary_accuracy: 0.9980 - val_loss: 0.5246 - val_binary_accuracy: 0.8271\n",
            "Epoch 5/10\n",
            "782/782 [==============================] - 5s 6ms/step - loss: 0.0046 - binary_accuracy: 0.9997 - val_loss: 0.5863 - val_binary_accuracy: 0.8276\n",
            "Epoch 6/10\n",
            "782/782 [==============================] - 5s 6ms/step - loss: 0.0016 - binary_accuracy: 1.0000 - val_loss: 0.6328 - val_binary_accuracy: 0.8283\n",
            "Epoch 7/10\n",
            "782/782 [==============================] - 4s 5ms/step - loss: 8.0212e-04 - binary_accuracy: 1.0000 - val_loss: 0.6726 - val_binary_accuracy: 0.8285\n",
            "Epoch 8/10\n",
            "782/782 [==============================] - 5s 6ms/step - loss: 4.3091e-04 - binary_accuracy: 1.0000 - val_loss: 0.7099 - val_binary_accuracy: 0.8286\n",
            "Epoch 9/10\n",
            "782/782 [==============================] - 5s 6ms/step - loss: 2.4989e-04 - binary_accuracy: 1.0000 - val_loss: 0.7455 - val_binary_accuracy: 0.8288\n",
            "Epoch 10/10\n",
            "782/782 [==============================] - 4s 5ms/step - loss: 1.5171e-04 - binary_accuracy: 1.0000 - val_loss: 0.7825 - val_binary_accuracy: 0.8284\n"
          ],
          "name": "stdout"
        }
      ]
    },
    {
      "cell_type": "markdown",
      "metadata": {
        "id": "YSMEJ7CvIhSW"
      },
      "source": [
        "## Evaluate Model"
      ]
    },
    {
      "cell_type": "code",
      "metadata": {
        "colab": {
          "base_uri": "https://localhost:8080/"
        },
        "id": "R0NVCAyrIhSY",
        "outputId": "9b8869df-621b-4506-feec-47bc6071cb4c"
      },
      "source": [
        "e = model.layers[0]\n",
        "weights=e.get_weights()[0]\n",
        "print(weights.shape) # shape: (vocab_size, embedding_dim)"
      ],
      "execution_count": 208,
      "outputs": [
        {
          "output_type": "stream",
          "text": [
            "(10000, 16)\n"
          ],
          "name": "stdout"
        }
      ]
    },
    {
      "cell_type": "code",
      "metadata": {
        "colab": {
          "base_uri": "https://localhost:8080/"
        },
        "id": "ixPMMlYLIhSZ",
        "outputId": "d0224ce2-d61e-4c8e-ed8f-2c926ab04cd0"
      },
      "source": [
        "final_eval_loss,final_eval_acc=model.evaluate(testing_padded,testing_labels_final)"
      ],
      "execution_count": 209,
      "outputs": [
        {
          "output_type": "stream",
          "text": [
            "782/782 [==============================] - 1s 1ms/step - loss: 0.7825 - binary_accuracy: 0.8284\n"
          ],
          "name": "stdout"
        }
      ]
    },
    {
      "cell_type": "code",
      "metadata": {
        "colab": {
          "base_uri": "https://localhost:8080/"
        },
        "id": "oFB2COf1IhSZ",
        "outputId": "0db4129e-059e-4f81-a253-b6d17e0d1656"
      },
      "source": [
        "final_eval_loss"
      ],
      "execution_count": 210,
      "outputs": [
        {
          "output_type": "execute_result",
          "data": {
            "text/plain": [
              "0.7824556827545166"
            ]
          },
          "metadata": {
            "tags": []
          },
          "execution_count": 210
        }
      ]
    },
    {
      "cell_type": "code",
      "metadata": {
        "colab": {
          "base_uri": "https://localhost:8080/"
        },
        "id": "FcKU9BQjIhSZ",
        "outputId": "6b361286-0820-4ad3-9d41-d5115d387b5d"
      },
      "source": [
        "trainableParams = np.sum([np.prod(v.get_shape()) for v in model.trainable_weights])\n",
        "trainableParams"
      ],
      "execution_count": 211,
      "outputs": [
        {
          "output_type": "execute_result",
          "data": {
            "text/plain": [
              "171533"
            ]
          },
          "metadata": {
            "tags": []
          },
          "execution_count": 211
        }
      ]
    },
    {
      "cell_type": "code",
      "metadata": {
        "colab": {
          "base_uri": "https://localhost:8080/",
          "height": 891
        },
        "id": "HhwaeV2aIhSa",
        "outputId": "f413ba69-d6f7-474c-d4fd-9a68a29a465c"
      },
      "source": [
        "plot_train_eval(history,model_name,trainableParams,optimizer_name,loss,accuracy_metric,epochs,vocab_size,embedding_dim,max_length,trunc_type,oov_tok)"
      ],
      "execution_count": 212,
      "outputs": [
        {
          "output_type": "display_data",
          "data": {
            "image/png": "[encoded data removed]",
            "text/plain": [
              "<Figure size 432x288 with 1 Axes>"
            ]
          },
          "metadata": {
            "tags": [],
            "needs_background": "light"
          }
        },
        {
          "output_type": "stream",
          "text": [
            "\n"
          ],
          "name": "stdout"
        },
        {
          "output_type": "display_data",
          "data": {
            "image/png": "[encoded data removed]",
            "text/plain": [
              "<Figure size 432x288 with 1 Axes>"
            ]
          },
          "metadata": {
            "tags": [],
            "needs_background": "light"
          }
        }
      ]
    },
    {
      "cell_type": "code",
      "metadata": {
        "colab": {
          "base_uri": "https://localhost:8080/",
          "height": 411
        },
        "id": "pws22ekKIhSb",
        "outputId": "48068779-0c7e-4c26-bf66-150182c836b9"
      },
      "source": [
        "df=pd.DataFrame([[filename,model_name,model_description,optimizer,loss,accuracy_metric,epochs,vocab_size,embedding_dim,max_length,trunc_type,oov_tok,final_eval_loss,final_eval_acc]],columns=cols)\n",
        "df_metrics=df_metrics.append(df,ignore_index=True)\n",
        "df_metrics"
      ],
      "execution_count": 213,
      "outputs": [
        {
          "output_type": "execute_result",
          "data": {
            "text/html": [
              "<div>\n",
              "<style scoped>\n",
              "    .dataframe tbody tr th:only-of-type {\n",
              "        vertical-align: middle;\n",
              "    }\n",
              "\n",
              "    .dataframe tbody tr th {\n",
              "        vertical-align: top;\n",
              "    }\n",
              "\n",
              "    .dataframe thead th {\n",
              "        text-align: right;\n",
              "    }\n",
              "</style>\n",
              "<table border=\"1\" class=\"dataframe\">\n",
              "  <thead>\n",
              "    <tr style=\"text-align: right;\">\n",
              "      <th></th>\n",
              "      <th>filename</th>\n",
              "      <th>model_name</th>\n",
              "      <th>model_description</th>\n",
              "      <th>optimizer</th>\n",
              "      <th>loss</th>\n",
              "      <th>accuracy_metric</th>\n",
              "      <th>epochs</th>\n",
              "      <th>vocab_size</th>\n",
              "      <th>embedding_dim</th>\n",
              "      <th>max_length</th>\n",
              "      <th>trunc_type</th>\n",
              "      <th>oov_tok</th>\n",
              "      <th>final_eval_loss</th>\n",
              "      <th>final_eval_acc</th>\n",
              "    </tr>\n",
              "  </thead>\n",
              "  <tbody>\n",
              "    <tr>\n",
              "      <th>0</th>\n",
              "      <td>TF_CNN_Sequential_NLP_imdb_reviews.ipynb</td>\n",
              "      <td>model1</td>\n",
              "      <td>Embedding(vocab_size=10000, \\n embedding_dim=1...</td>\n",
              "      <td>adam</td>\n",
              "      <td>binary_crossentropy</td>\n",
              "      <td>binary_accuracy</td>\n",
              "      <td>10</td>\n",
              "      <td>10000</td>\n",
              "      <td>16</td>\n",
              "      <td>120</td>\n",
              "      <td>post</td>\n",
              "      <td>&lt;OOV&gt;</td>\n",
              "      <td>0.784348</td>\n",
              "      <td>0.82900</td>\n",
              "    </tr>\n",
              "    <tr>\n",
              "      <th>1</th>\n",
              "      <td>TF_CNN_Sequential_NLP_imdb_reviews.ipynb</td>\n",
              "      <td>model2</td>\n",
              "      <td>Embedding(vocab_size=10000, \\n embedding_dim=1...</td>\n",
              "      <td>adam</td>\n",
              "      <td>binary_crossentropy</td>\n",
              "      <td>binary_accuracy</td>\n",
              "      <td>10</td>\n",
              "      <td>10000</td>\n",
              "      <td>16</td>\n",
              "      <td>120</td>\n",
              "      <td>post</td>\n",
              "      <td>&lt;OOV&gt;</td>\n",
              "      <td>0.795204</td>\n",
              "      <td>0.82816</td>\n",
              "    </tr>\n",
              "    <tr>\n",
              "      <th>2</th>\n",
              "      <td>TF_CNN_Sequential_NLP_imdb_reviews.ipynb</td>\n",
              "      <td>model3</td>\n",
              "      <td>Embedding(vocab_size=10000, \\n embedding_dim=1...</td>\n",
              "      <td>adam</td>\n",
              "      <td>binary_crossentropy</td>\n",
              "      <td>binary_accuracy</td>\n",
              "      <td>10</td>\n",
              "      <td>10000</td>\n",
              "      <td>16</td>\n",
              "      <td>120</td>\n",
              "      <td>post</td>\n",
              "      <td>&lt;OOV&gt;</td>\n",
              "      <td>0.801059</td>\n",
              "      <td>0.83012</td>\n",
              "    </tr>\n",
              "    <tr>\n",
              "      <th>3</th>\n",
              "      <td>TF_CNN_Sequential_NLP_imdb_reviews.ipynb</td>\n",
              "      <td>model4</td>\n",
              "      <td>Embedding(vocab_size=10000, \\n embedding_dim=1...</td>\n",
              "      <td>adam</td>\n",
              "      <td>binary_crossentropy</td>\n",
              "      <td>binary_accuracy</td>\n",
              "      <td>10</td>\n",
              "      <td>10000</td>\n",
              "      <td>16</td>\n",
              "      <td>120</td>\n",
              "      <td>post</td>\n",
              "      <td>&lt;OOV&gt;</td>\n",
              "      <td>0.794344</td>\n",
              "      <td>0.82888</td>\n",
              "    </tr>\n",
              "    <tr>\n",
              "      <th>4</th>\n",
              "      <td>TF_CNN_Sequential_NLP_imdb_reviews.ipynb</td>\n",
              "      <td>model5</td>\n",
              "      <td>Embedding(vocab_size=10000, \\n embedding_dim=1...</td>\n",
              "      <td>adam</td>\n",
              "      <td>binary_crossentropy</td>\n",
              "      <td>binary_accuracy</td>\n",
              "      <td>10</td>\n",
              "      <td>10000</td>\n",
              "      <td>16</td>\n",
              "      <td>120</td>\n",
              "      <td>post</td>\n",
              "      <td>&lt;OOV&gt;</td>\n",
              "      <td>0.796941</td>\n",
              "      <td>0.82872</td>\n",
              "    </tr>\n",
              "    <tr>\n",
              "      <th>5</th>\n",
              "      <td>TF_CNN_Sequential_NLP_imdb_reviews.ipynb</td>\n",
              "      <td>model6</td>\n",
              "      <td>Embedding(vocab_size=10000, \\n embedding_dim=1...</td>\n",
              "      <td>adam</td>\n",
              "      <td>binary_crossentropy</td>\n",
              "      <td>binary_accuracy</td>\n",
              "      <td>10</td>\n",
              "      <td>10000</td>\n",
              "      <td>16</td>\n",
              "      <td>120</td>\n",
              "      <td>post</td>\n",
              "      <td>&lt;OOV&gt;</td>\n",
              "      <td>0.801609</td>\n",
              "      <td>0.82700</td>\n",
              "    </tr>\n",
              "    <tr>\n",
              "      <th>6</th>\n",
              "      <td>TF_CNN_Sequential_NLP_imdb_reviews.ipynb</td>\n",
              "      <td>model7</td>\n",
              "      <td>Embedding(vocab_size=10000, \\n embedding_dim=1...</td>\n",
              "      <td>adam</td>\n",
              "      <td>binary_crossentropy</td>\n",
              "      <td>binary_accuracy</td>\n",
              "      <td>10</td>\n",
              "      <td>10000</td>\n",
              "      <td>16</td>\n",
              "      <td>120</td>\n",
              "      <td>post</td>\n",
              "      <td>&lt;OOV&gt;</td>\n",
              "      <td>0.782456</td>\n",
              "      <td>0.82840</td>\n",
              "    </tr>\n",
              "  </tbody>\n",
              "</table>\n",
              "</div>"
            ],
            "text/plain": [
              "                                   filename  ... final_eval_acc\n",
              "0  TF_CNN_Sequential_NLP_imdb_reviews.ipynb  ...        0.82900\n",
              "1  TF_CNN_Sequential_NLP_imdb_reviews.ipynb  ...        0.82816\n",
              "2  TF_CNN_Sequential_NLP_imdb_reviews.ipynb  ...        0.83012\n",
              "3  TF_CNN_Sequential_NLP_imdb_reviews.ipynb  ...        0.82888\n",
              "4  TF_CNN_Sequential_NLP_imdb_reviews.ipynb  ...        0.82872\n",
              "5  TF_CNN_Sequential_NLP_imdb_reviews.ipynb  ...        0.82700\n",
              "6  TF_CNN_Sequential_NLP_imdb_reviews.ipynb  ...        0.82840\n",
              "\n",
              "[7 rows x 14 columns]"
            ]
          },
          "metadata": {
            "tags": []
          },
          "execution_count": 213
        }
      ]
    },
    {
      "cell_type": "code",
      "metadata": {
        "colab": {
          "base_uri": "https://localhost:8080/"
        },
        "id": "uTFcm8qXIhSb",
        "outputId": "26446cd7-74c8-4030-f711-d4a819888395"
      },
      "source": [
        "model.save(model_name) #save model\n",
        "model=tf.keras.models.load_model(model_name) #load model\n",
        "df_metrics.to_excel('df_metrics.xlsx')"
      ],
      "execution_count": 214,
      "outputs": [
        {
          "output_type": "stream",
          "text": [
            "INFO:tensorflow:Assets written to: model7/assets\n"
          ],
          "name": "stdout"
        },
        {
          "output_type": "stream",
          "text": [
            "INFO:tensorflow:Assets written to: model7/assets\n"
          ],
          "name": "stderr"
        }
      ]
    },
    {
      "cell_type": "code",
      "metadata": {
        "id": "Xn8KBEbhIhSc"
      },
      "source": [
        "import io\n",
        "\n",
        "out_v = io.open(f'vecs_{model_name}.tsv', 'w', encoding='utf-8')\n",
        "out_m = io.open(f'meta_{model_name}.tsv', 'w', encoding='utf-8')\n",
        "for word_num in range(1, vocab_size):\n",
        "  word = reverse_word_index[word_num]\n",
        "  embeddings = weights[word_num]\n",
        "  out_m.write(word + \"\\n\")\n",
        "  out_v.write('\\t'.join([str(x) for x in embeddings]) + \"\\n\")\n",
        "out_v.close()\n",
        "out_m.close()"
      ],
      "execution_count": 215,
      "outputs": []
    },
    {
      "cell_type": "code",
      "metadata": {
        "colab": {
          "base_uri": "https://localhost:8080/",
          "height": 17
        },
        "id": "mIJzPBhOIhSd",
        "outputId": "7dfbbc1b-55b4-4859-a479-2d1ae7230e01"
      },
      "source": [
        "try:\n",
        "  from google.colab import files\n",
        "except ImportError:\n",
        "  pass\n",
        "else:\n",
        "  files.download(f'vecs_{model_name}.tsv')\n",
        "  files.download(f'meta_{model_name}.tsv')"
      ],
      "execution_count": 216,
      "outputs": [
        {
          "output_type": "display_data",
          "data": {
            "application/javascript": [
              "\n",
              "    async function download(id, filename, size) {\n",
              "      if (!google.colab.kernel.accessAllowed) {\n",
              "        return;\n",
              "      }\n",
              "      const div = document.createElement('div');\n",
              "      const label = document.createElement('label');\n",
              "      label.textContent = `Downloading \"${filename}\": `;\n",
              "      div.appendChild(label);\n",
              "      const progress = document.createElement('progress');\n",
              "      progress.max = size;\n",
              "      div.appendChild(progress);\n",
              "      document.body.appendChild(div);\n",
              "\n",
              "      const buffers = [];\n",
              "      let downloaded = 0;\n",
              "\n",
              "      const channel = await google.colab.kernel.comms.open(id);\n",
              "      // Send a message to notify the kernel that we're ready.\n",
              "      channel.send({})\n",
              "\n",
              "      for await (const message of channel.messages) {\n",
              "        // Send a message to notify the kernel that we're ready.\n",
              "        channel.send({})\n",
              "        if (message.buffers) {\n",
              "          for (const buffer of message.buffers) {\n",
              "            buffers.push(buffer);\n",
              "            downloaded += buffer.byteLength;\n",
              "            progress.value = downloaded;\n",
              "          }\n",
              "        }\n",
              "      }\n",
              "      const blob = new Blob(buffers, {type: 'application/binary'});\n",
              "      const a = document.createElement('a');\n",
              "      a.href = window.URL.createObjectURL(blob);\n",
              "      a.download = filename;\n",
              "      div.appendChild(a);\n",
              "      a.click();\n",
              "      div.remove();\n",
              "    }\n",
              "  "
            ],
            "text/plain": [
              "<IPython.core.display.Javascript object>"
            ]
          },
          "metadata": {
            "tags": []
          }
        },
        {
          "output_type": "display_data",
          "data": {
            "application/javascript": [
              "download(\"download_086e4d5e-a56c-41fb-b4f3-b16adfd4fb7d\", \"vecs_model7.tsv\", 1913828)"
            ],
            "text/plain": [
              "<IPython.core.display.Javascript object>"
            ]
          },
          "metadata": {
            "tags": []
          }
        },
        {
          "output_type": "display_data",
          "data": {
            "application/javascript": [
              "\n",
              "    async function download(id, filename, size) {\n",
              "      if (!google.colab.kernel.accessAllowed) {\n",
              "        return;\n",
              "      }\n",
              "      const div = document.createElement('div');\n",
              "      const label = document.createElement('label');\n",
              "      label.textContent = `Downloading \"${filename}\": `;\n",
              "      div.appendChild(label);\n",
              "      const progress = document.createElement('progress');\n",
              "      progress.max = size;\n",
              "      div.appendChild(progress);\n",
              "      document.body.appendChild(div);\n",
              "\n",
              "      const buffers = [];\n",
              "      let downloaded = 0;\n",
              "\n",
              "      const channel = await google.colab.kernel.comms.open(id);\n",
              "      // Send a message to notify the kernel that we're ready.\n",
              "      channel.send({})\n",
              "\n",
              "      for await (const message of channel.messages) {\n",
              "        // Send a message to notify the kernel that we're ready.\n",
              "        channel.send({})\n",
              "        if (message.buffers) {\n",
              "          for (const buffer of message.buffers) {\n",
              "            buffers.push(buffer);\n",
              "            downloaded += buffer.byteLength;\n",
              "            progress.value = downloaded;\n",
              "          }\n",
              "        }\n",
              "      }\n",
              "      const blob = new Blob(buffers, {type: 'application/binary'});\n",
              "      const a = document.createElement('a');\n",
              "      a.href = window.URL.createObjectURL(blob);\n",
              "      a.download = filename;\n",
              "      div.appendChild(a);\n",
              "      a.click();\n",
              "      div.remove();\n",
              "    }\n",
              "  "
            ],
            "text/plain": [
              "<IPython.core.display.Javascript object>"
            ]
          },
          "metadata": {
            "tags": []
          }
        },
        {
          "output_type": "display_data",
          "data": {
            "application/javascript": [
              "download(\"download_33a4f5b5-ada4-474c-8cfa-d35848b23ae5\", \"meta_model7.tsv\", 75846)"
            ],
            "text/plain": [
              "<IPython.core.display.Javascript object>"
            ]
          },
          "metadata": {
            "tags": []
          }
        }
      ]
    },
    {
      "cell_type": "code",
      "metadata": {
        "colab": {
          "base_uri": "https://localhost:8080/"
        },
        "id": "UqHvim9tIhSd",
        "outputId": "2e17a8e2-4fa3-46f1-fa0b-afe5eb66ab7e"
      },
      "source": [
        "# Testing new Custom Reviews\n",
        "sentence1='What a great movie.'\n",
        "test1=tokenizer.texts_to_sequences([sentence1])\n",
        "test1= pad_sequences(test1, maxlen=max_length, truncating=trunc_type)\n",
        "answer=model.predict(test1)\n",
        "print(f'Review for this sentence: \\n {sentence1} \\n is a value of {answer}')\n",
        "print('This makes sense since it is a value close to 1, meaning a good review')\n",
        "print('\\n')\n",
        "\n",
        "sentence2='What a terrible movie.'\n",
        "test2=tokenizer.texts_to_sequences([sentence2])\n",
        "test2= pad_sequences(test2, maxlen=max_length, truncating=trunc_type)\n",
        "answer=model.predict(test2)\n",
        "print(f'Review for this sentence: \\n {sentence2} \\n is a value of {answer}')\n",
        "print('This makes sense since it is a value close to 0, meaning a bad review')"
      ],
      "execution_count": 217,
      "outputs": [
        {
          "output_type": "stream",
          "text": [
            "Review for this sentence: \n",
            " What a great movie. \n",
            " is a value of [[0.6334901]]\n",
            "This makes sense since it is a value close to 1, meaning a good review\n",
            "\n",
            "\n",
            "Review for this sentence: \n",
            " What a terrible movie. \n",
            " is a value of [[0.00273472]]\n",
            "This makes sense since it is a value close to 0, meaning a bad review\n"
          ],
          "name": "stdout"
        }
      ]
    },
    {
      "cell_type": "markdown",
      "metadata": {
        "id": "-5WiW8GoCTP5"
      },
      "source": [
        "# 5.0 Export Models"
      ]
    },
    {
      "cell_type": "code",
      "metadata": {
        "colab": {
          "base_uri": "https://localhost:8080/"
        },
        "id": "IivQI5d-qcJX",
        "outputId": "31f2f327-971f-4d78-d572-ff4dc7412d0c"
      },
      "source": [
        "!zip -r /content/model1.zip /content/model1"
      ],
      "execution_count": 218,
      "outputs": [
        {
          "output_type": "stream",
          "text": [
            "updating: content/model1/ (stored 0%)\n",
            "updating: content/model1/assets/ (stored 0%)\n",
            "updating: content/model1/saved_model.pb (deflated 87%)\n",
            "updating: content/model1/keras_metadata.pb (deflated 85%)\n",
            "updating: content/model1/variables/ (stored 0%)\n",
            "updating: content/model1/variables/variables.index (deflated 61%)\n",
            "updating: content/model1/variables/variables.data-00000-of-00001 (deflated 7%)\n"
          ],
          "name": "stdout"
        }
      ]
    },
    {
      "cell_type": "code",
      "metadata": {
        "colab": {
          "base_uri": "https://localhost:8080/"
        },
        "id": "--Y8u5jeAmfC",
        "outputId": "6da0e6b1-729e-4ece-d6e8-7eff4ce4d8e2"
      },
      "source": [
        "!zip -r /content/model2.zip /content/model2"
      ],
      "execution_count": 219,
      "outputs": [
        {
          "output_type": "stream",
          "text": [
            "updating: content/model2/ (stored 0%)\n",
            "updating: content/model2/assets/ (stored 0%)\n",
            "updating: content/model2/saved_model.pb (deflated 87%)\n",
            "updating: content/model2/keras_metadata.pb (deflated 85%)\n",
            "updating: content/model2/variables/ (stored 0%)\n",
            "updating: content/model2/variables/variables.index (deflated 61%)\n",
            "updating: content/model2/variables/variables.data-00000-of-00001 (deflated 7%)\n"
          ],
          "name": "stdout"
        }
      ]
    },
    {
      "cell_type": "code",
      "metadata": {
        "colab": {
          "base_uri": "https://localhost:8080/"
        },
        "id": "OojcA5ovAoZy",
        "outputId": "64378c4d-2321-478c-87d3-140880933bd8"
      },
      "source": [
        "!zip -r /content/model3.zip /content/model3"
      ],
      "execution_count": 220,
      "outputs": [
        {
          "output_type": "stream",
          "text": [
            "updating: content/model3/ (stored 0%)\n",
            "updating: content/model3/assets/ (stored 0%)\n",
            "updating: content/model3/saved_model.pb (deflated 87%)\n",
            "updating: content/model3/keras_metadata.pb (deflated 86%)\n",
            "updating: content/model3/variables/ (stored 0%)\n",
            "updating: content/model3/variables/variables.index (deflated 61%)\n",
            "updating: content/model3/variables/variables.data-00000-of-00001 (deflated 7%)\n"
          ],
          "name": "stdout"
        }
      ]
    },
    {
      "cell_type": "code",
      "metadata": {
        "colab": {
          "base_uri": "https://localhost:8080/"
        },
        "id": "flLhsLK4GpKP",
        "outputId": "bfeb9a5f-b83c-410c-b3af-259f4e5c3ca3"
      },
      "source": [
        "!zip -r /content/model4.zip /content/model4"
      ],
      "execution_count": 221,
      "outputs": [
        {
          "output_type": "stream",
          "text": [
            "updating: content/model4/ (stored 0%)\n",
            "updating: content/model4/assets/ (stored 0%)\n",
            "updating: content/model4/saved_model.pb (deflated 87%)\n",
            "updating: content/model4/keras_metadata.pb (deflated 85%)\n",
            "updating: content/model4/variables/ (stored 0%)\n",
            "updating: content/model4/variables/variables.index (deflated 61%)\n",
            "updating: content/model4/variables/variables.data-00000-of-00001 (deflated 7%)\n"
          ],
          "name": "stdout"
        }
      ]
    },
    {
      "cell_type": "code",
      "metadata": {
        "colab": {
          "base_uri": "https://localhost:8080/"
        },
        "id": "hGxkqtm2JT-3",
        "outputId": "7d4e526b-f116-4e06-89dc-fa883abb3728"
      },
      "source": [
        "!zip -r /content/model5.zip /content/model5"
      ],
      "execution_count": 222,
      "outputs": [
        {
          "output_type": "stream",
          "text": [
            "  adding: content/model5/ (stored 0%)\n",
            "  adding: content/model5/assets/ (stored 0%)\n",
            "  adding: content/model5/saved_model.pb (deflated 87%)\n",
            "  adding: content/model5/keras_metadata.pb (deflated 85%)\n",
            "  adding: content/model5/variables/ (stored 0%)\n",
            "  adding: content/model5/variables/variables.index (deflated 61%)\n",
            "  adding: content/model5/variables/variables.data-00000-of-00001 (deflated 7%)\n"
          ],
          "name": "stdout"
        }
      ]
    },
    {
      "cell_type": "code",
      "metadata": {
        "colab": {
          "base_uri": "https://localhost:8080/"
        },
        "id": "y34JPnOfJV8a",
        "outputId": "53fccd4c-4081-4f63-ae4e-a08b8899558e"
      },
      "source": [
        "!zip -r /content/model6.zip /content/model6"
      ],
      "execution_count": 223,
      "outputs": [
        {
          "output_type": "stream",
          "text": [
            "  adding: content/model6/ (stored 0%)\n",
            "  adding: content/model6/assets/ (stored 0%)\n",
            "  adding: content/model6/saved_model.pb (deflated 87%)\n",
            "  adding: content/model6/keras_metadata.pb (deflated 85%)\n",
            "  adding: content/model6/variables/ (stored 0%)\n",
            "  adding: content/model6/variables/variables.index (deflated 61%)\n",
            "  adding: content/model6/variables/variables.data-00000-of-00001 (deflated 7%)\n"
          ],
          "name": "stdout"
        }
      ]
    },
    {
      "cell_type": "code",
      "metadata": {
        "colab": {
          "base_uri": "https://localhost:8080/"
        },
        "id": "s9EBKr3aJYPr",
        "outputId": "d573f02a-b4cf-421f-daba-b97783715c73"
      },
      "source": [
        "!zip -r /content/model7.zip /content/model7"
      ],
      "execution_count": 224,
      "outputs": [
        {
          "output_type": "stream",
          "text": [
            "  adding: content/model7/ (stored 0%)\n",
            "  adding: content/model7/assets/ (stored 0%)\n",
            "  adding: content/model7/saved_model.pb (deflated 87%)\n",
            "  adding: content/model7/keras_metadata.pb (deflated 85%)\n",
            "  adding: content/model7/variables/ (stored 0%)\n",
            "  adding: content/model7/variables/variables.index (deflated 61%)\n",
            "  adding: content/model7/variables/variables.data-00000-of-00001 (deflated 7%)\n"
          ],
          "name": "stdout"
        }
      ]
    },
    {
      "cell_type": "markdown",
      "metadata": {
        "id": "nbIbIOWJD0z3"
      },
      "source": [
        "# Install **rclone**\n",
        "This is so you can save your checkpoints weights to your actual google drive for restoration."
      ]
    },
    {
      "cell_type": "code",
      "metadata": {
        "id": "3JZkhNVByOq-",
        "colab": {
          "base_uri": "https://localhost:8080/"
        },
        "outputId": "fafe297b-139c-4b01-c6c2-457d179753f3"
      },
      "source": [
        "! curl https://rclone.org/install.sh | sudo bash"
      ],
      "execution_count": 225,
      "outputs": [
        {
          "output_type": "stream",
          "text": [
            "  % Total    % Received % Xferd  Average Speed   Time    Time     Time  Current\n",
            "                                 Dload  Upload   Total   Spent    Left  Speed\n",
            "100  4491  100  4491    0     0   4935      0 --:--:-- --:--:-- --:--:--  4929\n",
            "  % Total    % Received % Xferd  Average Speed   Time    Time     Time  Current\n",
            "                                 Dload  Upload   Total   Spent    Left  Speed\n",
            "100    15  100    15    0     0     16      0 --:--:-- --:--:-- --:--:--    16\n",
            "\n",
            "The latest version of rclone rclone v1.55.1 is already installed.\n",
            "\n"
          ],
          "name": "stdout"
        }
      ]
    },
    {
      "cell_type": "markdown",
      "metadata": {
        "id": "KCgqY-B7EJxi"
      },
      "source": [
        "You want to create a remote configuration with rclone.  Use the default recommendations."
      ]
    },
    {
      "cell_type": "code",
      "metadata": {
        "id": "7gOec5AkyF-L",
        "colab": {
          "base_uri": "https://localhost:8080/"
        },
        "outputId": "8ca2d95f-77c4-4c77-ab7f-0732cb18f202"
      },
      "source": [
        "!rclone config"
      ],
      "execution_count": 226,
      "outputs": [
        {
          "output_type": "stream",
          "text": [
            "Current remotes:\n",
            "\n",
            "Name                 Type\n",
            "====                 ====\n",
            "remote               drive\n",
            "\n",
            "e) Edit existing remote\n",
            "n) New remote\n",
            "d) Delete remote\n",
            "r) Rename remote\n",
            "c) Copy remote\n",
            "s) Set configuration password\n",
            "q) Quit config\n",
            "e/n/d/r/c/s/q> q\n"
          ],
          "name": "stdout"
        }
      ]
    },
    {
      "cell_type": "markdown",
      "metadata": {
        "id": "2a96jdVeEZiy"
      },
      "source": [
        "# Copy Content to **Google Drive** with **rclone**\n",
        "Try to copy exisiting weights to a future directory to ensure rclone is configured right"
      ]
    },
    {
      "cell_type": "markdown",
      "metadata": {
        "id": "OIjidiznFvJ3"
      },
      "source": [
        "This line tests the ability to copy known weights to a directory on you **Google Drive** with **rclone**"
      ]
    },
    {
      "cell_type": "code",
      "metadata": {
        "id": "220dIpBS_zBv"
      },
      "source": [
        "!rclone copy \"/content/\"  remote:\"/Colab_Notebooks/GitHub/TensorFlow_Examples/Basics/Wk6/content\""
      ],
      "execution_count": 227,
      "outputs": []
    }
  ]
}