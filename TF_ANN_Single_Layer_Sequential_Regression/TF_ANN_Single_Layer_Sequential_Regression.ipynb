{
  "nbformat": 4,
  "nbformat_minor": 0,
  "metadata": {
    "colab": {
      "name": "TF_ANN_Single_Layer_Sequential_Regression.ipynb",
      "provenance": [],
      "collapsed_sections": [
        "FRrm0IKHgrXM"
      ],
      "toc_visible": true
    },
    "kernelspec": {
      "name": "python3",
      "display_name": "Python 3"
    },
    "language_info": {
      "name": "python"
    }
  },
  "cells": [
    {
      "cell_type": "markdown",
      "metadata": {
        "id": "JJ_4WZvaDfC5"
      },
      "source": [
        "# 1.0  Purpose\n",
        "The purpose of this notebook is to show a simple example of an Artificial Neural Network (ANN) using TensorFlow to predict the cost of an apartment per month based on the number of rooms.\n",
        "\n",
        "Assume the cost of an apartment per month = 500 + 250 per bedroom, such that 1 bedroom apartment costs 750 per month, 2 bedroom apartment costs 1000, etc.\n",
        "\n",
        "We want to predict the cost of a 4 bedroom apartment with this neural network.  "
      ]
    },
    {
      "cell_type": "markdown",
      "metadata": {
        "id": "whREEHc7EJQe"
      },
      "source": [
        "# 2.0 Import Libraries"
      ]
    },
    {
      "cell_type": "code",
      "metadata": {
        "id": "NuHYAE8gDCY0"
      },
      "source": [
        "import tensorflow as tf\n",
        "import numpy as np"
      ],
      "execution_count": 1,
      "outputs": []
    },
    {
      "cell_type": "code",
      "metadata": {
        "id": "UBQRKz3wDZE2",
        "colab": {
          "base_uri": "https://localhost:8080/",
          "height": 36
        },
        "outputId": "f7322c09-0712-4915-9dab-5ffc02aab5b1"
      },
      "source": [
        "tf.__version__"
      ],
      "execution_count": 2,
      "outputs": [
        {
          "output_type": "execute_result",
          "data": {
            "application/vnd.google.colaboratory.intrinsic+json": {
              "type": "string"
            },
            "text/plain": [
              "'2.5.0'"
            ]
          },
          "metadata": {
            "tags": []
          },
          "execution_count": 2
        }
      ]
    },
    {
      "cell_type": "code",
      "metadata": {
        "id": "lesiX2DBDbVy",
        "colab": {
          "base_uri": "https://localhost:8080/",
          "height": 36
        },
        "outputId": "170734f7-e078-4e0a-fc34-7f6e98caeaab"
      },
      "source": [
        "np.__version__"
      ],
      "execution_count": 3,
      "outputs": [
        {
          "output_type": "execute_result",
          "data": {
            "application/vnd.google.colaboratory.intrinsic+json": {
              "type": "string"
            },
            "text/plain": [
              "'1.19.5'"
            ]
          },
          "metadata": {
            "tags": []
          },
          "execution_count": 3
        }
      ]
    },
    {
      "cell_type": "markdown",
      "metadata": {
        "id": "Rmw2eU48FDYy"
      },
      "source": [
        "# 3.0 Generate 10 datapoints for apartments using formula defined in purpose"
      ]
    },
    {
      "cell_type": "code",
      "metadata": {
        "id": "mDjduFyMDePh",
        "colab": {
          "base_uri": "https://localhost:8080/"
        },
        "outputId": "08428acb-ebac-4935-c191-ab0edfb50823"
      },
      "source": [
        "x=[]\n",
        "y=[]\n",
        "for i in range(10):\n",
        "  x.append(np.float(i))\n",
        "  y.append(500.+250.*np.float(i))\n",
        "print(x,y)"
      ],
      "execution_count": 4,
      "outputs": [
        {
          "output_type": "stream",
          "text": [
            "[0.0, 1.0, 2.0, 3.0, 4.0, 5.0, 6.0, 7.0, 8.0, 9.0] [500.0, 750.0, 1000.0, 1250.0, 1500.0, 1750.0, 2000.0, 2250.0, 2500.0, 2750.0]\n"
          ],
          "name": "stdout"
        }
      ]
    },
    {
      "cell_type": "code",
      "metadata": {
        "id": "kmeXKRtEEmHh"
      },
      "source": [
        ""
      ],
      "execution_count": 4,
      "outputs": []
    },
    {
      "cell_type": "markdown",
      "metadata": {
        "id": "6Aw2QexYFPxc"
      },
      "source": [
        "# 4.0 Create Single Layer Sequential TensorFlow model"
      ]
    },
    {
      "cell_type": "code",
      "metadata": {
        "id": "l63OmYJiFUPl"
      },
      "source": [
        "model1=tf.keras.Sequential()# for optimizer = 'sgd', loss='mean_squared_error'\n",
        "model2=tf.keras.Sequential()# for optimizer = 'adam', loss='mean_squared_error'"
      ],
      "execution_count": 5,
      "outputs": []
    },
    {
      "cell_type": "code",
      "metadata": {
        "id": "oTm-Aq8RFXA_"
      },
      "source": [
        "model1.add(tf.keras.layers.Dense(units=1))\n",
        "model2.add(tf.keras.layers.Dense(units=1))"
      ],
      "execution_count": 6,
      "outputs": []
    },
    {
      "cell_type": "markdown",
      "metadata": {
        "id": "inP1qAm0Fu0A"
      },
      "source": [
        "# 5.0 Compile model"
      ]
    },
    {
      "cell_type": "code",
      "metadata": {
        "id": "PdblvTxEFcSQ"
      },
      "source": [
        "model1.compile(optimizer='sgd',loss='mean_squared_error')\n",
        "model2.compile(optimizer='adam',loss='mean_squared_error')"
      ],
      "execution_count": 7,
      "outputs": []
    },
    {
      "cell_type": "markdown",
      "metadata": {
        "id": "bnHgSpe8F5cI"
      },
      "source": [
        "# 6.0 Fit model"
      ]
    },
    {
      "cell_type": "code",
      "metadata": {
        "id": "pnpPO9KoFhLP"
      },
      "source": [
        "model1.fit(x,y,epochs=1000)"
      ],
      "execution_count": null,
      "outputs": []
    },
    {
      "cell_type": "code",
      "metadata": {
        "id": "ZkdWiTHjKzA-"
      },
      "source": [
        "model2.fit(x,y,epochs=1000)"
      ],
      "execution_count": null,
      "outputs": []
    },
    {
      "cell_type": "markdown",
      "metadata": {
        "id": "6LS6wWlQF8oP"
      },
      "source": [
        "# 7.0 Predict with model\n",
        "predict the cost of a 4 bedroom apartment.  Recall that it should be 500+4*250 = 1500"
      ]
    },
    {
      "cell_type": "code",
      "metadata": {
        "id": "M9l6bwgNFki2",
        "colab": {
          "base_uri": "https://localhost:8080/"
        },
        "outputId": "b02cc3c9-9fa4-4652-a554-4ff79c3836bb"
      },
      "source": [
        "print(model1.predict([4.]))"
      ],
      "execution_count": 10,
      "outputs": [
        {
          "output_type": "stream",
          "text": [
            "[[1499.436]]\n"
          ],
          "name": "stdout"
        }
      ]
    },
    {
      "cell_type": "code",
      "metadata": {
        "id": "um5_Ysv6FqNB",
        "colab": {
          "base_uri": "https://localhost:8080/"
        },
        "outputId": "9ee8a02d-70bf-4cf1-9764-a2c983ed4f31"
      },
      "source": [
        "print(model2.predict([4.]))"
      ],
      "execution_count": 11,
      "outputs": [
        {
          "output_type": "stream",
          "text": [
            "[[10.031349]]\n"
          ],
          "name": "stdout"
        }
      ]
    },
    {
      "cell_type": "code",
      "metadata": {
        "id": "EcqwA3kQLmGs"
      },
      "source": [
        ""
      ],
      "execution_count": 11,
      "outputs": []
    },
    {
      "cell_type": "markdown",
      "metadata": {
        "id": "Wn9awBD8L3Of"
      },
      "source": [
        "# 8.0 Conclusion\n",
        "\n",
        "Looks like model1 predicted much better than model2.  Therefore, using Stochastic Gradient Descent (SGD) instead of Adam for this Regression problem appears to be the better optimizer.  Adam couldn't converge, hence why the loss remained so high."
      ]
    },
    {
      "cell_type": "code",
      "metadata": {
        "id": "VFSz252VL5Su",
        "colab": {
          "base_uri": "https://localhost:8080/"
        },
        "outputId": "5021bdca-aa7d-47bd-ba8a-de0a347fbd0f"
      },
      "source": [
        "model1.save('model1') #save model\n",
        "model2.save('model2') #save model"
      ],
      "execution_count": 12,
      "outputs": [
        {
          "output_type": "stream",
          "text": [
            "INFO:tensorflow:Assets written to: model1/assets\n",
            "INFO:tensorflow:Assets written to: model2/assets\n"
          ],
          "name": "stdout"
        }
      ]
    },
    {
      "cell_type": "markdown",
      "metadata": {
        "id": "FRrm0IKHgrXM"
      },
      "source": [
        "# Zip Models"
      ]
    },
    {
      "cell_type": "code",
      "metadata": {
        "colab": {
          "base_uri": "https://localhost:8080/"
        },
        "id": "muQ_eWKc1gpk",
        "outputId": "e0bd1589-cfd6-424c-e655-8bbd55fbfa15"
      },
      "source": [
        "!zip -r /content/model1.zip /content/model1"
      ],
      "execution_count": 13,
      "outputs": [
        {
          "output_type": "stream",
          "text": [
            "  adding: content/model1/ (stored 0%)\n",
            "  adding: content/model1/assets/ (stored 0%)\n",
            "  adding: content/model1/saved_model.pb (deflated 85%)\n",
            "  adding: content/model1/keras_metadata.pb (deflated 78%)\n",
            "  adding: content/model1/variables/ (stored 0%)\n",
            "  adding: content/model1/variables/variables.index (deflated 44%)\n",
            "  adding: content/model1/variables/variables.data-00000-of-00001 (deflated 63%)\n"
          ],
          "name": "stdout"
        }
      ]
    },
    {
      "cell_type": "code",
      "metadata": {
        "colab": {
          "base_uri": "https://localhost:8080/"
        },
        "id": "l8cuWNSn1y0G",
        "outputId": "156a6a10-6989-4202-9cc6-b31b0897475d"
      },
      "source": [
        "!zip -r /content/model2.zip /content/model2"
      ],
      "execution_count": 14,
      "outputs": [
        {
          "output_type": "stream",
          "text": [
            "  adding: content/model2/ (stored 0%)\n",
            "  adding: content/model2/assets/ (stored 0%)\n",
            "  adding: content/model2/saved_model.pb (deflated 84%)\n",
            "  adding: content/model2/keras_metadata.pb (deflated 78%)\n",
            "  adding: content/model2/variables/ (stored 0%)\n",
            "  adding: content/model2/variables/variables.index (deflated 52%)\n",
            "  adding: content/model2/variables/variables.data-00000-of-00001 (deflated 67%)\n"
          ],
          "name": "stdout"
        }
      ]
    },
    {
      "cell_type": "markdown",
      "metadata": {
        "id": "nbIbIOWJD0z3"
      },
      "source": [
        "# Install **rclone**\n",
        "This is so you can save your checkpoints weights to your actual google drive for restoration."
      ]
    },
    {
      "cell_type": "code",
      "metadata": {
        "id": "3JZkhNVByOq-"
      },
      "source": [
        "! curl https://rclone.org/install.sh | sudo bash"
      ],
      "execution_count": null,
      "outputs": []
    },
    {
      "cell_type": "markdown",
      "metadata": {
        "id": "KCgqY-B7EJxi"
      },
      "source": [
        "You want to create a remote configuration with rclone.  Use the default recommendations."
      ]
    },
    {
      "cell_type": "code",
      "metadata": {
        "id": "7gOec5AkyF-L"
      },
      "source": [
        "!rclone config"
      ],
      "execution_count": null,
      "outputs": []
    },
    {
      "cell_type": "markdown",
      "metadata": {
        "id": "2a96jdVeEZiy"
      },
      "source": [
        "# Copy Content to **Google Drive** with **rclone**\n",
        "Try to copy exisiting weights to a future directory to ensure rclone is configured right"
      ]
    },
    {
      "cell_type": "markdown",
      "metadata": {
        "id": "OIjidiznFvJ3"
      },
      "source": [
        "This line tests the ability to copy known weights to a directory on you **Google Drive** with **rclone**"
      ]
    },
    {
      "cell_type": "code",
      "metadata": {
        "id": "220dIpBS_zBv"
      },
      "source": [
        "!rclone copy \"/content/\"  remote:\"/Colab_Notebooks/GitHub/TensorFlow_Examples/Basics/Wk1/content\""
      ],
      "execution_count": 17,
      "outputs": []
    },
    {
      "cell_type": "code",
      "metadata": {
        "id": "EFA8LYyM__DQ"
      },
      "source": [
        ""
      ],
      "execution_count": 17,
      "outputs": []
    }
  ]
}