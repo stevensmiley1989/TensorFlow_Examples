{
  "nbformat": 4,
  "nbformat_minor": 0,
  "metadata": {
    "colab": {
      "name": "TF_ANN_Single_Layer_Sequential_Regression.ipynb",
      "provenance": [],
      "collapsed_sections": [],
      "toc_visible": true,
      "authorship_tag": "ABX9TyPL6bYmWGdrOLL3LeKfh1jl",
      "include_colab_link": true
    },
    "kernelspec": {
      "name": "python3",
      "display_name": "Python 3"
    },
    "language_info": {
      "name": "python"
    }
  },
  "cells": [
    {
      "cell_type": "markdown",
      "metadata": {
        "id": "view-in-github",
        "colab_type": "text"
      },
      "source": [
        "<a href=\"https://colab.research.google.com/github/stevensmiley1989/TensorFlow_Examples/blob/main/TF_ANN_Single_Layer_Sequential_Regression.ipynb\" target=\"_parent\"><img src=\"https://colab.research.google.com/assets/colab-badge.svg\" alt=\"Open In Colab\"/></a>"
      ]
    },
    {
      "cell_type": "markdown",
      "metadata": {
        "id": "JJ_4WZvaDfC5"
      },
      "source": [
        "# 1.0  Purpose\n",
        "The purpose of this notebook is to show a simple example of an Artificial Neural Network (ANN) using TensorFlow to predict the cost of an apartment per month based on the number of rooms.\n",
        "\n",
        "Assume the cost of an apartment per month = 500 + 250 per bedroom, such that 1 bedroom apartment costs 750 per month, 2 bedroom apartment costs 1000, etc.\n",
        "\n",
        "We want to predict the cost of a 4 bedroom apartment with this neural network.  "
      ]
    },
    {
      "cell_type": "markdown",
      "metadata": {
        "id": "whREEHc7EJQe"
      },
      "source": [
        "# 2.0 Import Libraries"
      ]
    },
    {
      "cell_type": "code",
      "metadata": {
        "id": "NuHYAE8gDCY0"
      },
      "source": [
        "import tensorflow as tf\n",
        "import numpy as np"
      ],
      "execution_count": 1,
      "outputs": []
    },
    {
      "cell_type": "code",
      "metadata": {
        "id": "UBQRKz3wDZE2",
        "colab": {
          "base_uri": "https://localhost:8080/",
          "height": 36
        },
        "outputId": "c3025047-f780-4459-8120-fe76e39b9404"
      },
      "source": [
        "tf.__version__"
      ],
      "execution_count": 2,
      "outputs": [
        {
          "output_type": "execute_result",
          "data": {
            "application/vnd.google.colaboratory.intrinsic+json": {
              "type": "string"
            },
            "text/plain": [
              "'2.5.0'"
            ]
          },
          "metadata": {
            "tags": []
          },
          "execution_count": 2
        }
      ]
    },
    {
      "cell_type": "code",
      "metadata": {
        "id": "lesiX2DBDbVy",
        "colab": {
          "base_uri": "https://localhost:8080/",
          "height": 36
        },
        "outputId": "685b56b8-9eeb-499e-8026-715ab369826c"
      },
      "source": [
        "np.__version__"
      ],
      "execution_count": 3,
      "outputs": [
        {
          "output_type": "execute_result",
          "data": {
            "application/vnd.google.colaboratory.intrinsic+json": {
              "type": "string"
            },
            "text/plain": [
              "'1.19.5'"
            ]
          },
          "metadata": {
            "tags": []
          },
          "execution_count": 3
        }
      ]
    },
    {
      "cell_type": "markdown",
      "metadata": {
        "id": "Rmw2eU48FDYy"
      },
      "source": [
        "# 3.0 Generate 10 datapoints for apartments using formula defined in purpose"
      ]
    },
    {
      "cell_type": "code",
      "metadata": {
        "id": "mDjduFyMDePh",
        "colab": {
          "base_uri": "https://localhost:8080/"
        },
        "outputId": "1b10c569-b180-4bc8-884b-880f777191e2"
      },
      "source": [
        "x=[]\n",
        "y=[]\n",
        "for i in range(10):\n",
        "  x.append(np.float(i))\n",
        "  y.append(500.+250.*np.float(i))\n",
        "print(x,y)"
      ],
      "execution_count": 4,
      "outputs": [
        {
          "output_type": "execute_result",
          "data": {
            "text/plain": [
              "([0.0, 1.0, 2.0, 3.0, 4.0, 5.0, 6.0, 7.0, 8.0, 9.0],\n",
              " [500.0,\n",
              "  750.0,\n",
              "  1000.0,\n",
              "  1250.0,\n",
              "  1500.0,\n",
              "  1750.0,\n",
              "  2000.0,\n",
              "  2250.0,\n",
              "  2500.0,\n",
              "  2750.0])"
            ]
          },
          "metadata": {
            "tags": []
          },
          "execution_count": 4
        }
      ]
    },
    {
      "cell_type": "code",
      "metadata": {
        "id": "kmeXKRtEEmHh"
      },
      "source": [
        ""
      ],
      "execution_count": 4,
      "outputs": []
    },
    {
      "cell_type": "markdown",
      "metadata": {
        "id": "6Aw2QexYFPxc"
      },
      "source": [
        "# 4.0 Create Single Layer Sequential TensorFlow model"
      ]
    },
    {
      "cell_type": "code",
      "metadata": {
        "id": "l63OmYJiFUPl"
      },
      "source": [
        "model1=tf.keras.Sequential()# for optimizer = 'sgd', loss='mean_squared_error'\n",
        "model2=tf.keras.Sequential()# for optimizer = 'adam', loss='mean_squared_error'"
      ],
      "execution_count": 5,
      "outputs": []
    },
    {
      "cell_type": "code",
      "metadata": {
        "id": "oTm-Aq8RFXA_"
      },
      "source": [
        "model1.add(tf.keras.layers.Dense(units=1))\n",
        "model2.add(tf.keras.layers.Dense(units=1))"
      ],
      "execution_count": 6,
      "outputs": []
    },
    {
      "cell_type": "markdown",
      "metadata": {
        "id": "inP1qAm0Fu0A"
      },
      "source": [
        "# 5.0 Compile model"
      ]
    },
    {
      "cell_type": "code",
      "metadata": {
        "id": "PdblvTxEFcSQ"
      },
      "source": [
        "model1.compile(optimizer='sgd',loss='mean_squared_error')\n",
        "model2.compile(optimizer='adam',loss='mean_squared_error')"
      ],
      "execution_count": 7,
      "outputs": []
    },
    {
      "cell_type": "markdown",
      "metadata": {
        "id": "bnHgSpe8F5cI"
      },
      "source": [
        "# 6.0 Fit model"
      ]
    },
    {
      "cell_type": "code",
      "metadata": {
        "id": "pnpPO9KoFhLP"
      },
      "source": [
        "model1.fit(x,y,epochs=1000)"
      ],
      "execution_count": null,
      "outputs": []
    },
    {
      "cell_type": "code",
      "metadata": {
        "id": "ZkdWiTHjKzA-"
      },
      "source": [
        "model2.fit(x,y,epochs=1000)"
      ],
      "execution_count": null,
      "outputs": []
    },
    {
      "cell_type": "markdown",
      "metadata": {
        "id": "6LS6wWlQF8oP"
      },
      "source": [
        "# 7.0 Predict with model\n",
        "predict the cost of a 4 bedroom apartment.  Recall that it should be 500+4*250 = 1500"
      ]
    },
    {
      "cell_type": "code",
      "metadata": {
        "id": "M9l6bwgNFki2",
        "colab": {
          "base_uri": "https://localhost:8080/"
        },
        "outputId": "a4bd9ffb-5133-4c4b-d91f-99b430c801f0"
      },
      "source": [
        "print(model1.predict([4.]))"
      ],
      "execution_count": 13,
      "outputs": [
        {
          "output_type": "stream",
          "text": [
            "[[1499.436]]\n"
          ],
          "name": "stdout"
        }
      ]
    },
    {
      "cell_type": "code",
      "metadata": {
        "id": "um5_Ysv6FqNB",
        "colab": {
          "base_uri": "https://localhost:8080/"
        },
        "outputId": "d06c7546-85a2-4bca-db37-4823b8290889"
      },
      "source": [
        "print(model2.predict([4.]))"
      ],
      "execution_count": 12,
      "outputs": [
        {
          "output_type": "stream",
          "text": [
            "[[-0.65328944]]\n"
          ],
          "name": "stdout"
        }
      ]
    },
    {
      "cell_type": "code",
      "metadata": {
        "id": "EcqwA3kQLmGs"
      },
      "source": [
        ""
      ],
      "execution_count": 11,
      "outputs": []
    },
    {
      "cell_type": "markdown",
      "metadata": {
        "id": "Wn9awBD8L3Of"
      },
      "source": [
        "# 8.0 Conclusion\n",
        "\n",
        "Looks like model1 predicted much better than model2.  Therefore, using Stochastic Gradient Descent (SGD) instead of Adam for this Regression problem appears to be the better optimizer.  Adam couldn't converge, hence why the loss remained so high."
      ]
    },
    {
      "cell_type": "code",
      "metadata": {
        "id": "VFSz252VL5Su"
      },
      "source": [
        ""
      ],
      "execution_count": 11,
      "outputs": []
    }
  ]
}