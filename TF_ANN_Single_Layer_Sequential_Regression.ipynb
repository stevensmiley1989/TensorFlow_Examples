{
  "nbformat": 4,
  "nbformat_minor": 0,
  "metadata": {
    "colab": {
      "name": "TF_ANN_Single_Layer_Sequential_Regression.ipynb",
      "private_outputs": true,
      "provenance": [],
      "collapsed_sections": [],
      "toc_visible": true
    },
    "kernelspec": {
      "name": "python3",
      "display_name": "Python 3"
    },
    "language_info": {
      "name": "python"
    }
  },
  "cells": [
    {
      "cell_type": "markdown",
      "metadata": {
        "id": "JJ_4WZvaDfC5"
      },
      "source": [
        "# 1.0  Purpose\n",
        "The purpose of this notebook is to show a simple example of an Artificial Neural Network (ANN) using TensorFlow to predict the cost of an apartment per month based on the number of rooms.\n",
        "\n",
        "Assume the cost of an apartment per month = 500 + 250 per bedroom, such that 1 bedroom apartment costs 750 per month, 2 bedroom apartment costs 1000, etc.\n",
        "\n",
        "We want to predict the cost of a 4 bedroom apartment with this neural network.  "
      ]
    },
    {
      "cell_type": "markdown",
      "metadata": {
        "id": "whREEHc7EJQe"
      },
      "source": [
        "# 2.0 Import Libraries"
      ]
    },
    {
      "cell_type": "code",
      "metadata": {
        "id": "NuHYAE8gDCY0"
      },
      "source": [
        "import tensorflow as tf\n",
        "import numpy as np"
      ],
      "execution_count": null,
      "outputs": []
    },
    {
      "cell_type": "code",
      "metadata": {
        "id": "UBQRKz3wDZE2"
      },
      "source": [
        "tf.__version__"
      ],
      "execution_count": null,
      "outputs": []
    },
    {
      "cell_type": "code",
      "metadata": {
        "id": "lesiX2DBDbVy"
      },
      "source": [
        "np.__version__"
      ],
      "execution_count": null,
      "outputs": []
    },
    {
      "cell_type": "markdown",
      "metadata": {
        "id": "Rmw2eU48FDYy"
      },
      "source": [
        "# 3.0 Generate 10 datapoints for apartments using formula defined in purpose"
      ]
    },
    {
      "cell_type": "code",
      "metadata": {
        "id": "mDjduFyMDePh"
      },
      "source": [
        "x=[]\n",
        "y=[]\n",
        "for i in range(10):\n",
        "  x.append(np.float(i))\n",
        "  y.append(500.+250.*np.float(i))\n",
        "print(x,y)"
      ],
      "execution_count": null,
      "outputs": []
    },
    {
      "cell_type": "code",
      "metadata": {
        "id": "kmeXKRtEEmHh"
      },
      "source": [
        ""
      ],
      "execution_count": null,
      "outputs": []
    },
    {
      "cell_type": "markdown",
      "metadata": {
        "id": "6Aw2QexYFPxc"
      },
      "source": [
        "# 4.0 Create Single Layer Sequential TensorFlow model"
      ]
    },
    {
      "cell_type": "code",
      "metadata": {
        "id": "l63OmYJiFUPl"
      },
      "source": [
        "model1=tf.keras.Sequential()# for optimizer = 'sgd', loss='mean_squared_error'\n",
        "model2=tf.keras.Sequential()# for optimizer = 'adam', loss='mean_squared_error'"
      ],
      "execution_count": null,
      "outputs": []
    },
    {
      "cell_type": "code",
      "metadata": {
        "id": "oTm-Aq8RFXA_"
      },
      "source": [
        "model1.add(tf.keras.layers.Dense(units=1))\n",
        "model2.add(tf.keras.layers.Dense(units=1))"
      ],
      "execution_count": null,
      "outputs": []
    },
    {
      "cell_type": "markdown",
      "metadata": {
        "id": "inP1qAm0Fu0A"
      },
      "source": [
        "# 5.0 Compile model"
      ]
    },
    {
      "cell_type": "code",
      "metadata": {
        "id": "PdblvTxEFcSQ"
      },
      "source": [
        "model1.compile(optimizer='sgd',loss='mean_squared_error')\n",
        "model2.compile(optimizer='adam',loss='mean_squared_error')"
      ],
      "execution_count": null,
      "outputs": []
    },
    {
      "cell_type": "markdown",
      "metadata": {
        "id": "bnHgSpe8F5cI"
      },
      "source": [
        "# 6.0 Fit model"
      ]
    },
    {
      "cell_type": "code",
      "metadata": {
        "id": "pnpPO9KoFhLP"
      },
      "source": [
        "model1.fit(x,y,epochs=1000)"
      ],
      "execution_count": null,
      "outputs": []
    },
    {
      "cell_type": "code",
      "metadata": {
        "id": "ZkdWiTHjKzA-"
      },
      "source": [
        "model2.fit(x,y,epochs=1000)"
      ],
      "execution_count": null,
      "outputs": []
    },
    {
      "cell_type": "markdown",
      "metadata": {
        "id": "6LS6wWlQF8oP"
      },
      "source": [
        "# 7.0 Predict with model\n",
        "predict the cost of a 4 bedroom apartment.  Recall that it should be 500+4*250 = 1500"
      ]
    },
    {
      "cell_type": "code",
      "metadata": {
        "id": "M9l6bwgNFki2"
      },
      "source": [
        "print(model1.predict([4.]))"
      ],
      "execution_count": null,
      "outputs": []
    },
    {
      "cell_type": "code",
      "metadata": {
        "id": "um5_Ysv6FqNB"
      },
      "source": [
        "print(model2.predict([4.]))"
      ],
      "execution_count": null,
      "outputs": []
    },
    {
      "cell_type": "code",
      "metadata": {
        "id": "EcqwA3kQLmGs"
      },
      "source": [
        ""
      ],
      "execution_count": null,
      "outputs": []
    },
    {
      "cell_type": "markdown",
      "metadata": {
        "id": "Wn9awBD8L3Of"
      },
      "source": [
        "# 8.0 Conclusion\n",
        "\n",
        "Looks like model1 predicted much better than model2.  Therefore, using Stochastic Gradient Descent (SGD) instead of Adam for this Regression problem appears to be the better optimizer.  Adam couldn't converge, hence why the loss remained so high."
      ]
    },
    {
      "cell_type": "code",
      "metadata": {
        "id": "VFSz252VL5Su"
      },
      "source": [
        ""
      ],
      "execution_count": null,
      "outputs": []
    }
  ]
}